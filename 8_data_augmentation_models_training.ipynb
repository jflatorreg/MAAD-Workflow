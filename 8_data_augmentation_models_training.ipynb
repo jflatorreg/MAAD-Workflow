{
 "cells": [
  {
   "cell_type": "markdown",
   "metadata": {},
   "source": [
    "# Data Augmentation Models Training"
   ]
  },
  {
   "cell_type": "code",
   "execution_count": 1,
   "metadata": {},
   "outputs": [],
   "source": [
    "\"\"\"\n",
    "Supervised learning models are trained.\n",
    "\n",
    "@author: Juan Felipe Latorre Gil - jflatorreg@unal.edu.co\n",
    "\"\"\"\n",
    "\n",
    "%matplotlib inline\n",
    "\n",
    "import pandas as pd\n",
    "import numpy as np\n",
    "import matplotlib.pyplot as plt\n",
    "from matplotlib.colors import Normalize\n",
    "import pylab as pl\n",
    "import seaborn as sns\n",
    "plt.style.use(['ggplot','seaborn-paper'])\n",
    "from time import process_time\n",
    "from sklearn.model_selection import GridSearchCV\n",
    "from sklearn.model_selection import cross_val_predict\n",
    "from sklearn.linear_model import LogisticRegression\n",
    "from sklearn.svm import SVC\n",
    "from sklearn.ensemble import RandomForestClassifier\n",
    "from sklearn.neural_network import MLPClassifier\n",
    "from sklearn.metrics import classification_report\n",
    "from sklearn.metrics import confusion_matrix\n",
    "from sklearn.metrics import roc_curve\n",
    "from sklearn.metrics import precision_recall_curve\n",
    "from sklearn.metrics import roc_auc_score\n",
    "from sklearn.metrics import f1_score\n",
    "from sklearn.metrics import recall_score\n",
    "from sklearn.metrics import make_scorer\n",
    "from sklearn.metrics import precision_recall_fscore_support\n",
    "from sklearn import metrics"
   ]
  },
  {
   "cell_type": "code",
   "execution_count": 2,
   "metadata": {},
   "outputs": [
    {
     "data": {
      "text/plain": [
       "\"\\ndef log_reg(param_grid, X_train, y_train, X_test, y_test):\\n    clf_log_reg = GridSearchCV(LogisticRegression(solver= 'liblinear'), param_grid=param_grid_log_reg, \\n                               verbose=0,return_train_score=True, n_jobs=-1, cv=5, iid = False) \\n    clf_log_reg.fit(X_train, y_train)\\n    y_pred_log_reg = clf_log_reg.predict(X_test)\\n    score_micro = precision_recall_fscore_support(y_test, y_pred_log_reg, average='micro')\\n    score_macro = precision_recall_fscore_support(y_test, y_pred_log_reg, average='macro')\\n    score_weighted = precision_recall_fscore_support(y_test, y_pred_log_reg, average='weighted')\\n    \\n    return score_micro[0], score_micro[1], score_micro[2], score_macro[0], score_macro[1], score_macro[2], score_weighted[0], score_weighted[1], score_weighted[2]\\n\\n\\n\\n\""
      ]
     },
     "execution_count": 2,
     "metadata": {},
     "output_type": "execute_result"
    }
   ],
   "source": [
    "\"\"\"\n",
    "def log_reg(param_grid, X_train, y_train, X_test, y_test):\n",
    "    clf_log_reg = GridSearchCV(LogisticRegression(solver= 'liblinear'), param_grid=param_grid_log_reg, \n",
    "                               verbose=0,return_train_score=True, n_jobs=-1, cv=5, iid = False) \n",
    "    clf_log_reg.fit(X_train, y_train)\n",
    "    y_pred_log_reg = clf_log_reg.predict(X_test)\n",
    "    score_micro = precision_recall_fscore_support(y_test, y_pred_log_reg, average='micro')\n",
    "    score_macro = precision_recall_fscore_support(y_test, y_pred_log_reg, average='macro')\n",
    "    score_weighted = precision_recall_fscore_support(y_test, y_pred_log_reg, average='weighted')\n",
    "    \n",
    "    return score_micro[0], score_micro[1], score_micro[2], score_macro[0], score_macro[1], score_macro[2], score_weighted[0], score_weighted[1], score_weighted[2]\n",
    "\n",
    "\n",
    "\n",
    "\"\"\""
   ]
  },
  {
   "cell_type": "code",
   "execution_count": 3,
   "metadata": {},
   "outputs": [],
   "source": [
    "def log_reg(X_train, y_train, X_test, y_test):\n",
    "    clf_log_reg = LogisticRegression(solver= 'liblinear', C=1)\n",
    "    clf_log_reg.fit(X_train, y_train)\n",
    "    y_pred_log_reg = clf_log_reg.predict(X_test)\n",
    "    score_micro = precision_recall_fscore_support(y_test, y_pred_log_reg, average='micro')\n",
    "    score_macro = precision_recall_fscore_support(y_test, y_pred_log_reg, average='macro')\n",
    "    score_weighted = precision_recall_fscore_support(y_test, y_pred_log_reg, average='weighted')\n",
    "    \n",
    "    return score_micro[0], score_micro[1], score_micro[2], score_macro[0], score_macro[1], score_macro[2], score_weighted[0], score_weighted[1], score_weighted[2]"
   ]
  },
  {
   "cell_type": "code",
   "execution_count": 4,
   "metadata": {},
   "outputs": [],
   "source": [
    "def SVM_rbf_clf(param_grid, X_train, y_train, X_test, y_test):\n",
    "    clf_svm_rbf = GridSearchCV(SVC(kernel='rbf'), param_grid=param_grid, verbose=0, iid = False,\n",
    "                               return_train_score=True, cv=5)\n",
    "    clf_svm_rbf.fit(X_train, y_train)    \n",
    "    y_pred_svm_rbf = clf_svm_rbf.predict(X_test)\n",
    "    score_micro = precision_recall_fscore_support(y_test, y_pred_svm_rbf, average='micro')\n",
    "    score_macro = precision_recall_fscore_support(y_test, y_pred_svm_rbf, average='macro')\n",
    "    score_weighted = precision_recall_fscore_support(y_test, y_pred_svm_rbf, average='weighted')\n",
    "    return score_micro[0], score_micro[1], score_micro[2], score_macro[0], score_macro[1], score_macro[2], score_weighted[0], score_weighted[1], score_weighted[2]"
   ]
  },
  {
   "cell_type": "code",
   "execution_count": 5,
   "metadata": {},
   "outputs": [],
   "source": [
    "def random_forests_clf(param_grid, X_train, y_train, X_test, y_test):\n",
    "    clf_rf = GridSearchCV(RandomForestClassifier(random_state=42, n_jobs=-1), param_grid=param_grid_rf, verbose=0, iid = False,\n",
    "                          return_train_score=True, n_jobs=-1, cv=5)\n",
    "    clf_rf.fit(X_train, y_train)\n",
    "    y_pred_rf = clf_rf.predict(X_test)\n",
    "    score_micro = precision_recall_fscore_support(y_test, y_pred_rf, average='micro')\n",
    "    score_macro = precision_recall_fscore_support(y_test, y_pred_rf, average='macro')\n",
    "    score_weighted = precision_recall_fscore_support(y_test, y_pred_rf, average='weighted')\n",
    "    return score_micro[0], score_micro[1], score_micro[2], score_macro[0], score_macro[1], score_macro[2], score_weighted[0], score_weighted[1], score_weighted[2]"
   ]
  },
  {
   "cell_type": "code",
   "execution_count": 6,
   "metadata": {},
   "outputs": [],
   "source": [
    "def mlp_clf(param_grid, X_train, y_train, X_test, y_test):\n",
    "    clf_mlp = GridSearchCV(MLPClassifier(random_state=42), param_grid=param_grid_mlp, verbose=0, iid = False,\n",
    "                           return_train_score=True, n_jobs=-1, cv=5)\n",
    "    clf_mlp.fit(X_train, y_train)\n",
    "    y_pred_mlp = clf_mlp.predict(X_test)\n",
    "    score_micro = precision_recall_fscore_support(y_test, y_pred_mlp, average='micro')\n",
    "    score_macro = precision_recall_fscore_support(y_test, y_pred_mlp, average='macro')\n",
    "    score_weighted = precision_recall_fscore_support(y_test, y_pred_mlp, average='weighted')\n",
    "    return score_micro[0], score_micro[1], score_micro[2], score_macro[0], score_macro[1], score_macro[2], score_weighted[0], score_weighted[1], score_weighted[2]"
   ]
  },
  {
   "cell_type": "code",
   "execution_count": 7,
   "metadata": {},
   "outputs": [],
   "source": [
    "X_train_low_set_1 = np.load('./data_augmentation/X_train_low_set_1.npy')\n",
    "X_test_low_set_1 = np.load('./data_augmentation/X_test_low_set_1.npy')\n",
    "y_train_low_set_1 = np.load('./data_augmentation/y_train_low_set_1.npy')\n",
    "y_test_low_set_1 = np.load('./data_augmentation/y_test_low_set_1.npy')\n",
    "\n",
    "X_train_med_set_1 = np.load('./data_augmentation/X_train_med_set_1.npy')\n",
    "X_test_med_set_1 = np.load('./data_augmentation/X_test_med_set_1.npy')\n",
    "y_train_med_set_1 = np.load('./data_augmentation/y_train_med_set_1.npy')\n",
    "y_test_med_set_1 = np.load('./data_augmentation/y_test_med_set_1.npy')\n",
    "\n",
    "X_train_high_set_1 = np.load('./data_augmentation/X_train_high_set_1.npy')\n",
    "X_test_high_set_1 = np.load('./data_augmentation/X_test_high_set_1.npy')\n",
    "y_train_high_set_1 = np.load('./data_augmentation/y_train_high_set_1.npy')\n",
    "y_test_high_set_1 = np.load('./data_augmentation/y_test_high_set_1.npy')"
   ]
  },
  {
   "cell_type": "code",
   "execution_count": 8,
   "metadata": {},
   "outputs": [],
   "source": [
    "X_train_low_set_2 = np.load('./data_augmentation/X_train_low_set_2.npy')\n",
    "X_test_low_set_2 = np.load('./data_augmentation/X_test_low_set_2.npy')\n",
    "y_train_low_set_2 = np.load('./data_augmentation/y_train_low_set_2.npy')\n",
    "y_test_low_set_2 = np.load('./data_augmentation/y_test_low_set_2.npy')\n",
    "\n",
    "X_train_med_set_2 = np.load('./data_augmentation/X_train_med_set_2.npy')\n",
    "X_test_med_set_2 = np.load('./data_augmentation/X_test_med_set_2.npy')\n",
    "y_train_med_set_2 = np.load('./data_augmentation/y_train_med_set_2.npy')\n",
    "y_test_med_set_2 = np.load('./data_augmentation/y_test_med_set_2.npy')\n",
    "\n",
    "X_train_high_set_2 = np.load('./data_augmentation/X_train_high_set_2.npy')\n",
    "X_test_high_set_2 = np.load('./data_augmentation/X_test_high_set_2.npy')\n",
    "y_train_high_set_2 = np.load('./data_augmentation/y_train_high_set_2.npy')\n",
    "y_test_high_set_2 = np.load('./data_augmentation/y_test_high_set_2.npy')"
   ]
  },
  {
   "cell_type": "code",
   "execution_count": 9,
   "metadata": {},
   "outputs": [],
   "source": [
    "X_train_low_set_3 = np.load('./data_augmentation/X_train_low_set_3.npy')\n",
    "X_test_low_set_3 = np.load('./data_augmentation/X_test_low_set_3.npy')\n",
    "y_train_low_set_3 = np.load('./data_augmentation/y_train_low_set_3.npy')\n",
    "y_test_low_set_3 = np.load('./data_augmentation/y_test_low_set_3.npy')\n",
    "\n",
    "X_train_med_set_3 = np.load('./data_augmentation/X_train_med_set_3.npy')\n",
    "X_test_med_set_3 = np.load('./data_augmentation/X_test_med_set_3.npy')\n",
    "y_train_med_set_3 = np.load('./data_augmentation/y_train_med_set_3.npy')\n",
    "y_test_med_set_3 = np.load('./data_augmentation/y_test_med_set_3.npy')\n",
    "\n",
    "X_train_high_set_3 = np.load('./data_augmentation/X_train_high_set_3.npy')\n",
    "X_test_high_set_3 = np.load('./data_augmentation/X_test_high_set_3.npy')\n",
    "y_train_high_set_3 = np.load('./data_augmentation/y_train_high_set_3.npy')\n",
    "y_test_high_set_3 = np.load('./data_augmentation/y_test_high_set_3.npy')"
   ]
  },
  {
   "cell_type": "code",
   "execution_count": null,
   "metadata": {},
   "outputs": [],
   "source": []
  },
  {
   "cell_type": "code",
   "execution_count": null,
   "metadata": {},
   "outputs": [],
   "source": []
  },
  {
   "cell_type": "code",
   "execution_count": null,
   "metadata": {},
   "outputs": [],
   "source": []
  },
  {
   "cell_type": "code",
   "execution_count": 10,
   "metadata": {},
   "outputs": [],
   "source": [
    "X_train_low_cl = np.load('./data_augmentation/X_train_low.npy')\n",
    "X_test_low_cl = np.load('./data_augmentation/X_test_low.npy')\n",
    "y_train_low_cl = np.load('./data_augmentation/y_train_low.npy')\n",
    "y_test_low_cl = np.load('./data_augmentation/y_test_low.npy')\n",
    "\n",
    "X_train_med_cl = np.load('./data_augmentation/X_train_med.npy')\n",
    "X_test_med_cl = np.load('./data_augmentation/X_test_med.npy')\n",
    "y_train_med_cl = np.load('./data_augmentation/y_train_med.npy')\n",
    "y_test_med_cl = np.load('./data_augmentation/y_test_med.npy')\n",
    "\n",
    "X_train_high_cl = np.load('./data_augmentation/X_train_high.npy')\n",
    "X_test_high_cl = np.load('./data_augmentation/X_test_high.npy')\n",
    "y_train_high_cl = np.load('./data_augmentation/y_train_high.npy')\n",
    "y_test_high_cl = np.load('./data_augmentation/y_test_high.npy')"
   ]
  },
  {
   "cell_type": "code",
   "execution_count": 11,
   "metadata": {},
   "outputs": [],
   "source": [
    "X_train_low = np.load('./results/X_train_low.npy')\n",
    "X_test_low = np.load('./results/X_test_low.npy')\n",
    "y_train_low = np.load('./results/y_train_low.npy')\n",
    "y_test_low = np.load('./results/y_test_low.npy')\n",
    "\n",
    "X_train_med = np.load('./results/X_train_med.npy')\n",
    "X_test_med = np.load('./results/X_test_med.npy')\n",
    "y_train_med = np.load('./results/y_train_med.npy')\n",
    "y_test_med = np.load('./results/y_test_med.npy')\n",
    "\n",
    "X_train_high = np.load('./results/X_train_high.npy')\n",
    "X_test_high = np.load('./results/X_test_high.npy')\n",
    "y_train_high = np.load('./results/y_train_high.npy')\n",
    "y_test_high = np.load('./results/y_test_high.npy')"
   ]
  },
  {
   "cell_type": "code",
   "execution_count": 12,
   "metadata": {},
   "outputs": [],
   "source": [
    "#X_train_low_aug = np.concatenate((X_train_low_cl,X_train_low_set_1[:73],X_train_low_set_2[:73],X_train_low_set_3[:73]))\n",
    "\n",
    "#y_train_low_aug = np.concatenate((y_train_low_cl,y_train_low_set_1[:73],y_train_low_set_2[:73],y_train_low_set_3[:73]))"
   ]
  },
  {
   "cell_type": "code",
   "execution_count": 13,
   "metadata": {},
   "outputs": [],
   "source": [
    "#X_train_med_aug = np.concatenate((X_train_med_cl,X_train_med_set_1[:73],X_train_med_set_2[:73],X_train_med_set_3[:73]))\n",
    "\n",
    "#y_train_med_aug = np.concatenate((y_train_med_cl,y_train_med_set_1[:73],y_train_med_set_2[:73],y_train_med_set_3[:73]))"
   ]
  },
  {
   "cell_type": "code",
   "execution_count": 14,
   "metadata": {},
   "outputs": [],
   "source": [
    "#X_train_high_aug = np.concatenate((X_train_high_cl,X_train_high_set_1[:73],X_train_high_set_2[:73],X_train_high_set_3[:73]))\n",
    "\n",
    "#y_train_high_aug = np.concatenate((y_train_high_cl,y_train_high_set_1[:73],y_train_high_set_2[:73],y_train_high_set_3[:73]))"
   ]
  },
  {
   "cell_type": "code",
   "execution_count": 15,
   "metadata": {},
   "outputs": [],
   "source": [
    "X_train_low_aug = np.concatenate((X_train_low_cl,X_train_low_set_1,X_train_low_set_2,X_train_low_set_3))\n",
    "\n",
    "y_train_low_aug = np.concatenate((y_train_low_cl,y_train_low_set_1,y_train_low_set_2,y_train_low_set_3))"
   ]
  },
  {
   "cell_type": "code",
   "execution_count": 16,
   "metadata": {},
   "outputs": [],
   "source": [
    "X_train_med_aug = np.concatenate((X_train_med_cl,X_train_med_set_1,X_train_med_set_2,X_train_med_set_3))\n",
    "\n",
    "y_train_med_aug = np.concatenate((y_train_med_cl,y_train_med_set_1,y_train_med_set_2,y_train_med_set_3))"
   ]
  },
  {
   "cell_type": "code",
   "execution_count": 17,
   "metadata": {},
   "outputs": [],
   "source": [
    "X_train_high_aug = np.concatenate((X_train_high_cl,X_train_high_set_1,X_train_high_set_2,X_train_high_set_3))\n",
    "\n",
    "y_train_high_aug = np.concatenate((y_train_high_cl,y_train_high_set_1,y_train_high_set_2,y_train_high_set_3))"
   ]
  },
  {
   "cell_type": "code",
   "execution_count": null,
   "metadata": {},
   "outputs": [],
   "source": []
  },
  {
   "cell_type": "code",
   "execution_count": null,
   "metadata": {},
   "outputs": [],
   "source": []
  },
  {
   "cell_type": "code",
   "execution_count": 18,
   "metadata": {},
   "outputs": [
    {
     "data": {
      "text/plain": [
       "229"
      ]
     },
     "execution_count": 18,
     "metadata": {},
     "output_type": "execute_result"
    }
   ],
   "source": [
    "len(y_train_high_set_1)"
   ]
  },
  {
   "cell_type": "code",
   "execution_count": 19,
   "metadata": {},
   "outputs": [
    {
     "data": {
      "text/plain": [
       "array([0., 1.])"
      ]
     },
     "execution_count": 19,
     "metadata": {},
     "output_type": "execute_result"
    }
   ],
   "source": [
    "np.unique(y_train_high_aug)"
   ]
  },
  {
   "cell_type": "code",
   "execution_count": 20,
   "metadata": {},
   "outputs": [
    {
     "data": {
      "text/plain": [
       "array([1., 1., 1., 1., 1., 1., 1., 1., 1., 1., 1., 1., 1., 1., 1., 1., 1.,\n",
       "       1., 1., 1., 1., 1., 1., 1., 1., 1., 1., 1., 1., 1., 1., 1., 1., 1.,\n",
       "       1., 1., 1., 1., 1., 1., 1., 1., 1., 1., 1., 1., 1., 1., 1., 1., 1.,\n",
       "       1., 1., 1., 1., 1., 1., 1., 1., 1., 1., 1., 1., 1., 1., 1., 1., 1.,\n",
       "       1., 1., 1., 1., 1., 0., 0., 0., 0., 0., 0., 0., 0., 0., 0., 0., 0.,\n",
       "       0., 0., 0., 0., 0., 0., 0., 0., 0., 0., 0., 0., 0., 0., 0., 0., 0.,\n",
       "       0., 0., 0., 0., 0., 0., 0., 0., 0., 0., 0., 0., 0., 0., 0., 0., 0.,\n",
       "       0., 0., 0., 0., 0., 0., 0., 0., 0., 0., 0., 0., 0., 0., 0., 0., 0.,\n",
       "       0., 0., 0., 0., 0., 0., 0., 0., 0., 0., 0., 0., 0., 0., 0., 0., 0.,\n",
       "       0., 0., 0., 0., 0., 0., 0., 0., 0., 0., 0., 0., 0., 0., 0., 0., 0.,\n",
       "       0., 0., 0., 0., 0., 0., 0., 0., 0., 0., 0., 0., 0., 0., 0., 0., 0.,\n",
       "       0., 0., 0., 0., 0., 0., 0., 0., 0., 0., 0., 0., 0., 0., 0., 0., 0.,\n",
       "       0., 0., 0., 0., 0., 0., 0., 0., 0., 0., 0., 0., 0., 0., 0., 0., 0.,\n",
       "       0., 0., 0., 0., 0., 0., 0., 0.])"
      ]
     },
     "execution_count": 20,
     "metadata": {},
     "output_type": "execute_result"
    }
   ],
   "source": [
    "y_train_low_set_1"
   ]
  },
  {
   "cell_type": "code",
   "execution_count": 21,
   "metadata": {},
   "outputs": [
    {
     "data": {
      "text/plain": [
       "{0.0: 156, 1.0: 73}"
      ]
     },
     "execution_count": 21,
     "metadata": {},
     "output_type": "execute_result"
    }
   ],
   "source": [
    "unique, counts = np.unique(y_train_high_set_3, return_counts=True)\n",
    "dict(zip(unique, counts))"
   ]
  },
  {
   "cell_type": "code",
   "execution_count": 22,
   "metadata": {},
   "outputs": [
    {
     "data": {
      "text/plain": [
       "array([1., 1., 1., 1., 1., 1., 1., 1., 1., 1., 1., 1., 1., 1., 1., 1., 1.,\n",
       "       1., 1., 1., 1., 1., 1., 1., 1., 1., 1., 1., 1., 1., 1., 1., 1., 1.,\n",
       "       1., 1., 1., 1., 1., 1., 1., 1., 1., 1., 1., 1., 1., 1., 1., 1., 1.,\n",
       "       1., 1., 1., 1., 1., 1., 1., 1., 1., 1., 1., 1., 1., 1., 1., 1., 1.,\n",
       "       1., 1., 1., 1., 1.])"
      ]
     },
     "execution_count": 22,
     "metadata": {},
     "output_type": "execute_result"
    }
   ],
   "source": [
    "y_train_low_set_1[:73]"
   ]
  },
  {
   "cell_type": "code",
   "execution_count": null,
   "metadata": {},
   "outputs": [],
   "source": []
  },
  {
   "cell_type": "code",
   "execution_count": null,
   "metadata": {},
   "outputs": [],
   "source": []
  },
  {
   "cell_type": "code",
   "execution_count": null,
   "metadata": {},
   "outputs": [],
   "source": []
  },
  {
   "cell_type": "code",
   "execution_count": 23,
   "metadata": {},
   "outputs": [],
   "source": [
    "step = 1"
   ]
  },
  {
   "cell_type": "code",
   "execution_count": 24,
   "metadata": {},
   "outputs": [
    {
     "name": "stdout",
     "output_type": "stream",
     "text": [
      "Parameters: {'C': [0.1, 0.2, 0.3, 0.4, 0.5, 0.6, 0.7, 0.8, 0.9, 1.0]}\n"
     ]
    }
   ],
   "source": [
    "grid_log_reg = [i for i in range(1, 11, 1)]\n",
    "param_grid_log_reg = {'C': [np.round((0.1*i), decimals =2) for i in grid_log_reg]}\n",
    "print('Parameters:', param_grid_log_reg)"
   ]
  },
  {
   "cell_type": "code",
   "execution_count": 25,
   "metadata": {},
   "outputs": [],
   "source": [
    "Precision_micro_low_LR = np.array([])\n",
    "Precision_macro_low_LR = np.array([])\n",
    "Precision_weighted_low_LR = np.array([])\n",
    "\n",
    "Recall_micro_low_LR = np.array([])\n",
    "Recall_macro_low_LR = np.array([])\n",
    "Recall_weighted_low_LR = np.array([])\n",
    "\n",
    "F1_micro_low_LR = np.array([])\n",
    "F1_macro_low_LR = np.array([])\n",
    "F1_weighted_low_LR = np.array([])\n",
    "Sample_Num_low_LR = np.array([])\n",
    "\n",
    "for i in range(587, 2361, step):\n",
    "    \n",
    "    pr_micro, pr_macro, pr_weighted, re_micro, re_macro, re_weighted, f1_micro, f1_macro, f1_weighted = log_reg(X_train_low_aug[:i], y_train_low_aug[:i].astype(int), X_test_low, y_test_low)\n",
    "       \n",
    "    Precision_micro_low_LR = np.append(Precision_micro_low_LR, pr_micro)\n",
    "    Precision_macro_low_LR = np.append(Precision_macro_low_LR, pr_macro)\n",
    "    Precision_weighted_low_LR = np.append(Precision_weighted_low_LR, pr_weighted)    \n",
    "    \n",
    "    Recall_micro_low_LR = np.append(Recall_micro_low_LR, re_micro)\n",
    "    Recall_macro_low_LR = np.append(Recall_macro_low_LR, re_macro)\n",
    "    Recall_weighted_low_LR = np.append(Recall_weighted_low_LR, re_weighted)    \n",
    "    \n",
    "    F1_micro_low_LR = np.append(F1_micro_low_LR, f1_micro)\n",
    "    F1_macro_low_LR = np.append(F1_macro_low_LR, f1_macro)\n",
    "    F1_weighted_low_LR = np.append(F1_weighted_low_LR, f1_weighted)\n",
    "    \n",
    "    Sample_Num_low_LR = np.append(Sample_Num_low_LR, len(y_train_low_aug[:i]))"
   ]
  },
  {
   "cell_type": "code",
   "execution_count": 26,
   "metadata": {},
   "outputs": [],
   "source": [
    "df_plot_low_LR = pd.DataFrame()\n",
    "df_plot_low_LR['Sample Number'] = Sample_Num_low_LR\n",
    "\n",
    "df_plot_low_LR['Precision Micro'] = Precision_micro_low_LR\n",
    "df_plot_low_LR['Precision Macro'] = Precision_macro_low_LR\n",
    "df_plot_low_LR['Precision Weighted'] = Precision_weighted_low_LR\n",
    "\n",
    "df_plot_low_LR['Recall Micro'] = Recall_micro_low_LR\n",
    "df_plot_low_LR['Recall Macro'] = Recall_macro_low_LR\n",
    "df_plot_low_LR['Recall Weighted'] = Recall_weighted_low_LR\n",
    "\n",
    "df_plot_low_LR['F1 Micro'] = F1_micro_low_LR\n",
    "df_plot_low_LR['F1 Macro'] = F1_macro_low_LR\n",
    "df_plot_low_LR['F1 Weighted'] = F1_weighted_low_LR\n",
    "\n",
    "df_plot_low_LR['Resolution'] = 'Low'"
   ]
  },
  {
   "cell_type": "code",
   "execution_count": 27,
   "metadata": {},
   "outputs": [],
   "source": [
    "Precision_micro_med_LR = np.array([])\n",
    "Precision_macro_med_LR = np.array([])\n",
    "Precision_weighted_med_LR = np.array([])\n",
    "\n",
    "Recall_micro_med_LR = np.array([])\n",
    "Recall_macro_med_LR = np.array([])\n",
    "Recall_weighted_med_LR = np.array([])\n",
    "\n",
    "F1_micro_med_LR = np.array([])\n",
    "F1_macro_med_LR = np.array([])\n",
    "F1_weighted_med_LR = np.array([])\n",
    "Sample_Num_med_LR = np.array([])\n",
    "\n",
    "for i in range(590, 2361, step):\n",
    "    \n",
    "    pr_micro, pr_macro, pr_weighted, re_micro, re_macro, re_weighted, f1_micro, f1_macro, f1_weighted = log_reg(X_train_med_aug[:i], y_train_med_aug[:i].astype(int), X_test_med, y_test_med)\n",
    "       \n",
    "    Precision_micro_med_LR = np.append(Precision_micro_med_LR, pr_micro)\n",
    "    Precision_macro_med_LR = np.append(Precision_macro_med_LR, pr_macro)\n",
    "    Precision_weighted_med_LR = np.append(Precision_weighted_med_LR, pr_weighted)    \n",
    "    \n",
    "    Recall_micro_med_LR = np.append(Recall_micro_med_LR, re_micro)\n",
    "    Recall_macro_med_LR = np.append(Recall_macro_med_LR, re_macro)\n",
    "    Recall_weighted_med_LR = np.append(Recall_weighted_med_LR, re_weighted)    \n",
    "    \n",
    "    F1_micro_med_LR = np.append(F1_micro_med_LR, f1_micro)\n",
    "    F1_macro_med_LR = np.append(F1_macro_med_LR, f1_macro)\n",
    "    F1_weighted_med_LR = np.append(F1_weighted_med_LR, f1_weighted)\n",
    "    \n",
    "    Sample_Num_med_LR = np.append(Sample_Num_med_LR, len(y_train_med_aug[:i]))"
   ]
  },
  {
   "cell_type": "code",
   "execution_count": 28,
   "metadata": {},
   "outputs": [],
   "source": [
    "df_plot_med_LR = pd.DataFrame()\n",
    "df_plot_med_LR['Sample Number'] = Sample_Num_med_LR\n",
    "\n",
    "df_plot_med_LR['Precision Micro'] = Precision_micro_med_LR\n",
    "df_plot_med_LR['Precision Macro'] = Precision_macro_med_LR\n",
    "df_plot_med_LR['Precision Weighted'] = Precision_weighted_med_LR\n",
    "\n",
    "df_plot_med_LR['Recall Micro'] = Recall_micro_med_LR\n",
    "df_plot_med_LR['Recall Macro'] = Recall_macro_med_LR\n",
    "df_plot_med_LR['Recall Weighted'] = Recall_weighted_med_LR\n",
    "\n",
    "df_plot_med_LR['F1 Micro'] = F1_micro_med_LR\n",
    "df_plot_med_LR['F1 Macro'] = F1_macro_med_LR\n",
    "df_plot_med_LR['F1 Weighted'] = F1_weighted_med_LR\n",
    "\n",
    "df_plot_med_LR['Resolution'] = 'Med'"
   ]
  },
  {
   "cell_type": "code",
   "execution_count": 29,
   "metadata": {},
   "outputs": [],
   "source": [
    "Precision_micro_high_LR = np.array([])\n",
    "Precision_macro_high_LR = np.array([])\n",
    "Precision_weighted_high_LR = np.array([])\n",
    "\n",
    "Recall_micro_high_LR = np.array([])\n",
    "Recall_macro_high_LR = np.array([])\n",
    "Recall_weighted_high_LR = np.array([])\n",
    "\n",
    "F1_micro_high_LR = np.array([])\n",
    "F1_macro_high_LR = np.array([])\n",
    "F1_weighted_high_LR = np.array([])\n",
    "Sample_Num_high_LR = np.array([])\n",
    "\n",
    "for i in range(590, 2361, step):\n",
    "    \n",
    "    pr_micro, pr_macro, pr_weighted, re_micro, re_macro, re_weighted, f1_micro, f1_macro, f1_weighted = log_reg(X_train_high_aug[:i], y_train_high_aug[:i].astype(int), X_test_high, y_test_high)\n",
    "       \n",
    "    Precision_micro_high_LR = np.append(Precision_micro_high_LR, pr_micro)\n",
    "    Precision_macro_high_LR = np.append(Precision_macro_high_LR, pr_macro)\n",
    "    Precision_weighted_high_LR = np.append(Precision_weighted_high_LR, pr_weighted)    \n",
    "    \n",
    "    Recall_micro_high_LR = np.append(Recall_micro_high_LR, re_micro)\n",
    "    Recall_macro_high_LR = np.append(Recall_macro_high_LR, re_macro)\n",
    "    Recall_weighted_high_LR = np.append(Recall_weighted_high_LR, re_weighted)    \n",
    "    \n",
    "    F1_micro_high_LR = np.append(F1_micro_high_LR, f1_micro)\n",
    "    F1_macro_high_LR = np.append(F1_macro_high_LR, f1_macro)\n",
    "    F1_weighted_high_LR = np.append(F1_weighted_high_LR, f1_weighted)\n",
    "    \n",
    "    Sample_Num_high_LR = np.append(Sample_Num_high_LR, len(y_train_high_aug[:i]))"
   ]
  },
  {
   "cell_type": "code",
   "execution_count": 30,
   "metadata": {},
   "outputs": [],
   "source": [
    "df_plot_high_LR = pd.DataFrame()\n",
    "df_plot_high_LR['Sample Number'] = Sample_Num_high_LR\n",
    "\n",
    "df_plot_high_LR['Precision Micro'] = Precision_micro_high_LR\n",
    "df_plot_high_LR['Precision Macro'] = Precision_macro_high_LR\n",
    "df_plot_high_LR['Precision Weighted'] = Precision_weighted_high_LR\n",
    "\n",
    "df_plot_high_LR['Recall Micro'] = Recall_micro_high_LR\n",
    "df_plot_high_LR['Recall Macro'] = Recall_macro_high_LR\n",
    "df_plot_high_LR['Recall Weighted'] = Recall_weighted_high_LR\n",
    "\n",
    "df_plot_high_LR['F1 Micro'] = F1_micro_high_LR\n",
    "df_plot_high_LR['F1 Macro'] = F1_macro_high_LR\n",
    "df_plot_high_LR['F1 Weighted'] = F1_weighted_high_LR\n",
    "\n",
    "df_plot_high_LR['Resolution'] = 'High'"
   ]
  },
  {
   "cell_type": "code",
   "execution_count": 31,
   "metadata": {},
   "outputs": [],
   "source": [
    "df_plot_LR = df_plot_low_LR.append(df_plot_med_LR, ignore_index=True)\n",
    "df_plot_LR = df_plot_LR.append(df_plot_high_LR, ignore_index=True)"
   ]
  },
  {
   "cell_type": "code",
   "execution_count": null,
   "metadata": {},
   "outputs": [],
   "source": []
  },
  {
   "cell_type": "code",
   "execution_count": null,
   "metadata": {},
   "outputs": [],
   "source": []
  },
  {
   "cell_type": "code",
   "execution_count": null,
   "metadata": {},
   "outputs": [],
   "source": []
  },
  {
   "cell_type": "code",
   "execution_count": null,
   "metadata": {},
   "outputs": [],
   "source": []
  },
  {
   "cell_type": "code",
   "execution_count": null,
   "metadata": {},
   "outputs": [],
   "source": []
  },
  {
   "cell_type": "code",
   "execution_count": null,
   "metadata": {},
   "outputs": [],
   "source": []
  },
  {
   "cell_type": "code",
   "execution_count": 32,
   "metadata": {},
   "outputs": [
    {
     "data": {
      "text/html": [
       "<div>\n",
       "<style scoped>\n",
       "    .dataframe tbody tr th:only-of-type {\n",
       "        vertical-align: middle;\n",
       "    }\n",
       "\n",
       "    .dataframe tbody tr th {\n",
       "        vertical-align: top;\n",
       "    }\n",
       "\n",
       "    .dataframe thead th {\n",
       "        text-align: right;\n",
       "    }\n",
       "</style>\n",
       "<table border=\"1\" class=\"dataframe\">\n",
       "  <thead>\n",
       "    <tr style=\"text-align: right;\">\n",
       "      <th></th>\n",
       "      <th>Sample Number</th>\n",
       "      <th>Precision Micro</th>\n",
       "      <th>Precision Macro</th>\n",
       "      <th>Precision Weighted</th>\n",
       "      <th>Recall Micro</th>\n",
       "      <th>Recall Macro</th>\n",
       "      <th>Recall Weighted</th>\n",
       "      <th>F1 Micro</th>\n",
       "      <th>F1 Macro</th>\n",
       "      <th>F1 Weighted</th>\n",
       "      <th>Resolution</th>\n",
       "    </tr>\n",
       "  </thead>\n",
       "  <tbody>\n",
       "    <tr>\n",
       "      <th>0</th>\n",
       "      <td>587.0</td>\n",
       "      <td>0.900901</td>\n",
       "      <td>0.900901</td>\n",
       "      <td>0.900901</td>\n",
       "      <td>0.888415</td>\n",
       "      <td>0.89011</td>\n",
       "      <td>0.889252</td>\n",
       "      <td>0.901134</td>\n",
       "      <td>0.900901</td>\n",
       "      <td>0.901009</td>\n",
       "      <td>Low</td>\n",
       "    </tr>\n",
       "    <tr>\n",
       "      <th>1</th>\n",
       "      <td>588.0</td>\n",
       "      <td>0.900901</td>\n",
       "      <td>0.900901</td>\n",
       "      <td>0.900901</td>\n",
       "      <td>0.888415</td>\n",
       "      <td>0.89011</td>\n",
       "      <td>0.889252</td>\n",
       "      <td>0.901134</td>\n",
       "      <td>0.900901</td>\n",
       "      <td>0.901009</td>\n",
       "      <td>Low</td>\n",
       "    </tr>\n",
       "    <tr>\n",
       "      <th>2</th>\n",
       "      <td>589.0</td>\n",
       "      <td>0.900901</td>\n",
       "      <td>0.900901</td>\n",
       "      <td>0.900901</td>\n",
       "      <td>0.888415</td>\n",
       "      <td>0.89011</td>\n",
       "      <td>0.889252</td>\n",
       "      <td>0.901134</td>\n",
       "      <td>0.900901</td>\n",
       "      <td>0.901009</td>\n",
       "      <td>Low</td>\n",
       "    </tr>\n",
       "    <tr>\n",
       "      <th>3</th>\n",
       "      <td>590.0</td>\n",
       "      <td>0.900901</td>\n",
       "      <td>0.900901</td>\n",
       "      <td>0.900901</td>\n",
       "      <td>0.888415</td>\n",
       "      <td>0.89011</td>\n",
       "      <td>0.889252</td>\n",
       "      <td>0.901134</td>\n",
       "      <td>0.900901</td>\n",
       "      <td>0.901009</td>\n",
       "      <td>Low</td>\n",
       "    </tr>\n",
       "    <tr>\n",
       "      <th>4</th>\n",
       "      <td>591.0</td>\n",
       "      <td>0.900901</td>\n",
       "      <td>0.900901</td>\n",
       "      <td>0.900901</td>\n",
       "      <td>0.888415</td>\n",
       "      <td>0.89011</td>\n",
       "      <td>0.889252</td>\n",
       "      <td>0.901134</td>\n",
       "      <td>0.900901</td>\n",
       "      <td>0.901009</td>\n",
       "      <td>Low</td>\n",
       "    </tr>\n",
       "  </tbody>\n",
       "</table>\n",
       "</div>"
      ],
      "text/plain": [
       "   Sample Number  Precision Micro  Precision Macro  Precision Weighted  \\\n",
       "0          587.0         0.900901         0.900901            0.900901   \n",
       "1          588.0         0.900901         0.900901            0.900901   \n",
       "2          589.0         0.900901         0.900901            0.900901   \n",
       "3          590.0         0.900901         0.900901            0.900901   \n",
       "4          591.0         0.900901         0.900901            0.900901   \n",
       "\n",
       "   Recall Micro  Recall Macro  Recall Weighted  F1 Micro  F1 Macro  \\\n",
       "0      0.888415       0.89011         0.889252  0.901134  0.900901   \n",
       "1      0.888415       0.89011         0.889252  0.901134  0.900901   \n",
       "2      0.888415       0.89011         0.889252  0.901134  0.900901   \n",
       "3      0.888415       0.89011         0.889252  0.901134  0.900901   \n",
       "4      0.888415       0.89011         0.889252  0.901134  0.900901   \n",
       "\n",
       "   F1 Weighted Resolution  \n",
       "0     0.901009        Low  \n",
       "1     0.901009        Low  \n",
       "2     0.901009        Low  \n",
       "3     0.901009        Low  \n",
       "4     0.901009        Low  "
      ]
     },
     "execution_count": 32,
     "metadata": {},
     "output_type": "execute_result"
    }
   ],
   "source": [
    "df_plot_LR.head()"
   ]
  },
  {
   "cell_type": "code",
   "execution_count": 33,
   "metadata": {},
   "outputs": [],
   "source": [
    "size = (8, 7)\n",
    "a4_dims = size\n",
    "palette_3 = sns.color_palette(\"mako_r\",3)"
   ]
  },
  {
   "cell_type": "code",
   "execution_count": null,
   "metadata": {},
   "outputs": [],
   "source": []
  },
  {
   "cell_type": "code",
   "execution_count": null,
   "metadata": {},
   "outputs": [],
   "source": []
  },
  {
   "cell_type": "code",
   "execution_count": 36,
   "metadata": {},
   "outputs": [
    {
     "data": {
      "image/png": "[encoded data removed]",
      "text/plain": [
       "<Figure size 576x504 with 1 Axes>"
      ]
     },
     "metadata": {
      "needs_background": "light"
     },
     "output_type": "display_data"
    }
   ],
   "source": [
    "fig, ax = plt.subplots(figsize=a4_dims)\n",
    "ax = sns.lineplot(x=\"Sample Number\", y=\"F1 Micro\", legend=\"full\", hue=\"Resolution\", palette=palette_3,\n",
    "                  \n",
    "                  \n",
    "                  data=df_plot_LR)\n",
    "#sns.scatterplot\n",
    "#plt.legend(loc='center left', bbox_to_anchor=(1.0, 0.5))\n",
    "#ax.set_xlim(-2.5,3.5)\n",
    "#plt.savefig('./results/graphics/ST_LR.pdf', format='pdf', bbox_inches='tight')\n",
    "#plt.axvline(229, 0, 1, linestyle='--', color='black')\n",
    "plt.axvline(587, 0, 1, linestyle='--', color='black')\n",
    "plt.axvline(587, 0, 1, linestyle='--', color='black')\n",
    "plt.axvline(587, 0, 1, linestyle='--', color='black')\n",
    "plt.show()"
   ]
  },
  {
   "cell_type": "code",
   "execution_count": null,
   "metadata": {},
   "outputs": [],
   "source": []
  },
  {
   "cell_type": "code",
   "execution_count": null,
   "metadata": {},
   "outputs": [],
   "source": []
  },
  {
   "cell_type": "code",
   "execution_count": null,
   "metadata": {},
   "outputs": [],
   "source": []
  },
  {
   "cell_type": "code",
   "execution_count": 128,
   "metadata": {},
   "outputs": [
    {
     "data": {
      "image/png": "[encoded data removed]",
      "text/plain": [
       "<Figure size 576x504 with 1 Axes>"
      ]
     },
     "metadata": {},
     "output_type": "display_data"
    }
   ],
   "source": [
    "fig, ax = plt.subplots(figsize=a4_dims)\n",
    "ax = sns.lineplot(x=\"Sample Number\", y=\"F1 Micro\", legend=\"full\", hue=\"Resolution\", palette=palette_3,\n",
    "                  \n",
    "                  \n",
    "                  data=df_plot_LR)\n",
    "#sns.scatterplot\n",
    "#plt.legend(loc='center left', bbox_to_anchor=(1.0, 0.5))\n",
    "#ax.set_xlim(-2.5,3.5)\n",
    "#plt.savefig('./results/graphics/ST_LR.pdf', format='pdf', bbox_inches='tight')\n",
    "plt.axvline(587, 0, 1, linestyle='--', color='black')\n",
    "plt.axvline(587+587, 0, 1, linestyle='--', color='black')\n",
    "plt.axvline(587+587*2, 0, 1, linestyle='--', color='black')\n",
    "plt.axvline(587+587*3, 0, 1, linestyle='--', color='black')\n",
    "plt.show()"
   ]
  },
  {
   "cell_type": "code",
   "execution_count": null,
   "metadata": {},
   "outputs": [],
   "source": []
  },
  {
   "cell_type": "code",
   "execution_count": null,
   "metadata": {},
   "outputs": [],
   "source": []
  },
  {
   "cell_type": "code",
   "execution_count": null,
   "metadata": {},
   "outputs": [],
   "source": []
  },
  {
   "cell_type": "code",
   "execution_count": 31,
   "metadata": {},
   "outputs": [
    {
     "data": {
      "image/png": "[encoded data removed]",
      "text/plain": [
       "<Figure size 576x504 with 1 Axes>"
      ]
     },
     "metadata": {
      "needs_background": "light"
     },
     "output_type": "display_data"
    }
   ],
   "source": [
    "fig, ax = plt.subplots(figsize=a4_dims)\n",
    "ax = sns.lineplot(x=\"Sample Number\", y=\"F1 Micro\", legend=\"full\", hue=\"Resolution\", palette=palette_3,\n",
    "                  \n",
    "                  \n",
    "                  data=df_plot_LR)\n",
    "#sns.scatterplot\n",
    "#plt.legend(loc='center left', bbox_to_anchor=(1.0, 0.5))\n",
    "#ax.set_xlim(-2.5,3.5)\n",
    "#plt.savefig('./results/graphics/ST_LR.pdf', format='pdf', bbox_inches='tight')\n",
    "plt.axvline(587, 0, 1, linestyle='--', color='black')\n",
    "plt.axvline(587+73, 0, 1, linestyle='--', color='black')\n",
    "plt.axvline(587+73, 0, 1, linestyle='--', color='black')\n",
    "plt.axvline(587+73*2, 0, 1, linestyle='--', color='black')\n",
    "plt.axvline(587+73*3, 0, 1, linestyle='--', color='black')\n",
    "plt.show()"
   ]
  },
  {
   "cell_type": "code",
   "execution_count": null,
   "metadata": {},
   "outputs": [],
   "source": []
  },
  {
   "cell_type": "code",
   "execution_count": null,
   "metadata": {},
   "outputs": [],
   "source": [
    "fig, ax = plt.subplots(figsize=a4_dims)\n",
    "ax = sns.lineplot(x=\"Sample Number\", y=\"F1 Micro\", legend=\"full\", hue=\"Resolution\", palette=palette_3,\n",
    "                  \n",
    "                  \n",
    "                  data=df_plot_LR)\n",
    "#sns.scatterplot\n",
    "#plt.legend(loc='center left', bbox_to_anchor=(1.0, 0.5))\n",
    "#ax.set_xlim(-2.5,3.5)\n",
    "#plt.savefig('./results/graphics/ST_LR.pdf', format='pdf', bbox_inches='tight')\n",
    "plt.show()"
   ]
  },
  {
   "cell_type": "code",
   "execution_count": null,
   "metadata": {},
   "outputs": [],
   "source": [
    "fig, ax = plt.subplots(figsize=a4_dims)\n",
    "ax = sns.lineplot(x=\"Sample Number\", y=\"F1 Micro\", legend=\"full\", hue=\"Resolution\", palette=palette_3,\n",
    "                  \n",
    "                  \n",
    "                  data=df_plot_LR)\n",
    "#sns.scatterplot\n",
    "#plt.legend(loc='center left', bbox_to_anchor=(1.0, 0.5))\n",
    "#ax.set_xlim(-2.5,3.5)\n",
    "#plt.savefig('./results/graphics/ST_LR.pdf', format='pdf', bbox_inches='tight')\n",
    "plt.show()"
   ]
  },
  {
   "cell_type": "code",
   "execution_count": null,
   "metadata": {},
   "outputs": [],
   "source": [
    "#fig, ax = plt.subplots(figsize=a4_dims)\n",
    "#ax = sns.lineplot(x=\"Thresholds\", y=\"Score\", hue=\"Resolution\", style=\"Score Type\",\n",
    "#                  palette=palette_3, legend=\"full\", data=df_plot)\n",
    "#plt.legend(loc='center left', bbox_to_anchor=(1.0, 0.5))\n",
    "#ax.set_xlim(-2.5,3.5)\n",
    "#plt.savefig('./results/graphics/ST_LR.pdf', format='pdf', bbox_inches='tight')\n",
    "#plt.show()"
   ]
  },
  {
   "cell_type": "code",
   "execution_count": null,
   "metadata": {},
   "outputs": [],
   "source": [
    "fig, ax = plt.subplots(figsize=a4_dims)\n",
    "ax = sns.lineplot(x=\"Sample Number\", y=\"Precision Micro\", legend=\"full\", hue=\"Resolution\", palette=palette_3,\n",
    "                  \n",
    "                  \n",
    "                  data=df_plot_LR)\n",
    "#sns.scatterplot\n",
    "#plt.legend(loc='center left', bbox_to_anchor=(1.0, 0.5))\n",
    "#ax.set_xlim(-2.5,3.5)\n",
    "#plt.savefig('./results/graphics/ST_LR.pdf', format='pdf', bbox_inches='tight')\n",
    "plt.show()"
   ]
  },
  {
   "cell_type": "code",
   "execution_count": null,
   "metadata": {},
   "outputs": [],
   "source": [
    "path_LR = './data_augmentation/results/df_LR.csv'\n",
    "df_plot_LR.to_csv(path_LR, index=True)"
   ]
  },
  {
   "cell_type": "code",
   "execution_count": null,
   "metadata": {},
   "outputs": [],
   "source": []
  },
  {
   "cell_type": "code",
   "execution_count": null,
   "metadata": {},
   "outputs": [],
   "source": []
  },
  {
   "cell_type": "code",
   "execution_count": null,
   "metadata": {},
   "outputs": [],
   "source": []
  },
  {
   "cell_type": "code",
   "execution_count": null,
   "metadata": {},
   "outputs": [],
   "source": []
  },
  {
   "cell_type": "code",
   "execution_count": null,
   "metadata": {},
   "outputs": [],
   "source": []
  },
  {
   "cell_type": "code",
   "execution_count": null,
   "metadata": {},
   "outputs": [],
   "source": []
  },
  {
   "cell_type": "code",
   "execution_count": null,
   "metadata": {},
   "outputs": [],
   "source": []
  },
  {
   "cell_type": "code",
   "execution_count": null,
   "metadata": {},
   "outputs": [],
   "source": []
  },
  {
   "cell_type": "code",
   "execution_count": null,
   "metadata": {},
   "outputs": [],
   "source": []
  },
  {
   "cell_type": "code",
   "execution_count": null,
   "metadata": {},
   "outputs": [],
   "source": []
  },
  {
   "cell_type": "code",
   "execution_count": null,
   "metadata": {},
   "outputs": [],
   "source": [
    "grid_C = [i for i in range(-5, 7, 1)]\n",
    "grid_gamma = [i for i in range(0, 11, 1)]\n",
    "param_grid_svm_rbf = {'C': [2**i for i in grid_C], \n",
    "                      'gamma': np.round([0.1*i for i in grid_gamma], decimals=2)}\n",
    "print('Parameters:', param_grid_svm_rbf)"
   ]
  },
  {
   "cell_type": "code",
   "execution_count": null,
   "metadata": {
    "scrolled": true
   },
   "outputs": [],
   "source": [
    "Precision_micro_low_SVC = np.array([])\n",
    "Precision_macro_low_SVC = np.array([])\n",
    "Precision_weighted_low_SVC = np.array([])\n",
    "\n",
    "Recall_micro_low_SVC = np.array([])\n",
    "Recall_macro_low_SVC = np.array([])\n",
    "Recall_weighted_low_SVC = np.array([])\n",
    "\n",
    "F1_micro_low_SVC = np.array([])\n",
    "F1_macro_low_SVC = np.array([])\n",
    "F1_weighted_low_SVC = np.array([])\n",
    "Sample_Num_low_SVC = np.array([])\n",
    "\n",
    "for i in range(590, 2361, step):\n",
    "    \n",
    "    pr_micro, pr_macro, pr_weighted, re_micro, re_macro, re_weighted, f1_micro, f1_macro, f1_weighted = SVM_rbf_clf(param_grid_svm_rbf, X_train_low_aug[:i], y_train_low_aug[:i].astype(int), X_test_low, y_test_low)\n",
    "       \n",
    "    Precision_micro_low_SVC = np.append(Precision_micro_low_SVC, pr_micro)\n",
    "    Precision_macro_low_SVC = np.append(Precision_macro_low_SVC, pr_macro)\n",
    "    Precision_weighted_low_SVC = np.append(Precision_weighted_low_SVC, pr_weighted)    \n",
    "    \n",
    "    Recall_micro_low_SVC = np.append(Recall_micro_low_SVC, re_micro)\n",
    "    Recall_macro_low_SVC = np.append(Recall_macro_low_SVC, re_macro)\n",
    "    Recall_weighted_low_SVC = np.append(Recall_weighted_low_SVC, re_weighted)    \n",
    "    \n",
    "    F1_micro_low_SVC = np.append(F1_micro_low_SVC, f1_micro)\n",
    "    F1_macro_low_SVC = np.append(F1_macro_low_SVC, f1_macro)\n",
    "    F1_weighted_low_SVC = np.append(F1_weighted_low_SVC, f1_weighted)\n",
    "    \n",
    "    Sample_Num_low_SVC = np.append(Sample_Num_low_SVC, len(y_train_low_aug[:i]))\n",
    "    \n",
    "    print((i-590)/step)"
   ]
  },
  {
   "cell_type": "code",
   "execution_count": null,
   "metadata": {},
   "outputs": [],
   "source": [
    "df_plot_low_SVC = pd.DataFrame()\n",
    "df_plot_low_SVC['Sample Number'] = Sample_Num_low_SVC\n",
    "\n",
    "df_plot_low_SVC['Precision Micro'] = Precision_micro_low_SVC\n",
    "df_plot_low_SVC['Precision Macro'] = Precision_macro_low_SVC\n",
    "df_plot_low_SVC['Precision Weighted'] = Precision_weighted_low_SVC\n",
    "\n",
    "df_plot_low_SVC['Recall Micro'] = Recall_micro_low_SVC\n",
    "df_plot_low_SVC['Recall Macro'] = Recall_macro_low_SVC\n",
    "df_plot_low_SVC['Recall Weighted'] = Recall_weighted_low_SVC\n",
    "\n",
    "df_plot_low_SVC['F1 Micro'] = F1_micro_low_SVC\n",
    "df_plot_low_SVC['F1 Macro'] = F1_macro_low_SVC\n",
    "df_plot_low_SVC['F1 Weighted'] = F1_weighted_low_SVC\n",
    "\n",
    "df_plot_low_SVC['Resolution'] = 'Low'"
   ]
  },
  {
   "cell_type": "code",
   "execution_count": null,
   "metadata": {
    "scrolled": true
   },
   "outputs": [],
   "source": [
    "Precision_micro_med_SVC = np.array([])\n",
    "Precision_macro_med_SVC = np.array([])\n",
    "Precision_weighted_med_SVC = np.array([])\n",
    "\n",
    "Recall_micro_med_SVC = np.array([])\n",
    "Recall_macro_med_SVC = np.array([])\n",
    "Recall_weighted_med_SVC = np.array([])\n",
    "\n",
    "F1_micro_med_SVC = np.array([])\n",
    "F1_macro_med_SVC = np.array([])\n",
    "F1_weighted_med_SVC = np.array([])\n",
    "Sample_Num_med_SVC = np.array([])\n",
    "\n",
    "for i in range(590, 2361, step):\n",
    "    \n",
    "    pr_micro, pr_macro, pr_weighted, re_micro, re_macro, re_weighted, f1_micro, f1_macro, f1_weighted = SVM_rbf_clf(param_grid_svm_rbf, X_train_med_aug[:i], y_train_med_aug[:i].astype(int), X_test_med, y_test_med)\n",
    "       \n",
    "    Precision_micro_med_SVC = np.append(Precision_micro_med_SVC, pr_micro)\n",
    "    Precision_macro_med_SVC = np.append(Precision_macro_med_SVC, pr_macro)\n",
    "    Precision_weighted_med_SVC = np.append(Precision_weighted_med_SVC, pr_weighted)    \n",
    "    \n",
    "    Recall_micro_med_SVC = np.append(Recall_micro_med_SVC, re_micro)\n",
    "    Recall_macro_med_SVC = np.append(Recall_macro_med_SVC, re_macro)\n",
    "    Recall_weighted_med_SVC = np.append(Recall_weighted_med_SVC, re_weighted)    \n",
    "    \n",
    "    F1_micro_med_SVC = np.append(F1_micro_med_SVC, f1_micro)\n",
    "    F1_macro_med_SVC = np.append(F1_macro_med_SVC, f1_macro)\n",
    "    F1_weighted_med_SVC = np.append(F1_weighted_med_SVC, f1_weighted)\n",
    "    \n",
    "    Sample_Num_med_SVC = np.append(Sample_Num_med_SVC, len(y_train_med_aug[:i]))\n",
    "    \n",
    "    print((i-590)/step)"
   ]
  },
  {
   "cell_type": "code",
   "execution_count": null,
   "metadata": {},
   "outputs": [],
   "source": [
    "df_plot_med_SVC = pd.DataFrame()\n",
    "df_plot_med_SVC['Sample Number'] = Sample_Num_med_SVC\n",
    "\n",
    "df_plot_med_SVC['Precision Micro'] = Precision_micro_med_SVC\n",
    "df_plot_med_SVC['Precision Macro'] = Precision_macro_med_SVC\n",
    "df_plot_med_SVC['Precision Weighted'] = Precision_weighted_med_SVC\n",
    "\n",
    "df_plot_med_SVC['Recall Micro'] = Recall_micro_med_SVC\n",
    "df_plot_med_SVC['Recall Macro'] = Recall_macro_med_SVC\n",
    "df_plot_med_SVC['Recall Weighted'] = Recall_weighted_med_SVC\n",
    "\n",
    "df_plot_med_SVC['F1 Micro'] = F1_micro_med_SVC\n",
    "df_plot_med_SVC['F1 Macro'] = F1_macro_med_SVC\n",
    "df_plot_med_SVC['F1 Weighted'] = F1_weighted_med_SVC\n",
    "\n",
    "df_plot_med_SVC['Resolution'] = 'Med'"
   ]
  },
  {
   "cell_type": "code",
   "execution_count": null,
   "metadata": {
    "scrolled": true
   },
   "outputs": [],
   "source": [
    "Precision_micro_high_SVC = np.array([])\n",
    "Precision_macro_high_SVC = np.array([])\n",
    "Precision_weighted_high_SVC = np.array([])\n",
    "\n",
    "Recall_micro_high_SVC = np.array([])\n",
    "Recall_macro_high_SVC = np.array([])\n",
    "Recall_weighted_high_SVC = np.array([])\n",
    "\n",
    "F1_micro_high_SVC = np.array([])\n",
    "F1_macro_high_SVC = np.array([])\n",
    "F1_weighted_high_SVC = np.array([])\n",
    "Sample_Num_high_SVC = np.array([])\n",
    "\n",
    "for i in range(590, 2361, step):\n",
    "    \n",
    "    pr_micro, pr_macro, pr_weighted, re_micro, re_macro, re_weighted, f1_micro, f1_macro, f1_weighted = SVM_rbf_clf(param_grid_svm_rbf, X_train_high_aug[:i], y_train_high_aug[:i].astype(int), X_test_high, y_test_high)\n",
    "       \n",
    "    Precision_micro_high_SVC = np.append(Precision_micro_high_SVC, pr_micro)\n",
    "    Precision_macro_high_SVC = np.append(Precision_macro_high_SVC, pr_macro)\n",
    "    Precision_weighted_high_SVC = np.append(Precision_weighted_high_SVC, pr_weighted)    \n",
    "    \n",
    "    Recall_micro_high_SVC = np.append(Recall_micro_high_SVC, re_micro)\n",
    "    Recall_macro_high_SVC = np.append(Recall_macro_high_SVC, re_macro)\n",
    "    Recall_weighted_high_SVC = np.append(Recall_weighted_high_SVC, re_weighted)    \n",
    "    \n",
    "    F1_micro_high_SVC = np.append(F1_micro_high_SVC, f1_micro)\n",
    "    F1_macro_high_SVC = np.append(F1_macro_high_SVC, f1_macro)\n",
    "    F1_weighted_high_SVC = np.append(F1_weighted_high_SVC, f1_weighted)\n",
    "    \n",
    "    Sample_Num_high_SVC = np.append(Sample_Num_high_SVC, len(y_train_high_aug[:i]))\n",
    "    \n",
    "    print((i-590)/step)"
   ]
  },
  {
   "cell_type": "code",
   "execution_count": null,
   "metadata": {},
   "outputs": [],
   "source": [
    "df_plot_high_SVC = pd.DataFrame()\n",
    "df_plot_high_SVC['Sample Number'] = Sample_Num_high_SVC\n",
    "\n",
    "df_plot_high_SVC['Precision Micro'] = Precision_micro_high_SVC\n",
    "df_plot_high_SVC['Precision Macro'] = Precision_macro_high_SVC\n",
    "df_plot_high_SVC['Precision Weighted'] = Precision_weighted_high_SVC\n",
    "\n",
    "df_plot_high_SVC['Recall Micro'] = Recall_micro_high_SVC\n",
    "df_plot_high_SVC['Recall Macro'] = Recall_macro_high_SVC\n",
    "df_plot_high_SVC['Recall Weighted'] = Recall_weighted_high_SVC\n",
    "\n",
    "df_plot_high_SVC['F1 Micro'] = F1_micro_high_SVC\n",
    "df_plot_high_SVC['F1 Macro'] = F1_macro_high_SVC\n",
    "df_plot_high_SVC['F1 Weighted'] = F1_weighted_high_SVC\n",
    "\n",
    "df_plot_high_SVC['Resolution'] = 'High'"
   ]
  },
  {
   "cell_type": "code",
   "execution_count": null,
   "metadata": {},
   "outputs": [],
   "source": [
    "df_plot_SVC = df_plot_low_SVC.append(df_plot_med_SVC, ignore_index=True)\n",
    "df_plot_SVC = df_plot_SVC.append(df_plot_high_SVC, ignore_index=True)"
   ]
  },
  {
   "cell_type": "code",
   "execution_count": null,
   "metadata": {},
   "outputs": [],
   "source": [
    "fig, ax = plt.subplots(figsize=a4_dims)\n",
    "ax = sns.lineplot(x=\"Sample Number\", y=\"F1 Micro\", legend=\"full\", hue=\"Resolution\", palette=palette_3,\n",
    "                  \n",
    "                  \n",
    "                  data=df_plot_SVC)\n",
    "#sns.scatterplot\n",
    "#plt.legend(loc='center left', bbox_to_anchor=(1.0, 0.5))\n",
    "#ax.set_xlim(-2.5,3.5)\n",
    "#plt.savefig('./results/graphics/ST_LR.pdf', format='pdf', bbox_inches='tight')\n",
    "plt.show()"
   ]
  },
  {
   "cell_type": "code",
   "execution_count": null,
   "metadata": {},
   "outputs": [],
   "source": [
    "fig, ax = plt.subplots(figsize=a4_dims)\n",
    "ax = sns.lineplot(x=\"Sample Number\", y=\"Precision Micro\", legend=\"full\", hue=\"Resolution\", palette=palette_3,\n",
    "                  \n",
    "                  \n",
    "                  data=df_plot_SVC)\n",
    "#sns.scatterplot\n",
    "#plt.legend(loc='center left', bbox_to_anchor=(1.0, 0.5))\n",
    "#ax.set_xlim(-2.5,3.5)\n",
    "#plt.savefig('./results/graphics/ST_LR.pdf', format='pdf', bbox_inches='tight')\n",
    "plt.show()"
   ]
  },
  {
   "cell_type": "code",
   "execution_count": null,
   "metadata": {},
   "outputs": [],
   "source": []
  },
  {
   "cell_type": "code",
   "execution_count": null,
   "metadata": {},
   "outputs": [],
   "source": [
    "path_SVC = './data_augmentation/results/df_SVC.csv'\n",
    "df_plot_SVC.to_csv(path_SVC, index=True)"
   ]
  },
  {
   "cell_type": "code",
   "execution_count": null,
   "metadata": {},
   "outputs": [],
   "source": []
  },
  {
   "cell_type": "code",
   "execution_count": null,
   "metadata": {},
   "outputs": [],
   "source": []
  },
  {
   "cell_type": "code",
   "execution_count": null,
   "metadata": {},
   "outputs": [],
   "source": []
  },
  {
   "cell_type": "code",
   "execution_count": null,
   "metadata": {},
   "outputs": [],
   "source": []
  },
  {
   "cell_type": "code",
   "execution_count": null,
   "metadata": {},
   "outputs": [],
   "source": []
  },
  {
   "cell_type": "code",
   "execution_count": null,
   "metadata": {},
   "outputs": [],
   "source": []
  },
  {
   "cell_type": "code",
   "execution_count": null,
   "metadata": {},
   "outputs": [],
   "source": [
    "ii = 0\n",
    "for i in range(590, 2361, 15):\n",
    "    ii = ii +1\n",
    "    \n",
    "print(ii,'        ', i)    "
   ]
  },
  {
   "cell_type": "code",
   "execution_count": null,
   "metadata": {},
   "outputs": [],
   "source": []
  },
  {
   "cell_type": "code",
   "execution_count": null,
   "metadata": {},
   "outputs": [],
   "source": [
    "max_features_params_rf = [np.round(10**-1 * i, decimals=2) for i in range(1, 11, 1)]\n",
    "param_grid_rf = {'n_estimators': [2**i for i in range(2, 12, 1)], 'max_features': max_features_params_rf}\n",
    "print('Parameters:', param_grid_rf)"
   ]
  },
  {
   "cell_type": "code",
   "execution_count": null,
   "metadata": {
    "scrolled": true
   },
   "outputs": [],
   "source": [
    "Precision_micro_low_RF = np.array([])\n",
    "Precision_macro_low_RF = np.array([])\n",
    "Precision_weighted_low_RF = np.array([])\n",
    "\n",
    "Recall_micro_low_RF = np.array([])\n",
    "Recall_macro_low_RF = np.array([])\n",
    "Recall_weighted_low_RF = np.array([])\n",
    "\n",
    "F1_micro_low_RF = np.array([])\n",
    "F1_macro_low_RF = np.array([])\n",
    "F1_weighted_low_RF = np.array([])\n",
    "Sample_Num_low_RF = np.array([])\n",
    "\n",
    "for i in range(590, 2361, step):\n",
    "    \n",
    "    pr_micro, pr_macro, pr_weighted, re_micro, re_macro, re_weighted, f1_micro, f1_macro, f1_weighted = random_forests_clf(param_grid_rf, X_train_low_aug[:i], y_train_low_aug[:i].astype(int), X_test_low, y_test_low)\n",
    "       \n",
    "    Precision_micro_low_RF = np.append(Precision_micro_low_RF, pr_micro)\n",
    "    Precision_macro_low_RF = np.append(Precision_macro_low_RF, pr_macro)\n",
    "    Precision_weighted_low_RF = np.append(Precision_weighted_low_RF, pr_weighted)    \n",
    "    \n",
    "    Recall_micro_low_RF = np.append(Recall_micro_low_RF, re_micro)\n",
    "    Recall_macro_low_RF = np.append(Recall_macro_low_RF, re_macro)\n",
    "    Recall_weighted_low_RF = np.append(Recall_weighted_low_RF, re_weighted)    \n",
    "    \n",
    "    F1_micro_low_RF = np.append(F1_micro_low_RF, f1_micro)\n",
    "    F1_macro_low_RF = np.append(F1_macro_low_RF, f1_macro)\n",
    "    F1_weighted_low_RF = np.append(F1_weighted_low_RF, f1_weighted)\n",
    "    \n",
    "    Sample_Num_low_RF = np.append(Sample_Num_low_RF, len(y_train_low_aug[:i]))\n",
    "    \n",
    "    print((i-590)/step)"
   ]
  },
  {
   "cell_type": "code",
   "execution_count": null,
   "metadata": {},
   "outputs": [],
   "source": [
    "df_plot_low_RF = pd.DataFrame()\n",
    "df_plot_low_RF['Sample Number'] = Sample_Num_low_RF\n",
    "\n",
    "df_plot_low_RF['Precision Micro'] = Precision_micro_low_RF\n",
    "df_plot_low_RF['Precision Macro'] = Precision_macro_low_RF\n",
    "df_plot_low_RF['Precision Weighted'] = Precision_weighted_low_RF\n",
    "\n",
    "df_plot_low_RF['Recall Micro'] = Recall_micro_low_RF\n",
    "df_plot_low_RF['Recall Macro'] = Recall_macro_low_RF\n",
    "df_plot_low_RF['Recall Weighted'] = Recall_weighted_low_RF\n",
    "\n",
    "df_plot_low_RF['F1 Micro'] = F1_micro_low_RF\n",
    "df_plot_low_RF['F1 Macro'] = F1_macro_low_RF\n",
    "df_plot_low_RF['F1 Weighted'] = F1_weighted_low_RF\n",
    "\n",
    "df_plot_low_RF['Resolution'] = 'Low'"
   ]
  },
  {
   "cell_type": "code",
   "execution_count": null,
   "metadata": {
    "scrolled": true
   },
   "outputs": [],
   "source": [
    "Precision_micro_med_RF = np.array([])\n",
    "Precision_macro_med_RF = np.array([])\n",
    "Precision_weighted_med_RF = np.array([])\n",
    "\n",
    "Recall_micro_med_RF = np.array([])\n",
    "Recall_macro_med_RF = np.array([])\n",
    "Recall_weighted_med_RF = np.array([])\n",
    "\n",
    "F1_micro_med_RF = np.array([])\n",
    "F1_macro_med_RF = np.array([])\n",
    "F1_weighted_med_RF = np.array([])\n",
    "Sample_Num_med_RF = np.array([])\n",
    "\n",
    "for i in range(590, 2361, step):\n",
    "    \n",
    "    pr_micro, pr_macro, pr_weighted, re_micro, re_macro, re_weighted, f1_micro, f1_macro, f1_weighted = random_forests_clf(param_grid_rf, X_train_med_aug[:i], y_train_med_aug[:i].astype(int), X_test_med, y_test_med)\n",
    "       \n",
    "    Precision_micro_med_RF = np.append(Precision_micro_med_RF, pr_micro)\n",
    "    Precision_macro_med_RF = np.append(Precision_macro_med_RF, pr_macro)\n",
    "    Precision_weighted_med_RF = np.append(Precision_weighted_med_RF, pr_weighted)    \n",
    "    \n",
    "    Recall_micro_med_RF = np.append(Recall_micro_med_RF, re_micro)\n",
    "    Recall_macro_med_RF = np.append(Recall_macro_med_RF, re_macro)\n",
    "    Recall_weighted_med_RF = np.append(Recall_weighted_med_RF, re_weighted)    \n",
    "    \n",
    "    F1_micro_med_RF = np.append(F1_micro_med_RF, f1_micro)\n",
    "    F1_macro_med_RF = np.append(F1_macro_med_RF, f1_macro)\n",
    "    F1_weighted_med_RF = np.append(F1_weighted_med_RF, f1_weighted)\n",
    "    \n",
    "    Sample_Num_med_RF = np.append(Sample_Num_med_RF, len(y_train_med_aug[:i]))\n",
    "    \n",
    "    print((i-590)/step)"
   ]
  },
  {
   "cell_type": "code",
   "execution_count": null,
   "metadata": {},
   "outputs": [],
   "source": [
    "df_plot_med_RF = pd.DataFrame()\n",
    "df_plot_med_RF['Sample Number'] = Sample_Num_med_RF\n",
    "\n",
    "df_plot_med_RF['Precision Micro'] = Precision_micro_med_RF\n",
    "df_plot_med_RF['Precision Macro'] = Precision_macro_med_RF\n",
    "df_plot_med_RF['Precision Weighted'] = Precision_weighted_med_RF\n",
    "\n",
    "df_plot_med_RF['Recall Micro'] = Recall_micro_med_RF\n",
    "df_plot_med_RF['Recall Macro'] = Recall_macro_med_RF\n",
    "df_plot_med_RF['Recall Weighted'] = Recall_weighted_med_RF\n",
    "\n",
    "df_plot_med_RF['F1 Micro'] = F1_micro_med_RF\n",
    "df_plot_med_RF['F1 Macro'] = F1_macro_med_RF\n",
    "df_plot_med_RF['F1 Weighted'] = F1_weighted_med_RF\n",
    "\n",
    "df_plot_med_RF['Resolution'] = 'Med'"
   ]
  },
  {
   "cell_type": "code",
   "execution_count": null,
   "metadata": {
    "scrolled": true
   },
   "outputs": [],
   "source": [
    "Precision_micro_high_RF = np.array([])\n",
    "Precision_macro_high_RF = np.array([])\n",
    "Precision_weighted_high_RF = np.array([])\n",
    "\n",
    "Recall_micro_high_RF = np.array([])\n",
    "Recall_macro_high_RF = np.array([])\n",
    "Recall_weighted_high_RF = np.array([])\n",
    "\n",
    "F1_micro_high_RF = np.array([])\n",
    "F1_macro_high_RF = np.array([])\n",
    "F1_weighted_high_RF = np.array([])\n",
    "Sample_Num_high_RF = np.array([])\n",
    "\n",
    "for i in range(590, 2361, step):\n",
    "    \n",
    "    pr_micro, pr_macro, pr_weighted, re_micro, re_macro, re_weighted, f1_micro, f1_macro, f1_weighted = random_forests_clf(param_grid_rf, X_train_high_aug[:i], y_train_high_aug[:i].astype(int), X_test_high, y_test_high)\n",
    "       \n",
    "    Precision_micro_high_RF = np.append(Precision_micro_high_RF, pr_micro)\n",
    "    Precision_macro_high_RF = np.append(Precision_macro_high_RF, pr_macro)\n",
    "    Precision_weighted_high_RF = np.append(Precision_weighted_high_RF, pr_weighted)    \n",
    "    \n",
    "    Recall_micro_high_RF = np.append(Recall_micro_high_RF, re_micro)\n",
    "    Recall_macro_high_RF = np.append(Recall_macro_high_RF, re_macro)\n",
    "    Recall_weighted_high_RF = np.append(Recall_weighted_high_RF, re_weighted)    \n",
    "    \n",
    "    F1_micro_high_RF = np.append(F1_micro_high_RF, f1_micro)\n",
    "    F1_macro_high_RF = np.append(F1_macro_high_RF, f1_macro)\n",
    "    F1_weighted_high_RF = np.append(F1_weighted_high_RF, f1_weighted)\n",
    "    \n",
    "    Sample_Num_high_RF = np.append(Sample_Num_high_RF, len(y_train_high_aug[:i]))\n",
    "    \n",
    "    print((i-590)/step)"
   ]
  },
  {
   "cell_type": "code",
   "execution_count": null,
   "metadata": {},
   "outputs": [],
   "source": [
    "df_plot_high_RF = pd.DataFrame()\n",
    "df_plot_high_RF['Sample Number'] = Sample_Num_high_RF\n",
    "\n",
    "df_plot_high_RF['Precision Micro'] = Precision_micro_high_RF\n",
    "df_plot_high_RF['Precision Macro'] = Precision_macro_high_RF\n",
    "df_plot_high_RF['Precision Weighted'] = Precision_weighted_high_RF\n",
    "\n",
    "df_plot_high_RF['Recall Micro'] = Recall_micro_high_RF\n",
    "df_plot_high_RF['Recall Macro'] = Recall_macro_high_RF\n",
    "df_plot_high_RF['Recall Weighted'] = Recall_weighted_high_RF\n",
    "\n",
    "df_plot_high_RF['F1 Micro'] = F1_micro_high_RF\n",
    "df_plot_high_RF['F1 Macro'] = F1_macro_high_RF\n",
    "df_plot_high_RF['F1 Weighted'] = F1_weighted_high_RF\n",
    "\n",
    "df_plot_high_RF['Resolution'] = 'High'"
   ]
  },
  {
   "cell_type": "code",
   "execution_count": null,
   "metadata": {},
   "outputs": [],
   "source": [
    "df_plot_RF = df_plot_low_RF.append(df_plot_med_RF, ignore_index=True)\n",
    "df_plot_RF = df_plot_RF.append(df_plot_high_RF, ignore_index=True)"
   ]
  },
  {
   "cell_type": "code",
   "execution_count": null,
   "metadata": {},
   "outputs": [],
   "source": [
    "fig, ax = plt.subplots(figsize=a4_dims)\n",
    "ax = sns.lineplot(x=\"Sample Number\", y=\"F1 Micro\", legend=\"full\", hue=\"Resolution\", palette=palette_3,\n",
    "                  \n",
    "                  \n",
    "                  data=df_plot_RF)\n",
    "#sns.scatterplot\n",
    "#plt.legend(loc='center left', bbox_to_anchor=(1.0, 0.5))\n",
    "#ax.set_xlim(-2.5,3.5)\n",
    "#plt.savefig('./results/graphics/ST_LR.pdf', format='pdf', bbox_inches='tight')\n",
    "plt.show()\n"
   ]
  },
  {
   "cell_type": "code",
   "execution_count": null,
   "metadata": {},
   "outputs": [],
   "source": []
  },
  {
   "cell_type": "code",
   "execution_count": null,
   "metadata": {},
   "outputs": [],
   "source": [
    "path_RF = './data_augmentation/results/df_RF.csv'\n",
    "df_plot_RF.to_csv(path_RF, index=True)"
   ]
  },
  {
   "cell_type": "code",
   "execution_count": null,
   "metadata": {},
   "outputs": [],
   "source": []
  },
  {
   "cell_type": "code",
   "execution_count": null,
   "metadata": {},
   "outputs": [],
   "source": []
  },
  {
   "cell_type": "code",
   "execution_count": null,
   "metadata": {},
   "outputs": [],
   "source": []
  },
  {
   "cell_type": "code",
   "execution_count": null,
   "metadata": {},
   "outputs": [],
   "source": []
  },
  {
   "cell_type": "code",
   "execution_count": null,
   "metadata": {},
   "outputs": [],
   "source": [
    "param_grid_mlp = {'alpha': [np.round(10**-1/4 * i, decimals=2) for i in range(1, 11, 1)], \n",
    "                  'hidden_layer_sizes': [2**i for i in range(2, 12, 1)]}\n",
    "print('Parameters:', param_grid_mlp)"
   ]
  },
  {
   "cell_type": "code",
   "execution_count": null,
   "metadata": {},
   "outputs": [],
   "source": [
    "Precision_micro_low_MLP = np.array([])\n",
    "Precision_macro_low_MLP = np.array([])\n",
    "Precision_weighted_low_MLP = np.array([])\n",
    "\n",
    "Recall_micro_low_MLP = np.array([])\n",
    "Recall_macro_low_MLP = np.array([])\n",
    "Recall_weighted_low_MLP = np.array([])\n",
    "\n",
    "F1_micro_low_MLP = np.array([])\n",
    "F1_macro_low_MLP = np.array([])\n",
    "F1_weighted_low_MLP = np.array([])\n",
    "Sample_Num_low_MLP = np.array([])\n",
    "\n",
    "for i in range(590, 2361, step):\n",
    "    \n",
    "    pr_micro, pr_macro, pr_weighted, re_micro, re_macro, re_weighted, f1_micro, f1_macro, f1_weighted = mlp_clf(param_grid_mlp, X_train_low_aug[:i], y_train_low_aug[:i].astype(int), X_test_low, y_test_low)\n",
    "       \n",
    "    Precision_micro_low_MLP = np.append(Precision_micro_low_MLP, pr_micro)\n",
    "    Precision_macro_low_MLP = np.append(Precision_macro_low_MLP, pr_macro)\n",
    "    Precision_weighted_low_MLP = np.append(Precision_weighted_low_MLP, pr_weighted)    \n",
    "    \n",
    "    Recall_micro_low_MLP = np.append(Recall_micro_low_MLP, re_micro)\n",
    "    Recall_macro_low_MLP = np.append(Recall_macro_low_MLP, re_macro)\n",
    "    Recall_weighted_low_MLP = np.append(Recall_weighted_low_MLP, re_weighted)    \n",
    "    \n",
    "    F1_micro_low_MLP = np.append(F1_micro_low_MLP, f1_micro)\n",
    "    F1_macro_low_MLP = np.append(F1_macro_low_MLP, f1_macro)\n",
    "    F1_weighted_low_MLP = np.append(F1_weighted_low_MLP, f1_weighted)\n",
    "    \n",
    "    Sample_Num_low_MLP = np.append(Sample_Num_low_MLP, len(y_train_low_aug[:i]))\n",
    "    \n",
    "    print((i-590)/step)"
   ]
  },
  {
   "cell_type": "code",
   "execution_count": null,
   "metadata": {},
   "outputs": [],
   "source": [
    "df_plot_low_MLP = pd.DataFrame()\n",
    "df_plot_low_MLP['Sample Number'] = Sample_Num_low_MLP\n",
    "\n",
    "df_plot_low_MLP['Precision Micro'] = Precision_micro_low_MLP\n",
    "df_plot_low_MLP['Precision Macro'] = Precision_macro_low_MLP\n",
    "df_plot_low_MLP['Precision Weighted'] = Precision_weighted_low_MLP\n",
    "\n",
    "df_plot_low_MLP['Recall Micro'] = Recall_micro_low_MLP\n",
    "df_plot_low_MLP['Recall Macro'] = Recall_macro_low_MLP\n",
    "df_plot_low_MLP['Recall Weighted'] = Recall_weighted_low_MLP\n",
    "\n",
    "df_plot_low_MLP['F1 Micro'] = F1_micro_low_MLP\n",
    "df_plot_low_MLP['F1 Macro'] = F1_macro_low_MLP\n",
    "df_plot_low_MLP['F1 Weighted'] = F1_weighted_low_MLP\n",
    "\n",
    "df_plot_low_MLP['Resolution'] = 'Low'"
   ]
  },
  {
   "cell_type": "code",
   "execution_count": null,
   "metadata": {},
   "outputs": [],
   "source": [
    "Precision_micro_med_MLP = np.array([])\n",
    "Precision_macro_med_MLP = np.array([])\n",
    "Precision_weighted_med_MLP = np.array([])\n",
    "\n",
    "Recall_micro_med_MLP = np.array([])\n",
    "Recall_macro_med_MLP = np.array([])\n",
    "Recall_weighted_med_MLP = np.array([])\n",
    "\n",
    "F1_micro_med_MLP = np.array([])\n",
    "F1_macro_med_MLP = np.array([])\n",
    "F1_weighted_med_MLP = np.array([])\n",
    "Sample_Num_med_MLP = np.array([])\n",
    "\n",
    "for i in range(590, 2361, step):\n",
    "    \n",
    "    pr_micro, pr_macro, pr_weighted, re_micro, re_macro, re_weighted, f1_micro, f1_macro, f1_weighted = mlp_clf(param_grid_mlp, X_train_med_aug[:i], y_train_med_aug[:i].astype(int), X_test_med, y_test_med)\n",
    "       \n",
    "    Precision_micro_med_MLP = np.append(Precision_micro_med_MLP, pr_micro)\n",
    "    Precision_macro_med_MLP = np.append(Precision_macro_med_MLP, pr_macro)\n",
    "    Precision_weighted_med_MLP = np.append(Precision_weighted_med_MLP, pr_weighted)    \n",
    "    \n",
    "    Recall_micro_med_MLP = np.append(Recall_micro_med_MLP, re_micro)\n",
    "    Recall_macro_med_MLP = np.append(Recall_macro_med_MLP, re_macro)\n",
    "    Recall_weighted_med_MLP = np.append(Recall_weighted_med_MLP, re_weighted)    \n",
    "    \n",
    "    F1_micro_med_MLP = np.append(F1_micro_med_MLP, f1_micro)\n",
    "    F1_macro_med_MLP = np.append(F1_macro_med_MLP, f1_macro)\n",
    "    F1_weighted_med_MLP = np.append(F1_weighted_med_MLP, f1_weighted)\n",
    "    \n",
    "    Sample_Num_med_MLP = np.append(Sample_Num_med_MLP, len(y_train_med_aug[:i]))\n",
    "    \n",
    "    print((i-590)/step)"
   ]
  },
  {
   "cell_type": "code",
   "execution_count": null,
   "metadata": {},
   "outputs": [],
   "source": [
    "df_plot_Med_MLP = pd.DataFrame()\n",
    "df_plot_Med_MLP['Sample Number'] = Sample_Num_Med_MLP\n",
    "\n",
    "df_plot_Med_MLP['Precision Micro'] = Precision_micro_Med_MLP\n",
    "df_plot_Med_MLP['Precision Macro'] = Precision_macro_Med_MLP\n",
    "df_plot_Med_MLP['Precision Weighted'] = Precision_weighted_Med_MLP\n",
    "\n",
    "df_plot_Med_MLP['Recall Micro'] = Recall_micro_Med_MLP\n",
    "df_plot_Med_MLP['Recall Macro'] = Recall_macro_Med_MLP\n",
    "df_plot_Med_MLP['Recall Weighted'] = Recall_weighted_Med_MLP\n",
    "\n",
    "df_plot_Med_MLP['F1 Micro'] = F1_micro_Med_MLP\n",
    "df_plot_Med_MLP['F1 Macro'] = F1_macro_Med_MLP\n",
    "df_plot_Med_MLP['F1 Weighted'] = F1_weighted_Med_MLP\n",
    "\n",
    "df_plot_Med_MLP['Resolution'] = 'Med'"
   ]
  },
  {
   "cell_type": "code",
   "execution_count": null,
   "metadata": {},
   "outputs": [],
   "source": [
    "Precision_micro_high_MLP = np.array([])\n",
    "Precision_macro_high_MLP = np.array([])\n",
    "Precision_weighted_high_MLP = np.array([])\n",
    "\n",
    "Recall_micro_high_MLP = np.array([])\n",
    "Recall_macro_high_MLP = np.array([])\n",
    "Recall_weighted_high_MLP = np.array([])\n",
    "\n",
    "F1_micro_high_MLP = np.array([])\n",
    "F1_macro_high_MLP = np.array([])\n",
    "F1_weighted_high_MLP = np.array([])\n",
    "Sample_Num_high_MLP = np.array([])\n",
    "\n",
    "for i in range(590, 2361, step):\n",
    "    \n",
    "    pr_micro, pr_macro, pr_weighted, re_micro, re_macro, re_weighted, f1_micro, f1_macro, f1_weighted = mlp_clf(param_grid_mlp, X_train_high_aug[:i], y_train_high_aug[:i].astype(int), X_test_high, y_test_high)\n",
    "       \n",
    "    Precision_micro_high_MLP = np.append(Precision_micro_high_MLP, pr_micro)\n",
    "    Precision_macro_high_MLP = np.append(Precision_macro_high_MLP, pr_macro)\n",
    "    Precision_weighted_high_MLP = np.append(Precision_weighted_high_MLP, pr_weighted)    \n",
    "    \n",
    "    Recall_micro_high_MLP = np.append(Recall_micro_high_MLP, re_micro)\n",
    "    Recall_macro_high_MLP = np.append(Recall_macro_high_MLP, re_macro)\n",
    "    Recall_weighted_high_MLP = np.append(Recall_weighted_high_MLP, re_weighted)    \n",
    "    \n",
    "    F1_micro_high_MLP = np.append(F1_micro_high_MLP, f1_micro)\n",
    "    F1_macro_high_MLP = np.append(F1_macro_high_MLP, f1_macro)\n",
    "    F1_weighted_high_MLP = np.append(F1_weighted_high_MLP, f1_weighted)\n",
    "    \n",
    "    Sample_Num_high_MLP = np.append(Sample_Num_high_MLP, len(y_train_high_aug[:i]))\n",
    "    \n",
    "    print((i-590)/step)"
   ]
  },
  {
   "cell_type": "code",
   "execution_count": null,
   "metadata": {},
   "outputs": [],
   "source": [
    "df_plot_high_MLP = pd.DataFrame()\n",
    "df_plot_high_MLP['Sample Number'] = Sample_Num_high_MLP\n",
    "\n",
    "df_plot_high_MLP['Precision Micro'] = Precision_micro_high_MLP\n",
    "df_plot_high_MLP['Precision Macro'] = Precision_macro_high_MLP\n",
    "df_plot_high_MLP['Precision Weighted'] = Precision_weighted_high_MLP\n",
    "\n",
    "df_plot_high_MLP['Recall Micro'] = Recall_micro_high_MLP\n",
    "df_plot_high_MLP['Recall Macro'] = Recall_macro_high_MLP\n",
    "df_plot_high_MLP['Recall Weighted'] = Recall_weighted_high_MLP\n",
    "\n",
    "df_plot_high_MLP['F1 Micro'] = F1_micro_high_MLP\n",
    "df_plot_high_MLP['F1 Macro'] = F1_macro_high_MLP\n",
    "df_plot_high_MLP['F1 Weighted'] = F1_weighted_high_MLP\n",
    "\n",
    "df_plot_high_MLP['Resolution'] = 'High'"
   ]
  },
  {
   "cell_type": "code",
   "execution_count": null,
   "metadata": {},
   "outputs": [],
   "source": [
    "df_plot_MLP = df_plot_low_MLP.append(df_plot_med_MLP, ignore_index=True)\n",
    "df_plot_MLP = df_plot_MLP.append(df_plot_high_MLP, ignore_index=True)"
   ]
  },
  {
   "cell_type": "code",
   "execution_count": null,
   "metadata": {},
   "outputs": [],
   "source": [
    "fig, ax = plt.subplots(figsize=a4_dims)\n",
    "ax = sns.lineplot(x=\"Sample Number\", y=\"F1 Micro\", legend=\"full\", hue=\"Resolution\", palette=palette_3,\n",
    "                  \n",
    "                  \n",
    "                  data=df_plot_MLP)\n",
    "#sns.scatterplot\n",
    "#plt.legend(loc='center left', bbox_to_anchor=(1.0, 0.5))\n",
    "#ax.set_xlim(-2.5,3.5)\n",
    "#plt.savefig('./results/graphics/ST_LR.pdf', format='pdf', bbox_inches='tight')\n",
    "plt.show()"
   ]
  },
  {
   "cell_type": "code",
   "execution_count": null,
   "metadata": {},
   "outputs": [],
   "source": []
  },
  {
   "cell_type": "code",
   "execution_count": null,
   "metadata": {},
   "outputs": [],
   "source": [
    "path_MLP = './data_augmentation/results/df_MLP.csv'\n",
    "df_plot_MLP.to_csv(path_MLP, index=True)"
   ]
  },
  {
   "cell_type": "code",
   "execution_count": null,
   "metadata": {},
   "outputs": [],
   "source": []
  },
  {
   "cell_type": "code",
   "execution_count": null,
   "metadata": {},
   "outputs": [],
   "source": []
  },
  {
   "cell_type": "code",
   "execution_count": null,
   "metadata": {},
   "outputs": [],
   "source": []
  },
  {
   "cell_type": "code",
   "execution_count": null,
   "metadata": {},
   "outputs": [],
   "source": []
  },
  {
   "cell_type": "code",
   "execution_count": null,
   "metadata": {},
   "outputs": [],
   "source": []
  },
  {
   "cell_type": "code",
   "execution_count": null,
   "metadata": {},
   "outputs": [],
   "source": []
  },
  {
   "cell_type": "code",
   "execution_count": null,
   "metadata": {},
   "outputs": [],
   "source": []
  },
  {
   "cell_type": "code",
   "execution_count": null,
   "metadata": {},
   "outputs": [],
   "source": []
  }
 ],
 "metadata": {
  "kernelspec": {
   "display_name": "Python 3",
   "language": "python",
   "name": "python3"
  },
  "language_info": {
   "codemirror_mode": {
    "name": "ipython",
    "version": 3
   },
   "file_extension": ".py",
   "mimetype": "text/x-python",
   "name": "python",
   "nbconvert_exporter": "python",
   "pygments_lexer": "ipython3",
   "version": "3.7.3"
  }
 },
 "nbformat": 4,
 "nbformat_minor": 2
}
