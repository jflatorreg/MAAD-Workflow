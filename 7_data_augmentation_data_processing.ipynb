{
 "cells": [
  {
   "cell_type": "markdown",
   "metadata": {},
   "source": [
    "# Data Augmentation Data Processing"
   ]
  },
  {
   "cell_type": "code",
   "execution_count": 1,
   "metadata": {},
   "outputs": [],
   "source": [
    "\"\"\"\n",
    "The regions of interest of augmented data are labeled and the training and test sets are created.\n",
    "\n",
    "@author: Juan Felipe Latorre Gil - jflatorreg@unal.edu.co\n",
    "\"\"\"\n",
    "\n",
    "import pandas as pd\n",
    "import numpy as np\n",
    "from sklearn.model_selection import train_test_split"
   ]
  },
  {
   "cell_type": "code",
   "execution_count": 2,
   "metadata": {},
   "outputs": [],
   "source": [
    "def class_matching(df_features):\n",
    "    \n",
    "    \"\"\"\n",
    "    Regions of interest are labeled.\n",
    "    \n",
    "    Parameters:\n",
    "    ----------\n",
    "        df_features: DataFrame \n",
    "            DataFrame with the information and characteristics of the regions of interest.          \n",
    "    Returns:\n",
    "    -------\n",
    "        df_features_labeled: DataFrame \n",
    "        DataFrame with the information, labels and characteristics of the regions of interest.\n",
    "            \n",
    "    \"\"\" \n",
    "    \n",
    "    df = pd.concat([df_features,\n",
    "                    lab_wname,\n",
    "                    lab_bin],\n",
    "                    axis=1)\n",
    "    df.reset_index(inplace=True, drop=True)\n",
    "    df.dropna(axis=0, inplace=True)\n",
    "    df = df.loc[~df.lab_wname.isin(['1_vfar','1_ago']),:]\n",
    "    df['lab_gt'] = df['lab_gt'].astype(int)\n",
    "    return df"
   ]
  },
  {
   "cell_type": "code",
   "execution_count": 3,
   "metadata": {},
   "outputs": [],
   "source": [
    "def split(X, y):\n",
    "    \n",
    "    \"\"\"\n",
    "    Split the dataset into 70% for training and 30% for testing.\n",
    "    \n",
    "    Parameters:\n",
    "    ----------\n",
    "        X: numpy.array \n",
    "           Array with the characteristics of the regions of interest. \n",
    "        y: numpy.array  \n",
    "           Array with labels of regions of interest.\n",
    "    Returns:\n",
    "    -------\n",
    "        X_train: numpy.array \n",
    "            Array with the characteristics of the regions of interest for training.\n",
    "        X_test: numpy.array\n",
    "            Array with the characteristics of the regions of interest for test.\n",
    "        y_train: numpy.array\n",
    "            Array with labels of regions of interest for training.\n",
    "        y_test: numpy.array\n",
    "            Array with labels of regions of interest for test.\n",
    "    \"\"\" \n",
    "    \n",
    "    X_train, X_test, y_train, y_test = train_test_split(X, y,\n",
    "                                                        test_size=0.3,\n",
    "                                                        random_state=42,\n",
    "                                                        stratify=y,\n",
    "                                                        shuffle=True)\n",
    "    return X_train, X_test, y_train, y_test"
   ]
  },
  {
   "cell_type": "code",
   "execution_count": 4,
   "metadata": {},
   "outputs": [
    {
     "name": "stderr",
     "output_type": "stream",
     "text": [
      "/home/juanfe/anaconda3/lib/python3.7/site-packages/pandas/core/indexing.py:190: SettingWithCopyWarning: \n",
      "A value is trying to be set on a copy of a slice from a DataFrame\n",
      "\n",
      "See the caveats in the documentation: http://pandas.pydata.org/pandas-docs/stable/indexing.html#indexing-view-versus-copy\n",
      "  self._setitem_with_indexer(indexer, value)\n"
     ]
    }
   ],
   "source": [
    "path_mannot = './data/trainds_mannot.txt'\n",
    "gt = pd.read_csv(path_mannot, header=None, usecols=[0,1,2], sep='\\t', \n",
    "                 names=['onset','offset','label'])\n",
    "idx_annotated = (gt.label.str[1]=='_')\n",
    "lab_wname = gt['label']\n",
    "lab_wname.loc[~idx_annotated] = np.nan\n",
    "lab_bin = lab_wname.str[0]\n",
    "lab_bin.name = 'lab_gt'\n",
    "lab_wname.name = 'lab_wname'"
   ]
  },
  {
   "cell_type": "code",
   "execution_count": 5,
   "metadata": {},
   "outputs": [],
   "source": [
    "path_low  = './results/df_features_low.csv'\n",
    "path_med  = './results/df_features_med.csv'\n",
    "path_high = './results/df_features_high.csv'"
   ]
  },
  {
   "cell_type": "code",
   "execution_count": 6,
   "metadata": {},
   "outputs": [],
   "source": [
    "df_features_low  = pd.read_csv(path_low)\n",
    "df_features_med  = pd.read_csv(path_med)\n",
    "df_features_high = pd.read_csv(path_high)"
   ]
  },
  {
   "cell_type": "code",
   "execution_count": 7,
   "metadata": {},
   "outputs": [],
   "source": [
    "df_features_low = class_matching(df_features_low)\n",
    "df_features_med = class_matching(df_features_med)\n",
    "df_features_high = class_matching(df_features_high)"
   ]
  },
  {
   "cell_type": "code",
   "execution_count": 8,
   "metadata": {},
   "outputs": [
    {
     "data": {
      "text/html": [
       "<div>\n",
       "<style scoped>\n",
       "    .dataframe tbody tr th:only-of-type {\n",
       "        vertical-align: middle;\n",
       "    }\n",
       "\n",
       "    .dataframe tbody tr th {\n",
       "        vertical-align: top;\n",
       "    }\n",
       "\n",
       "    .dataframe thead th {\n",
       "        text-align: right;\n",
       "    }\n",
       "</style>\n",
       "<table border=\"1\" class=\"dataframe\">\n",
       "  <thead>\n",
       "    <tr style=\"text-align: right;\">\n",
       "      <th></th>\n",
       "      <th>min_f</th>\n",
       "      <th>min_t</th>\n",
       "      <th>max_f</th>\n",
       "      <th>max_t</th>\n",
       "      <th>shp_001</th>\n",
       "      <th>shp_002</th>\n",
       "      <th>shp_003</th>\n",
       "      <th>shp_004</th>\n",
       "      <th>shp_005</th>\n",
       "      <th>shp_006</th>\n",
       "      <th>...</th>\n",
       "      <th>shp_011</th>\n",
       "      <th>shp_012</th>\n",
       "      <th>shp_013</th>\n",
       "      <th>shp_014</th>\n",
       "      <th>shp_015</th>\n",
       "      <th>shp_016</th>\n",
       "      <th>frequency</th>\n",
       "      <th>fname</th>\n",
       "      <th>lab_wname</th>\n",
       "      <th>lab_gt</th>\n",
       "    </tr>\n",
       "  </thead>\n",
       "  <tbody>\n",
       "    <tr>\n",
       "      <th>0</th>\n",
       "      <td>1033.59375</td>\n",
       "      <td>13.641723</td>\n",
       "      <td>3962.109375</td>\n",
       "      <td>13.943583</td>\n",
       "      <td>0.215264</td>\n",
       "      <td>0.190990</td>\n",
       "      <td>0.116268</td>\n",
       "      <td>0.126183</td>\n",
       "      <td>0.129120</td>\n",
       "      <td>0.193653</td>\n",
       "      <td>...</td>\n",
       "      <td>0.086261</td>\n",
       "      <td>0.134829</td>\n",
       "      <td>0.152529</td>\n",
       "      <td>0.332851</td>\n",
       "      <td>0.093930</td>\n",
       "      <td>0.170100</td>\n",
       "      <td>2540.917969</td>\n",
       "      <td>BETA-_20161029_070000.wav</td>\n",
       "      <td>0_bio</td>\n",
       "      <td>0</td>\n",
       "    </tr>\n",
       "    <tr>\n",
       "      <th>1</th>\n",
       "      <td>1033.59375</td>\n",
       "      <td>89.327166</td>\n",
       "      <td>3962.109375</td>\n",
       "      <td>89.629025</td>\n",
       "      <td>0.182053</td>\n",
       "      <td>0.154664</td>\n",
       "      <td>0.114540</td>\n",
       "      <td>0.134009</td>\n",
       "      <td>0.108070</td>\n",
       "      <td>0.155816</td>\n",
       "      <td>...</td>\n",
       "      <td>0.116785</td>\n",
       "      <td>0.257436</td>\n",
       "      <td>0.094424</td>\n",
       "      <td>0.185640</td>\n",
       "      <td>0.192523</td>\n",
       "      <td>0.398138</td>\n",
       "      <td>2540.917969</td>\n",
       "      <td>BETA_20161115_160000.wav</td>\n",
       "      <td>0_bio</td>\n",
       "      <td>0</td>\n",
       "    </tr>\n",
       "    <tr>\n",
       "      <th>2</th>\n",
       "      <td>1033.59375</td>\n",
       "      <td>40.449161</td>\n",
       "      <td>3962.109375</td>\n",
       "      <td>40.704580</td>\n",
       "      <td>0.233314</td>\n",
       "      <td>0.220245</td>\n",
       "      <td>0.126293</td>\n",
       "      <td>0.154195</td>\n",
       "      <td>0.179288</td>\n",
       "      <td>0.242303</td>\n",
       "      <td>...</td>\n",
       "      <td>0.231775</td>\n",
       "      <td>0.318858</td>\n",
       "      <td>0.330626</td>\n",
       "      <td>0.514024</td>\n",
       "      <td>0.231017</td>\n",
       "      <td>0.287843</td>\n",
       "      <td>2454.785156</td>\n",
       "      <td>BETA_20161128_032000.wav</td>\n",
       "      <td>0_bio</td>\n",
       "      <td>0</td>\n",
       "    </tr>\n",
       "    <tr>\n",
       "      <th>3</th>\n",
       "      <td>1033.59375</td>\n",
       "      <td>81.885170</td>\n",
       "      <td>3962.109375</td>\n",
       "      <td>82.198639</td>\n",
       "      <td>0.169950</td>\n",
       "      <td>0.158950</td>\n",
       "      <td>0.107573</td>\n",
       "      <td>0.136715</td>\n",
       "      <td>0.111021</td>\n",
       "      <td>0.158293</td>\n",
       "      <td>...</td>\n",
       "      <td>0.143788</td>\n",
       "      <td>0.264087</td>\n",
       "      <td>0.150681</td>\n",
       "      <td>0.375410</td>\n",
       "      <td>0.226039</td>\n",
       "      <td>0.351922</td>\n",
       "      <td>2540.917969</td>\n",
       "      <td>BETA-_20161109_070000.wav</td>\n",
       "      <td>0_bio</td>\n",
       "      <td>0</td>\n",
       "    </tr>\n",
       "    <tr>\n",
       "      <th>4</th>\n",
       "      <td>1033.59375</td>\n",
       "      <td>10.100680</td>\n",
       "      <td>3962.109375</td>\n",
       "      <td>10.425760</td>\n",
       "      <td>0.210391</td>\n",
       "      <td>0.201080</td>\n",
       "      <td>0.115546</td>\n",
       "      <td>0.134888</td>\n",
       "      <td>0.151931</td>\n",
       "      <td>0.202441</td>\n",
       "      <td>...</td>\n",
       "      <td>0.124151</td>\n",
       "      <td>0.240277</td>\n",
       "      <td>0.122903</td>\n",
       "      <td>0.306885</td>\n",
       "      <td>0.164721</td>\n",
       "      <td>0.344301</td>\n",
       "      <td>2497.851562</td>\n",
       "      <td>BETA_20161112_100000.wav</td>\n",
       "      <td>0_bio</td>\n",
       "      <td>0</td>\n",
       "    </tr>\n",
       "  </tbody>\n",
       "</table>\n",
       "<p>5 rows × 24 columns</p>\n",
       "</div>"
      ],
      "text/plain": [
       "        min_f      min_t        max_f      max_t   shp_001   shp_002  \\\n",
       "0  1033.59375  13.641723  3962.109375  13.943583  0.215264  0.190990   \n",
       "1  1033.59375  89.327166  3962.109375  89.629025  0.182053  0.154664   \n",
       "2  1033.59375  40.449161  3962.109375  40.704580  0.233314  0.220245   \n",
       "3  1033.59375  81.885170  3962.109375  82.198639  0.169950  0.158950   \n",
       "4  1033.59375  10.100680  3962.109375  10.425760  0.210391  0.201080   \n",
       "\n",
       "    shp_003   shp_004   shp_005   shp_006  ...   shp_011   shp_012   shp_013  \\\n",
       "0  0.116268  0.126183  0.129120  0.193653  ...  0.086261  0.134829  0.152529   \n",
       "1  0.114540  0.134009  0.108070  0.155816  ...  0.116785  0.257436  0.094424   \n",
       "2  0.126293  0.154195  0.179288  0.242303  ...  0.231775  0.318858  0.330626   \n",
       "3  0.107573  0.136715  0.111021  0.158293  ...  0.143788  0.264087  0.150681   \n",
       "4  0.115546  0.134888  0.151931  0.202441  ...  0.124151  0.240277  0.122903   \n",
       "\n",
       "    shp_014   shp_015   shp_016    frequency                      fname  \\\n",
       "0  0.332851  0.093930  0.170100  2540.917969  BETA-_20161029_070000.wav   \n",
       "1  0.185640  0.192523  0.398138  2540.917969   BETA_20161115_160000.wav   \n",
       "2  0.514024  0.231017  0.287843  2454.785156   BETA_20161128_032000.wav   \n",
       "3  0.375410  0.226039  0.351922  2540.917969  BETA-_20161109_070000.wav   \n",
       "4  0.306885  0.164721  0.344301  2497.851562   BETA_20161112_100000.wav   \n",
       "\n",
       "   lab_wname  lab_gt  \n",
       "0      0_bio       0  \n",
       "1      0_bio       0  \n",
       "2      0_bio       0  \n",
       "3      0_bio       0  \n",
       "4      0_bio       0  \n",
       "\n",
       "[5 rows x 24 columns]"
      ]
     },
     "execution_count": 8,
     "metadata": {},
     "output_type": "execute_result"
    }
   ],
   "source": [
    "df_features_low.head()"
   ]
  },
  {
   "cell_type": "code",
   "execution_count": 9,
   "metadata": {},
   "outputs": [
    {
     "data": {
      "text/plain": [
       "0_bio      387\n",
       "0_geo      325\n",
       "1_med      123\n",
       "1_cl       107\n",
       "1_ovlp     100\n",
       "1_far       45\n",
       "0_dog       17\n",
       "0_voice      4\n",
       "0_ovlp       2\n",
       "Name: lab_wname, dtype: int64"
      ]
     },
     "execution_count": 9,
     "metadata": {},
     "output_type": "execute_result"
    }
   ],
   "source": [
    "df_features_low['lab_wname'].value_counts()"
   ]
  },
  {
   "cell_type": "code",
   "execution_count": 10,
   "metadata": {},
   "outputs": [],
   "source": [
    "id_1_cl = list(df_features_low[df_features_low['lab_wname']=='1_cl'].index)\n",
    "id_1_med = list(df_features_low[df_features_low['lab_wname']=='1_med'].index)\n",
    "id_1_ovlp = list(df_features_low[df_features_low['lab_wname']=='1_ovlp'].index)\n",
    "id_1_far = list(df_features_low[df_features_low['lab_wname']=='1_far'].index)"
   ]
  },
  {
   "cell_type": "code",
   "execution_count": 11,
   "metadata": {},
   "outputs": [],
   "source": [
    "id_0 = list(df_features_low[df_features_low['lab_gt']== 0].index)"
   ]
  },
  {
   "cell_type": "code",
   "execution_count": 12,
   "metadata": {},
   "outputs": [],
   "source": [
    "np.random.seed(24)\n",
    "\n",
    "data_percent = 0.3\n",
    "\n",
    "id_1_cl = np.random.choice(id_1_cl, int(len(id_1_cl)*data_percent), replace=False)\n",
    "id_1_med = np.random.choice(id_1_med, int(len(id_1_med)*data_percent), replace=False)\n",
    "id_1_ovlp = np.random.choice(id_1_ovlp, int(len(id_1_ovlp)*data_percent), replace=False)\n",
    "id_1_far = np.random.choice(id_1_far, int(len(id_1_far)*data_percent), replace=False)\n",
    "id_0 = np.random.choice(id_0, int(len(id_0)*data_percent), replace=False)"
   ]
  },
  {
   "cell_type": "code",
   "execution_count": 13,
   "metadata": {},
   "outputs": [
    {
     "data": {
      "text/plain": [
       "220"
      ]
     },
     "execution_count": 13,
     "metadata": {},
     "output_type": "execute_result"
    }
   ],
   "source": [
    "len(id_0)"
   ]
  },
  {
   "cell_type": "code",
   "execution_count": 14,
   "metadata": {},
   "outputs": [],
   "source": [
    "s_1_cl = pd.Series(id_1_cl, index=id_1_cl)\n",
    "s_1_med = pd.Series(id_1_med, index=id_1_med)\n",
    "s_1_ovlp = pd.Series(id_1_ovlp, index=id_1_ovlp)\n",
    "s_1_far = pd.Series(id_1_far, index=id_1_far)\n",
    "\n",
    "s_0 = pd.Series(id_0, index=id_0)"
   ]
  },
  {
   "cell_type": "code",
   "execution_count": null,
   "metadata": {},
   "outputs": [],
   "source": []
  },
  {
   "cell_type": "code",
   "execution_count": 15,
   "metadata": {
    "scrolled": true
   },
   "outputs": [],
   "source": [
    "s_id = s_1_cl.append([s_1_med,s_1_ovlp,s_1_far,s_0])\n",
    "#s_id = s_1_cl.append([s_1_med,s_1_ovlp,s_1_far])\n",
    "\n",
    "\n",
    "\n",
    "s_id_0 = s_1_cl.append([s_1_med,s_1_ovlp,s_1_far,s_0])"
   ]
  },
  {
   "cell_type": "code",
   "execution_count": 16,
   "metadata": {
    "scrolled": true
   },
   "outputs": [
    {
     "data": {
      "text/plain": [
       "415      415\n",
       "431      431\n",
       "1060    1060\n",
       "845      845\n",
       "1064    1064\n",
       "445      445\n",
       "422      422\n",
       "803      803\n",
       "1057    1057\n",
       "1678    1678\n",
       "1674    1674\n",
       "1839    1839\n",
       "1694    1694\n",
       "823      823\n",
       "1129    1129\n",
       "1116    1116\n",
       "843      843\n",
       "1110    1110\n",
       "1061    1061\n",
       "1050    1050\n",
       "1637    1637\n",
       "1863    1863\n",
       "1056    1056\n",
       "825      825\n",
       "1672    1672\n",
       "1068    1068\n",
       "1474    1474\n",
       "805      805\n",
       "1089    1089\n",
       "842      842\n",
       "        ... \n",
       "528      528\n",
       "324      324\n",
       "326      326\n",
       "416      416\n",
       "867      867\n",
       "1341    1341\n",
       "1213    1213\n",
       "1890    1890\n",
       "1588    1588\n",
       "206      206\n",
       "235      235\n",
       "1464    1464\n",
       "1350    1350\n",
       "1775    1775\n",
       "1386    1386\n",
       "1445    1445\n",
       "536      536\n",
       "727      727\n",
       "1380    1380\n",
       "1364    1364\n",
       "129      129\n",
       "744      744\n",
       "106      106\n",
       "872      872\n",
       "1381    1381\n",
       "970      970\n",
       "325      325\n",
       "1593    1593\n",
       "1369    1369\n",
       "979      979\n",
       "Length: 331, dtype: int64"
      ]
     },
     "execution_count": 16,
     "metadata": {},
     "output_type": "execute_result"
    }
   ],
   "source": [
    "s_id "
   ]
  },
  {
   "cell_type": "code",
   "execution_count": 17,
   "metadata": {},
   "outputs": [
    {
     "name": "stdout",
     "output_type": "stream",
     "text": [
      "Datos Anotados Categoria 1: 111\n"
     ]
    }
   ],
   "source": [
    "print('Datos Anotados Categoria 1:', len(s_id) - len(id_0))"
   ]
  },
  {
   "cell_type": "code",
   "execution_count": 18,
   "metadata": {},
   "outputs": [],
   "source": [
    "id_selc = s_id.tolist()\n",
    "id_selc_0 = s_id_0.tolist()"
   ]
  },
  {
   "cell_type": "code",
   "execution_count": 19,
   "metadata": {},
   "outputs": [
    {
     "data": {
      "text/plain": [
       "331"
      ]
     },
     "execution_count": 19,
     "metadata": {},
     "output_type": "execute_result"
    }
   ],
   "source": [
    "len(id_selc)"
   ]
  },
  {
   "cell_type": "code",
   "execution_count": 20,
   "metadata": {},
   "outputs": [
    {
     "data": {
      "text/plain": [
       "331"
      ]
     },
     "execution_count": 20,
     "metadata": {},
     "output_type": "execute_result"
    }
   ],
   "source": [
    "len(id_selc_0 )"
   ]
  },
  {
   "cell_type": "code",
   "execution_count": null,
   "metadata": {},
   "outputs": [],
   "source": []
  },
  {
   "cell_type": "code",
   "execution_count": null,
   "metadata": {},
   "outputs": [],
   "source": []
  },
  {
   "cell_type": "code",
   "execution_count": null,
   "metadata": {},
   "outputs": [],
   "source": []
  },
  {
   "cell_type": "code",
   "execution_count": 21,
   "metadata": {},
   "outputs": [],
   "source": [
    "X_low = df_features_low.loc[:,df_features_low.columns.str.startswith('shp')]\n",
    "y_low = df_features_low.loc[:,'lab_gt']\n",
    "\n",
    "X_med = df_features_med.loc[:,df_features_med.columns.str.startswith('shp')]\n",
    "y_med = df_features_med.loc[:,'lab_gt']\n",
    "\n",
    "X_high = df_features_high.loc[:,df_features_high.columns.str.startswith('shp')]\n",
    "y_high = df_features_high.loc[:,'lab_gt']"
   ]
  },
  {
   "cell_type": "code",
   "execution_count": null,
   "metadata": {
    "scrolled": true
   },
   "outputs": [],
   "source": []
  },
  {
   "cell_type": "code",
   "execution_count": 22,
   "metadata": {},
   "outputs": [],
   "source": [
    "X_train_low, X_test_low, y_train_low, y_test_low = split(X_low, y_low)\n",
    "\n",
    "X_train_med, X_test_med, y_train_med, y_test_med = split(X_med, y_med)\n",
    "\n",
    "X_train_high, X_test_high, y_train_high, y_test_high = split(X_high, y_high)"
   ]
  },
  {
   "cell_type": "code",
   "execution_count": 23,
   "metadata": {
    "scrolled": true
   },
   "outputs": [],
   "source": [
    "X_train_low = X_train_low.reindex(id_selc_0).dropna()\n",
    "y_train_low = y_train_low.reindex(id_selc_0).dropna()\n",
    "\n",
    "X_train_med = X_train_med.reindex(id_selc_0).dropna()\n",
    "y_train_med = y_train_med.reindex(id_selc_0).dropna()\n",
    "\n",
    "X_train_high = X_train_high.reindex(id_selc_0).dropna()\n",
    "y_train_high = y_train_high.reindex(id_selc_0).dropna()"
   ]
  },
  {
   "cell_type": "code",
   "execution_count": null,
   "metadata": {},
   "outputs": [],
   "source": []
  },
  {
   "cell_type": "code",
   "execution_count": 24,
   "metadata": {},
   "outputs": [
    {
     "data": {
      "text/plain": [
       "229"
      ]
     },
     "execution_count": 24,
     "metadata": {},
     "output_type": "execute_result"
    }
   ],
   "source": [
    "len(y_train_low)"
   ]
  },
  {
   "cell_type": "code",
   "execution_count": 25,
   "metadata": {},
   "outputs": [
    {
     "data": {
      "text/plain": [
       "229"
      ]
     },
     "execution_count": 25,
     "metadata": {},
     "output_type": "execute_result"
    }
   ],
   "source": [
    "len(y_train_low)"
   ]
  },
  {
   "cell_type": "code",
   "execution_count": null,
   "metadata": {},
   "outputs": [],
   "source": []
  },
  {
   "cell_type": "code",
   "execution_count": null,
   "metadata": {},
   "outputs": [],
   "source": []
  },
  {
   "cell_type": "code",
   "execution_count": 26,
   "metadata": {},
   "outputs": [],
   "source": [
    "path_low_set_1  = './data_augmentation/df_features_low_set_1.csv'\n",
    "path_med_set_1  = './data_augmentation/df_features_med_set_1.csv'\n",
    "path_high_set_1 = './data_augmentation/df_features_high_set_1.csv'"
   ]
  },
  {
   "cell_type": "code",
   "execution_count": 27,
   "metadata": {},
   "outputs": [],
   "source": [
    "df_features_low_set_1  = pd.read_csv(path_low_set_1)\n",
    "df_features_med_set_1  = pd.read_csv(path_med_set_1)\n",
    "df_features_high_set_1 = pd.read_csv(path_high_set_1)"
   ]
  },
  {
   "cell_type": "code",
   "execution_count": 28,
   "metadata": {},
   "outputs": [],
   "source": [
    "df_features_low_set_1 = class_matching(df_features_low_set_1)\n",
    "df_features_med_set_1 = class_matching(df_features_med_set_1)\n",
    "df_features_high_set_1 = class_matching(df_features_high_set_1)"
   ]
  },
  {
   "cell_type": "code",
   "execution_count": null,
   "metadata": {},
   "outputs": [],
   "source": []
  },
  {
   "cell_type": "code",
   "execution_count": null,
   "metadata": {},
   "outputs": [],
   "source": []
  },
  {
   "cell_type": "code",
   "execution_count": null,
   "metadata": {},
   "outputs": [],
   "source": []
  },
  {
   "cell_type": "code",
   "execution_count": null,
   "metadata": {},
   "outputs": [],
   "source": []
  },
  {
   "cell_type": "code",
   "execution_count": 29,
   "metadata": {},
   "outputs": [],
   "source": [
    "path_low_set_2  = './data_augmentation/df_features_low_set_2.csv'\n",
    "path_med_set_2  = './data_augmentation/df_features_med_set_2.csv'\n",
    "path_high_set_2 = './data_augmentation/df_features_high_set_2.csv'"
   ]
  },
  {
   "cell_type": "code",
   "execution_count": 30,
   "metadata": {},
   "outputs": [],
   "source": [
    "df_features_low_set_2  = pd.read_csv(path_low_set_2)\n",
    "df_features_med_set_2  = pd.read_csv(path_med_set_2)\n",
    "df_features_high_set_2 = pd.read_csv(path_high_set_2)"
   ]
  },
  {
   "cell_type": "code",
   "execution_count": 31,
   "metadata": {},
   "outputs": [],
   "source": [
    "df_features_low_set_2 = class_matching(df_features_low_set_2)\n",
    "df_features_med_set_2 = class_matching(df_features_med_set_2)\n",
    "df_features_high_set_2 = class_matching(df_features_high_set_2)"
   ]
  },
  {
   "cell_type": "code",
   "execution_count": null,
   "metadata": {},
   "outputs": [],
   "source": []
  },
  {
   "cell_type": "code",
   "execution_count": null,
   "metadata": {},
   "outputs": [],
   "source": []
  },
  {
   "cell_type": "code",
   "execution_count": 32,
   "metadata": {},
   "outputs": [],
   "source": [
    "path_low_set_3  = './data_augmentation/df_features_low_set_3.csv'\n",
    "path_med_set_3  = './data_augmentation/df_features_med_set_3.csv'\n",
    "path_high_set_3 = './data_augmentation/df_features_high_set_3.csv'"
   ]
  },
  {
   "cell_type": "code",
   "execution_count": 33,
   "metadata": {},
   "outputs": [],
   "source": [
    "df_features_low_set_3  = pd.read_csv(path_low_set_3)\n",
    "df_features_med_set_3  = pd.read_csv(path_med_set_3)\n",
    "df_features_high_set_3 = pd.read_csv(path_high_set_3)"
   ]
  },
  {
   "cell_type": "code",
   "execution_count": 34,
   "metadata": {},
   "outputs": [],
   "source": [
    "df_features_low_set_3 = class_matching(df_features_low_set_3)\n",
    "df_features_med_set_3 = class_matching(df_features_med_set_3)\n",
    "df_features_high_set_3 = class_matching(df_features_high_set_3)"
   ]
  },
  {
   "cell_type": "code",
   "execution_count": null,
   "metadata": {},
   "outputs": [],
   "source": []
  },
  {
   "cell_type": "code",
   "execution_count": null,
   "metadata": {},
   "outputs": [],
   "source": []
  },
  {
   "cell_type": "code",
   "execution_count": null,
   "metadata": {},
   "outputs": [],
   "source": []
  },
  {
   "cell_type": "code",
   "execution_count": 35,
   "metadata": {},
   "outputs": [],
   "source": [
    "X_low_set_1 = df_features_low_set_1.loc[:,df_features_low_set_1.columns.str.startswith('shp')]\n",
    "y_low_set_1 = df_features_low_set_1.loc[:,'lab_gt']\n",
    "\n",
    "X_med_set_1 = df_features_med_set_1.loc[:,df_features_med_set_1.columns.str.startswith('shp')]\n",
    "y_med_set_1 = df_features_med_set_1.loc[:,'lab_gt']\n",
    "\n",
    "X_high_set_1 = df_features_high_set_1.loc[:,df_features_high_set_1.columns.str.startswith('shp')]\n",
    "y_high_set_1 = df_features_high_set_1.loc[:,'lab_gt']"
   ]
  },
  {
   "cell_type": "code",
   "execution_count": 36,
   "metadata": {},
   "outputs": [],
   "source": [
    "X_low_set_2 = df_features_low_set_2.loc[:,df_features_low_set_2.columns.str.startswith('shp')]\n",
    "y_low_set_2 = df_features_low_set_2.loc[:,'lab_gt']\n",
    "\n",
    "X_med_set_2 = df_features_med_set_2.loc[:,df_features_med_set_2.columns.str.startswith('shp')]\n",
    "y_med_set_2 = df_features_med_set_2.loc[:,'lab_gt']\n",
    "\n",
    "X_high_set_2 = df_features_high_set_2.loc[:,df_features_high_set_2.columns.str.startswith('shp')]\n",
    "y_high_set_2 = df_features_high_set_2.loc[:,'lab_gt']"
   ]
  },
  {
   "cell_type": "code",
   "execution_count": 37,
   "metadata": {},
   "outputs": [],
   "source": [
    "X_low_set_3 = df_features_low_set_3.loc[:,df_features_low_set_3.columns.str.startswith('shp')]\n",
    "y_low_set_3 = df_features_low_set_3.loc[:,'lab_gt']\n",
    "\n",
    "X_med_set_3 = df_features_med_set_3.loc[:,df_features_med_set_3.columns.str.startswith('shp')]\n",
    "y_med_set_3 = df_features_med_set_3.loc[:,'lab_gt']\n",
    "\n",
    "X_high_set_3 = df_features_high_set_3.loc[:,df_features_high_set_3.columns.str.startswith('shp')]\n",
    "y_high_set_3 = df_features_high_set_3.loc[:,'lab_gt']"
   ]
  },
  {
   "cell_type": "code",
   "execution_count": null,
   "metadata": {},
   "outputs": [],
   "source": []
  },
  {
   "cell_type": "code",
   "execution_count": 38,
   "metadata": {},
   "outputs": [
    {
     "data": {
      "text/plain": [
       "1110"
      ]
     },
     "execution_count": 38,
     "metadata": {},
     "output_type": "execute_result"
    }
   ],
   "source": [
    "len(y_high_set_3)"
   ]
  },
  {
   "cell_type": "code",
   "execution_count": null,
   "metadata": {},
   "outputs": [],
   "source": []
  },
  {
   "cell_type": "code",
   "execution_count": null,
   "metadata": {},
   "outputs": [],
   "source": []
  },
  {
   "cell_type": "code",
   "execution_count": 39,
   "metadata": {},
   "outputs": [],
   "source": [
    "X_train_low_set_1, X_test_low_set_1, y_train_low_set_1, y_test_low_set_1 = split(X_low_set_1, y_low_set_1)\n",
    "\n",
    "X_train_med_set_1, X_test_med_set_1, y_train_med_set_1, y_test_med_set_1 = split(X_med_set_1, y_med_set_1)\n",
    "\n",
    "X_train_high_set_1, X_test_high_set_1, y_train_high_set_1, y_test_high_set_1 = split(X_high_set_1, y_high_set_1)"
   ]
  },
  {
   "cell_type": "code",
   "execution_count": 40,
   "metadata": {},
   "outputs": [],
   "source": [
    "X_train_low_set_1 = X_train_low_set_1.reindex(id_selc).dropna()\n",
    "y_train_low_set_1 = y_train_low_set_1.reindex(id_selc).dropna()\n",
    "\n",
    "X_train_med_set_1 = X_train_med_set_1.reindex(id_selc).dropna()\n",
    "y_train_med_set_1 = y_train_med_set_1.reindex(id_selc).dropna()\n",
    "\n",
    "X_train_high_set_1 = X_train_high_set_1.reindex(id_selc).dropna()\n",
    "y_train_high_set_1 = y_train_high_set_1.reindex(id_selc).dropna()"
   ]
  },
  {
   "cell_type": "code",
   "execution_count": null,
   "metadata": {},
   "outputs": [],
   "source": []
  },
  {
   "cell_type": "code",
   "execution_count": null,
   "metadata": {},
   "outputs": [],
   "source": []
  },
  {
   "cell_type": "code",
   "execution_count": null,
   "metadata": {},
   "outputs": [],
   "source": []
  },
  {
   "cell_type": "code",
   "execution_count": null,
   "metadata": {},
   "outputs": [],
   "source": []
  },
  {
   "cell_type": "code",
   "execution_count": 41,
   "metadata": {},
   "outputs": [],
   "source": [
    "X_train_low_set_2, X_test_low_set_2, y_train_low_set_2, y_test_low_set_2 = split(X_low_set_2, y_low_set_2)\n",
    "\n",
    "X_train_med_set_2, X_test_med_set_2, y_train_med_set_2, y_test_med_set_2 = split(X_med_set_2, y_med_set_2)\n",
    "\n",
    "X_train_high_set_2, X_test_high_set_2, y_train_high_set_2, y_test_high_set_2 = split(X_high_set_2, y_high_set_2)"
   ]
  },
  {
   "cell_type": "code",
   "execution_count": 42,
   "metadata": {},
   "outputs": [],
   "source": [
    "X_train_low_set_2 = X_train_low_set_2.reindex(id_selc).dropna()\n",
    "y_train_low_set_2 = y_train_low_set_2.reindex(id_selc).dropna()\n",
    "\n",
    "X_train_med_set_2 = X_train_med_set_2.reindex(id_selc).dropna()\n",
    "y_train_med_set_2 = y_train_med_set_2.reindex(id_selc).dropna()\n",
    "\n",
    "X_train_high_set_2 = X_train_high_set_2.reindex(id_selc).dropna()\n",
    "y_train_high_set_2 = y_train_high_set_2.reindex(id_selc).dropna()"
   ]
  },
  {
   "cell_type": "code",
   "execution_count": null,
   "metadata": {},
   "outputs": [],
   "source": []
  },
  {
   "cell_type": "code",
   "execution_count": null,
   "metadata": {},
   "outputs": [],
   "source": []
  },
  {
   "cell_type": "code",
   "execution_count": null,
   "metadata": {},
   "outputs": [],
   "source": []
  },
  {
   "cell_type": "code",
   "execution_count": null,
   "metadata": {},
   "outputs": [],
   "source": []
  },
  {
   "cell_type": "code",
   "execution_count": 43,
   "metadata": {},
   "outputs": [],
   "source": [
    "X_train_low_set_3, X_test_low_set_3, y_train_low_set_3, y_test_low_set_3 = split(X_low_set_3, y_low_set_3)\n",
    "\n",
    "X_train_med_set_3, X_test_med_set_3, y_train_med_set_3, y_test_med_set_3 = split(X_med_set_3, y_med_set_3)\n",
    "\n",
    "X_train_high_set_3, X_test_high_set_3, y_train_high_set_3, y_test_high_set_3 = split(X_high_set_3, y_high_set_3)"
   ]
  },
  {
   "cell_type": "code",
   "execution_count": 44,
   "metadata": {},
   "outputs": [],
   "source": [
    "X_train_low_set_3 = X_train_low_set_3.reindex(id_selc).dropna()\n",
    "y_train_low_set_3 = y_train_low_set_3.reindex(id_selc).dropna()\n",
    "\n",
    "X_train_med_set_3 = X_train_med_set_3.reindex(id_selc).dropna()\n",
    "y_train_med_set_3 = y_train_med_set_3.reindex(id_selc).dropna()\n",
    "\n",
    "X_train_high_set_3 = X_train_high_set_3.reindex(id_selc).dropna()\n",
    "y_train_high_set_3 = y_train_high_set_3.reindex(id_selc).dropna()"
   ]
  },
  {
   "cell_type": "code",
   "execution_count": null,
   "metadata": {},
   "outputs": [],
   "source": []
  },
  {
   "cell_type": "code",
   "execution_count": null,
   "metadata": {},
   "outputs": [],
   "source": []
  },
  {
   "cell_type": "code",
   "execution_count": 45,
   "metadata": {},
   "outputs": [
    {
     "data": {
      "text/plain": [
       "1110"
      ]
     },
     "execution_count": 45,
     "metadata": {},
     "output_type": "execute_result"
    }
   ],
   "source": [
    "len(y_high_set_3)"
   ]
  },
  {
   "cell_type": "code",
   "execution_count": 46,
   "metadata": {},
   "outputs": [],
   "source": [
    "np.save('./data_augmentation/X_train_low.npy', X_train_low)\n",
    "np.save('./data_augmentation/X_test_low.npy', X_test_low)\n",
    "np.save('./data_augmentation/y_train_low.npy', y_train_low)\n",
    "np.save('./data_augmentation/y_test_low.npy', y_test_low)\n",
    "\n",
    "np.save('./data_augmentation/X_train_med.npy', X_train_med)\n",
    "np.save('./data_augmentation/X_test_med.npy', X_test_med)\n",
    "np.save('./data_augmentation/y_train_med.npy', y_train_med)\n",
    "np.save('./data_augmentation/y_test_med.npy', y_test_med)\n",
    "\n",
    "np.save('./data_augmentation/X_train_high.npy', X_train_high)\n",
    "np.save('./data_augmentation/X_test_high.npy', X_test_high)\n",
    "np.save('./data_augmentation/y_train_high.npy', y_train_high)\n",
    "np.save('./data_augmentation/y_test_high.npy', y_test_high)"
   ]
  },
  {
   "cell_type": "code",
   "execution_count": 47,
   "metadata": {},
   "outputs": [],
   "source": [
    "np.save('./data_augmentation/X_train_low_set_1.npy', X_train_low_set_1)\n",
    "np.save('./data_augmentation/X_test_low_set_1.npy', X_test_low_set_1)\n",
    "np.save('./data_augmentation/y_train_low_set_1.npy', y_train_low_set_1)\n",
    "np.save('./data_augmentation/y_test_low_set_1.npy', y_test_low_set_1)\n",
    "\n",
    "np.save('./data_augmentation/X_train_med_set_1.npy', X_train_med_set_1)\n",
    "np.save('./data_augmentation/X_test_med_set_1.npy', X_test_med_set_1)\n",
    "np.save('./data_augmentation/y_train_med_set_1.npy', y_train_med_set_1)\n",
    "np.save('./data_augmentation/y_test_med_set_1.npy', y_test_med_set_1)\n",
    "\n",
    "np.save('./data_augmentation/X_train_high_set_1.npy', X_train_high_set_1)\n",
    "np.save('./data_augmentation/X_test_high_set_1.npy', X_test_high_set_1)\n",
    "np.save('./data_augmentation/y_train_high_set_1.npy', y_train_high_set_1)\n",
    "np.save('./data_augmentation/y_test_high_set_1.npy', y_test_high_set_1)"
   ]
  },
  {
   "cell_type": "code",
   "execution_count": 48,
   "metadata": {},
   "outputs": [],
   "source": [
    "np.save('./data_augmentation/X_train_low_set_2.npy', X_train_low_set_2)\n",
    "np.save('./data_augmentation/X_test_low_set_2.npy', X_test_low_set_2)\n",
    "np.save('./data_augmentation/y_train_low_set_2.npy', y_train_low_set_2)\n",
    "np.save('./data_augmentation/y_test_low_set_2.npy', y_test_low_set_2)\n",
    "\n",
    "np.save('./data_augmentation/X_train_med_set_2.npy', X_train_med_set_2)\n",
    "np.save('./data_augmentation/X_test_med_set_2.npy', X_test_med_set_2)\n",
    "np.save('./data_augmentation/y_train_med_set_2.npy', y_train_med_set_2)\n",
    "np.save('./data_augmentation/y_test_med_set_2.npy', y_test_med_set_2)\n",
    "\n",
    "np.save('./data_augmentation/X_train_high_set_2.npy', X_train_high_set_2)\n",
    "np.save('./data_augmentation/X_test_high_set_2.npy', X_test_high_set_2)\n",
    "np.save('./data_augmentation/y_train_high_set_2.npy', y_train_high_set_2)\n",
    "np.save('./data_augmentation/y_test_high_set_2.npy', y_test_high_set_2)"
   ]
  },
  {
   "cell_type": "code",
   "execution_count": 49,
   "metadata": {},
   "outputs": [],
   "source": [
    "np.save('./data_augmentation/X_train_low_set_3.npy', X_train_low_set_3)\n",
    "np.save('./data_augmentation/X_test_low_set_3.npy', X_test_low_set_3)\n",
    "np.save('./data_augmentation/y_train_low_set_3.npy', y_train_low_set_3)\n",
    "np.save('./data_augmentation/y_test_low_set_3.npy', y_test_low_set_3)\n",
    "\n",
    "np.save('./data_augmentation/X_train_med_set_3.npy', X_train_med_set_3)\n",
    "np.save('./data_augmentation/X_test_med_set_3.npy', X_test_med_set_3)\n",
    "np.save('./data_augmentation/y_train_med_set_3.npy', y_train_med_set_3)\n",
    "np.save('./data_augmentation/y_test_med_set_3.npy', y_test_med_set_3)\n",
    "\n",
    "np.save('./data_augmentation/X_train_high_set_3.npy', X_train_high_set_3)\n",
    "np.save('./data_augmentation/X_test_high_set_3.npy', X_test_high_set_3)\n",
    "np.save('./data_augmentation/y_train_high_set_3.npy', y_train_high_set_3)\n",
    "np.save('./data_augmentation/y_test_high_set_3.npy', y_test_high_set_3)"
   ]
  },
  {
   "cell_type": "code",
   "execution_count": null,
   "metadata": {},
   "outputs": [],
   "source": []
  },
  {
   "cell_type": "code",
   "execution_count": null,
   "metadata": {},
   "outputs": [],
   "source": []
  },
  {
   "cell_type": "code",
   "execution_count": null,
   "metadata": {},
   "outputs": [],
   "source": []
  }
 ],
 "metadata": {
  "kernelspec": {
   "display_name": "Python 3",
   "language": "python",
   "name": "python3"
  },
  "language_info": {
   "codemirror_mode": {
    "name": "ipython",
    "version": 3
   },
   "file_extension": ".py",
   "mimetype": "text/x-python",
   "name": "python",
   "nbconvert_exporter": "python",
   "pygments_lexer": "ipython3",
   "version": "3.7.3"
  }
 },
 "nbformat": 4,
 "nbformat_minor": 2
}
