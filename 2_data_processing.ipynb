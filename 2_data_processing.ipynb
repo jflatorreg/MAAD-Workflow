{
 "cells": [
  {
   "cell_type": "code",
   "execution_count": 1,
   "metadata": {},
   "outputs": [],
   "source": [
    "import pandas as pd\n",
    "import numpy as np\n",
    "from sklearn.model_selection import train_test_split"
   ]
  },
  {
   "cell_type": "code",
   "execution_count": 2,
   "metadata": {},
   "outputs": [],
   "source": [
    "def class_matching(df_features):\n",
    "    df = pd.concat([df_features,\n",
    "                    lab_wname,\n",
    "                    lab_bin],\n",
    "                    axis=1)\n",
    "    df.reset_index(inplace=True, drop=True)\n",
    "    df.dropna(axis=0, inplace=True)\n",
    "    df = df.loc[~df.lab_wname.isin(['1_vfar','1_ago']),:]\n",
    "    df['lab_gt'] = df['lab_gt'].astype(int)\n",
    "    return df"
   ]
  },
  {
   "cell_type": "code",
   "execution_count": 3,
   "metadata": {},
   "outputs": [],
   "source": [
    "def split(X, y):\n",
    "    X_train, X_test, y_train, y_test = train_test_split(X, y,\n",
    "                                                        test_size=0.3,\n",
    "                                                        random_state=42,\n",
    "                                                        stratify=y,\n",
    "                                                        shuffle=True)\n",
    "    return X_train, X_test, y_train, y_test"
   ]
  },
  {
   "cell_type": "code",
   "execution_count": 4,
   "metadata": {},
   "outputs": [],
   "source": [
    "path_mannot = './data/trainds_mannot.txt'\n",
    "path_low  = './results/df_features_low.csv'\n",
    "path_med  = './results/df_features_med.csv'\n",
    "path_high = './results/df_features_high.csv'\n",
    "path_times = './results/df_times.csv'\n",
    "Path_save = './results'"
   ]
  },
  {
   "cell_type": "markdown",
   "metadata": {},
   "source": [
    "# Data Processing"
   ]
  },
  {
   "cell_type": "code",
   "execution_count": 5,
   "metadata": {},
   "outputs": [],
   "source": [
    "df_features_low  = pd.read_csv(path_low)\n",
    "df_features_med  = pd.read_csv(path_med)\n",
    "df_features_high = pd.read_csv(path_high)\n",
    "df_times = pd.read_csv(path_times)"
   ]
  },
  {
   "cell_type": "code",
   "execution_count": 6,
   "metadata": {},
   "outputs": [
    {
     "name": "stderr",
     "output_type": "stream",
     "text": [
      "/home/juanfe/anaconda3/lib/python3.7/site-packages/pandas/core/indexing.py:190: SettingWithCopyWarning: \n",
      "A value is trying to be set on a copy of a slice from a DataFrame\n",
      "\n",
      "See the caveats in the documentation: http://pandas.pydata.org/pandas-docs/stable/indexing.html#indexing-view-versus-copy\n",
      "  self._setitem_with_indexer(indexer, value)\n"
     ]
    }
   ],
   "source": [
    "gt = pd.read_csv(path_mannot, header=None, usecols=[0,1,2], sep='\\t', \n",
    "                 names=['onset','offset','label'])\n",
    "idx_annotated = (gt.label.str[1]=='_')\n",
    "lab_wname = gt['label']\n",
    "lab_wname.loc[~idx_annotated] = np.nan\n",
    "lab_bin = lab_wname.str[0]\n",
    "lab_bin.name = 'lab_gt'\n",
    "lab_wname.name = 'lab_wname'"
   ]
  },
  {
   "cell_type": "code",
   "execution_count": 7,
   "metadata": {},
   "outputs": [],
   "source": [
    "df_features_low = class_matching(df_features_low)\n",
    "df_features_med = class_matching(df_features_med)\n",
    "df_features_high = class_matching(df_features_high)"
   ]
  },
  {
   "cell_type": "code",
   "execution_count": 8,
   "metadata": {},
   "outputs": [],
   "source": [
    "X_low = df_features_low.loc[:,df_features_low.columns.str.startswith('shp')].values\n",
    "y_low = df_features_low.loc[:,'lab_gt'].values"
   ]
  },
  {
   "cell_type": "code",
   "execution_count": 9,
   "metadata": {},
   "outputs": [],
   "source": [
    "X_med = df_features_med.loc[:,df_features_med.columns.str.startswith('shp')].values\n",
    "y_med = df_features_med.loc[:,'lab_gt'].values"
   ]
  },
  {
   "cell_type": "code",
   "execution_count": 10,
   "metadata": {},
   "outputs": [],
   "source": [
    "X_high = df_features_high.loc[:,df_features_high.columns.str.startswith('shp')].values\n",
    "y_high = df_features_high.loc[:,'lab_gt'].values"
   ]
  },
  {
   "cell_type": "markdown",
   "metadata": {},
   "source": [
    "# Data Split"
   ]
  },
  {
   "cell_type": "code",
   "execution_count": 11,
   "metadata": {},
   "outputs": [],
   "source": [
    "X_train_low, X_test_low, y_train_low, y_test_low = split(X_low, y_low)"
   ]
  },
  {
   "cell_type": "code",
   "execution_count": 12,
   "metadata": {},
   "outputs": [],
   "source": [
    "X_train_med, X_test_med, y_train_med, y_test_med = split(X_med, y_med)"
   ]
  },
  {
   "cell_type": "code",
   "execution_count": 13,
   "metadata": {},
   "outputs": [],
   "source": [
    "X_train_high, X_test_high, y_train_high, y_test_high = split(X_high, y_high)"
   ]
  },
  {
   "cell_type": "code",
   "execution_count": 14,
   "metadata": {},
   "outputs": [],
   "source": [
    "np.save('./results/X_train_low.npy', X_train_low)\n",
    "np.save('./results/X_test_low.npy', X_test_low)\n",
    "np.save('./results/y_train_low.npy', y_train_low)\n",
    "np.save('./results/y_test_low.npy', y_test_low)"
   ]
  },
  {
   "cell_type": "code",
   "execution_count": 15,
   "metadata": {},
   "outputs": [],
   "source": [
    "np.save('./results/X_train_med.npy', X_train_med)\n",
    "np.save('./results/X_test_med.npy', X_test_med)\n",
    "np.save('./results/y_train_med.npy', y_train_med)\n",
    "np.save('./results/y_test_med.npy', y_test_med)"
   ]
  },
  {
   "cell_type": "code",
   "execution_count": 16,
   "metadata": {},
   "outputs": [],
   "source": [
    "np.save('./results/X_train_high.npy', X_train_high)\n",
    "np.save('./results/X_test_high.npy', X_test_high)\n",
    "np.save('./results/y_train_high.npy', y_train_high)\n",
    "np.save('./results/y_test_high.npy', y_test_high)"
   ]
  },
  {
   "cell_type": "code",
   "execution_count": null,
   "metadata": {},
   "outputs": [],
   "source": []
  }
 ],
 "metadata": {
  "kernelspec": {
   "display_name": "Python 3",
   "language": "python",
   "name": "python3"
  },
  "language_info": {
   "codemirror_mode": {
    "name": "ipython",
    "version": 3
   },
   "file_extension": ".py",
   "mimetype": "text/x-python",
   "name": "python",
   "nbconvert_exporter": "python",
   "pygments_lexer": "ipython3",
   "version": "3.7.3"
  }
 },
 "nbformat": 4,
 "nbformat_minor": 2
}
