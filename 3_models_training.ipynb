{
 "cells": [
  {
   "cell_type": "markdown",
   "metadata": {},
   "source": [
    "# Models Training"
   ]
  },
  {
   "cell_type": "code",
   "execution_count": 1,
   "metadata": {},
   "outputs": [],
   "source": [
    "\"\"\"\n",
    "Supervised learning models are trained. It's found the hyperparameters of the models: logistic regression,\n",
    "support vector machine, random forest, multilayer perceptron.\n",
    "\n",
    "@author: Juan Felipe Latorre Gil - jflatorreg@unal.edu.co\n",
    "\"\"\"\n",
    "\n",
    "%matplotlib inline\n",
    "\n",
    "import pandas as pd\n",
    "import numpy as np\n",
    "import matplotlib.pyplot as plt\n",
    "from matplotlib.colors import Normalize\n",
    "import pylab as pl\n",
    "plt.style.use(['ggplot','seaborn-paper'])\n",
    "from time import process_time\n",
    "from sklearn.model_selection import GridSearchCV\n",
    "from sklearn.model_selection import cross_val_predict\n",
    "from sklearn.linear_model import LogisticRegression\n",
    "from sklearn.svm import SVC\n",
    "from sklearn.ensemble import RandomForestClassifier\n",
    "from sklearn.neural_network import MLPClassifier\n",
    "from sklearn.metrics import classification_report\n",
    "from sklearn.metrics import confusion_matrix\n",
    "from sklearn.metrics import roc_curve\n",
    "from sklearn.metrics import precision_recall_curve\n",
    "from sklearn.metrics import roc_auc_score\n",
    "from sklearn.metrics import f1_score\n",
    "from sklearn.metrics import make_scorer\n",
    "from sklearn import metrics\n",
    "import warnings\n",
    "import sklearn.exceptions\n",
    "warnings.filterwarnings(\"ignore\", category=sklearn.exceptions.UndefinedMetricWarning)"
   ]
  },
  {
   "cell_type": "code",
   "execution_count": 2,
   "metadata": {},
   "outputs": [],
   "source": [
    "def log_reg(param_grid, X_train, y_train, X_test, y_test):\n",
    "    \n",
    "    \"\"\"\n",
    "    The hyperparameters of the Logistic Regression model are calculated.\n",
    "    Print the hyperparameters, the classification report and the confusion matrix.\n",
    "    \n",
    "    Parameters:\n",
    "    ----------\n",
    "        param_grid: dict \n",
    "            Dictionary with the parameters to be tested.\n",
    "        X_train: numpy.array \n",
    "            Array with the characteristics of the regions of interest for training.\n",
    "        y_train: numpy.array\n",
    "            Array with labels of regions of interest for training.\n",
    "        X_test: numpy.array\n",
    "            Array with the characteristics of the regions of interest for test.\n",
    "        y_test: numpy.array\n",
    "            Array with labels of regions of interest for test.\n",
    "            \n",
    "    Returns:\n",
    "    -------\n",
    "        clf_log_reg.best_params_: dict \n",
    "            DataFrame with the information, labels and characteristics of the regions of interest.\n",
    "        classification_report: dict\n",
    "            Text summary of the precision, recall, F1 score for each class. \n",
    "    \"\"\"\n",
    "\n",
    "    clf_log_reg = GridSearchCV(LogisticRegression(solver= 'liblinear'), \n",
    "                               scoring=make_scorer(f1_score, average='weighted'),\n",
    "                               param_grid=param_grid_log_reg, verbose=0,return_train_score=True, \n",
    "                               n_jobs=-1, cv=5) \n",
    "    clf_log_reg.fit(X_train, y_train) \n",
    "    cv_results = pd.DataFrame(clf_log_reg.cv_results_)\n",
    "    scores = clf_log_reg.cv_results_['mean_test_score'].reshape(len(param_grid_log_reg['C']))\n",
    "    print('Best Params:',clf_log_reg.best_params_, '\\n')\n",
    "    y_pred_log_reg = clf_log_reg.predict(X_test)\n",
    "    print(classification_report(y_test,y_pred_log_reg))\n",
    "    print(confusion_matrix(y_test,y_pred_log_reg))\n",
    "    return clf_log_reg.best_params_, classification_report(y_test,y_pred_log_reg)"
   ]
  },
  {
   "cell_type": "code",
   "execution_count": 3,
   "metadata": {},
   "outputs": [],
   "source": [
    "def SVM_rbf_clf(param_grid, X_train, y_train, X_test, y_test, v_min, v_mid, v_max, path):\n",
    "    \n",
    "    \"\"\"\n",
    "    The hyperparameters of the Support Vector Machine model are calculated.\n",
    "    Print the hyperparameters, the classification report and the confusion matrix.\n",
    "    \n",
    "    Parameters:\n",
    "    ----------\n",
    "        param_grid: dict \n",
    "            Dictionary with the parameters to be tested.\n",
    "        X_train: numpy.array \n",
    "            Array with the characteristics of the regions of interest for training.\n",
    "        y_train: numpy.array\n",
    "            Array with labels of regions of interest for training.\n",
    "        X_test: numpy.array\n",
    "            Array with the characteristics of the regions of interest for test.\n",
    "        y_test: numpy.array\n",
    "            Array with labels of regions of interest for test.\n",
    "            \n",
    "    Returns:\n",
    "    -------\n",
    "        clf_log_reg.best_params_: dict \n",
    "            DataFrame with the information, labels and characteristics of the regions of interest.\n",
    "        classification_report: dict\n",
    "            Text summary of the precision, recall, F1 score for each class. \n",
    "    \"\"\"\n",
    "\n",
    "    clf_svm_rbf = GridSearchCV(SVC(kernel='rbf'), param_grid=param_grid, verbose=0, \n",
    "                               scoring=make_scorer(f1_score, average='weighted'), \n",
    "                               return_train_score=True, cv=5)\n",
    "    clf_svm_rbf.fit(X_train, y_train)\n",
    "    cv_results_svm_rbf = pd.DataFrame(clf_svm_rbf.cv_results_)\n",
    "    scores_svm_rbf = clf_svm_rbf.cv_results_['mean_test_score'].reshape(len(param_grid_svm_rbf['C']),\n",
    "                                                                        len(param_grid_svm_rbf['gamma'])) \n",
    "    heat_map_2d('gamma', 'C', param_grid_svm_rbf, scores_svm_rbf, v_min, v_mid, v_max, path)\n",
    "    print('Best Params:',clf_svm_rbf.best_params_, '\\n')\n",
    "    y_pred_svm_rbf = clf_svm_rbf.predict(X_test)\n",
    "    print(classification_report(y_test,y_pred_svm_rbf))\n",
    "    print(confusion_matrix(y_test,y_pred_svm_rbf))\n",
    "    return clf_svm_rbf.best_params_, classification_report(y_test,y_pred_svm_rbf)"
   ]
  },
  {
   "cell_type": "code",
   "execution_count": 4,
   "metadata": {},
   "outputs": [],
   "source": [
    "def random_forests_clf(param_grid, X_train, y_train, X_test, y_test, v_min, v_mid, v_max, path):\n",
    "    \n",
    "    \"\"\"\n",
    "    The hyperparameters of the Random Forest model are calculated.\n",
    "    Print the hyperparameters, the classification report and the confusion matrix.\n",
    "    \n",
    "    Parameters:\n",
    "    ----------\n",
    "        param_grid: dict \n",
    "            Dictionary with the parameters to be tested.\n",
    "        X_train: numpy.array \n",
    "            Array with the characteristics of the regions of interest for training.\n",
    "        y_train: numpy.array\n",
    "            Array with labels of regions of interest for training.\n",
    "        X_test: numpy.array\n",
    "            Array with the characteristics of the regions of interest for test.\n",
    "        y_test: numpy.array\n",
    "            Array with labels of regions of interest for test.\n",
    "            \n",
    "    Returns:\n",
    "    -------\n",
    "        clf_log_reg.best_params_: dict \n",
    "            DataFrame with the information, labels and characteristics of the regions of interest.\n",
    "        classification_report: dict\n",
    "            Text summary of the precision, recall, F1 score for each class. \n",
    "    \"\"\"\n",
    "\n",
    "    clf_rf = GridSearchCV(RandomForestClassifier(random_state=42), param_grid=param_grid_rf, verbose=0, \n",
    "                          scoring=make_scorer(f1_score, average='weighted'), \n",
    "                          return_train_score=True, n_jobs=-1, cv=5)\n",
    "\n",
    "    clf_rf.fit(X_train, y_train)\n",
    "    cv_results_rf = pd.DataFrame(clf_rf.cv_results_)\n",
    "    scores_rf = clf_rf.cv_results_['mean_test_score'].reshape(len(param_grid_rf['n_estimators']),\n",
    "                                                              len(param_grid_rf['max_features'])) \n",
    "    heat_map_2d('n_estimators', 'max_features', param_grid_rf, scores_rf, v_min, v_mid, v_max, path)\n",
    "    print('Best Params:', clf_rf.best_params_, '\\n')\n",
    "    y_pred_rf = clf_rf.predict(X_test)\n",
    "    print(classification_report(y_test,y_pred_rf))\n",
    "    print(confusion_matrix(y_test,y_pred_rf))\n",
    "    return clf_rf.best_params_, classification_report(y_test,y_pred_rf)"
   ]
  },
  {
   "cell_type": "code",
   "execution_count": 5,
   "metadata": {},
   "outputs": [],
   "source": [
    "def mlp_clf(param_grid, X_train, y_train, X_test, y_test, v_min, v_mid, v_max, path):\n",
    "    \n",
    "    \"\"\"\n",
    "    The hyperparameters of the Multilayer Perceptron model are calculated.\n",
    "    Print the hyperparameters, the classification report and the confusion matrix.\n",
    "    \n",
    "    Parameters:\n",
    "    ----------\n",
    "        param_grid: dict \n",
    "            Dictionary with the parameters to be tested.\n",
    "        X_train: numpy.array \n",
    "            Array with the characteristics of the regions of interest for training.\n",
    "        y_train: numpy.array\n",
    "            Array with labels of regions of interest for training.\n",
    "        X_test: numpy.array\n",
    "            Array with the characteristics of the regions of interest for test.\n",
    "        y_test: numpy.array\n",
    "            Array with labels of regions of interest for test.\n",
    "            \n",
    "    Returns:\n",
    "    -------\n",
    "        clf_log_reg.best_params_: dict \n",
    "            DataFrame with the information, labels and characteristics of the regions of interest.\n",
    "        classification_report: dict\n",
    "            Text summary of the precision, recall, F1 score for each class. \n",
    "    \"\"\"\n",
    "\n",
    "    clf_mlp = GridSearchCV(MLPClassifier(random_state=42, max_iter=250), param_grid=param_grid_mlp, verbose=0, \n",
    "                           scoring=make_scorer(f1_score, average='weighted'), \n",
    "                           return_train_score=True, n_jobs=-1, cv=5)\n",
    "    clf_mlp.fit(X_train, y_train)\n",
    "    cv_results_mlp = pd.DataFrame(clf_mlp.cv_results_)\n",
    "    scores_mlp = clf_mlp.cv_results_['mean_test_score'].reshape(len(param_grid_mlp['alpha']),\n",
    "                                                          len(param_grid_mlp['hidden_layer_sizes'])) \n",
    "    heat_map_2d('alpha', 'hidden_layer_sizes', param_grid_mlp, scores_mlp, v_min, v_mid, v_max, path)\n",
    "    print('Best Params:', clf_mlp.best_params_, '\\n') \n",
    "    y_pred_mlp = clf_mlp.predict(X_test)\n",
    "    print(classification_report(y_test,y_pred_mlp))\n",
    "    print(confusion_matrix(y_test,y_pred_mlp))\n",
    "    return clf_mlp.best_params_, classification_report(y_test,y_pred_mlp)"
   ]
  },
  {
   "cell_type": "code",
   "execution_count": 6,
   "metadata": {},
   "outputs": [],
   "source": [
    "class MidpointNormalize(Normalize):\n",
    "    \n",
    "    \"\"\"\n",
    "    Normalizes hyperparameter values for better visualization\n",
    "    \n",
    "    Parameters:\n",
    "    ----------\n",
    "        vmin: float \n",
    "            Display minimum point.\n",
    "        vmax: float\n",
    "            Display maximum point.\n",
    "        midpoint: float\n",
    "            Display midpoint.            \n",
    "    Returns:\n",
    "    -------\n",
    "        np.ma.masked_array: numpy array \n",
    "            Matrix with normalized values.\n",
    "    \"\"\"\n",
    "\n",
    "    def __init__(self, vmin=None, vmax=None, midpoint=None, clip=False):\n",
    "        self.midpoint = midpoint\n",
    "        Normalize.__init__(self, vmin, vmax, clip)\n",
    "\n",
    "    def __call__(self, value, clip=None):\n",
    "        x, y = [self.vmin, self.midpoint, self.vmax], [0, 0.5, 1]\n",
    "        return np.ma.masked_array(np.interp(value, x, y))"
   ]
  },
  {
   "cell_type": "code",
   "execution_count": 7,
   "metadata": {},
   "outputs": [],
   "source": [
    "def heat_map_2d(name_param_1, name_param_2, param_grid, scores, v_min, v_mid, v_max, path):\n",
    "    \n",
    "    \"\"\"\n",
    "    Function to plot the hyperparameter space.\n",
    "    \n",
    "    Parameters:\n",
    "    ----------\n",
    "        name_param_1: str \n",
    "            Name of the first hyperparameter.\n",
    "        name_param_2: float\n",
    "            Name of the second hyperparameter.\n",
    "        param_grid: dict\n",
    "            Dictionary with the parameters to be tested. \n",
    "        scores: numpy array\n",
    "            Generate cross-validated estimates for each input data point\n",
    "        v_min: float\n",
    "            Display minimum point.\n",
    "        v_mid: float\n",
    "            Display midpoint.\n",
    "        v_max: float\n",
    "            Display maximum point.\n",
    "        path: str\n",
    "            Path to save the plot.\n",
    "    Returns:\n",
    "    -------\n",
    "        np.ma.masked_array: numpy array \n",
    "            Matrix with normalized values.\n",
    "    \"\"\"\n",
    "    \n",
    "    plt.figure(figsize=(8, 7))\n",
    "    plt.subplots_adjust(left=.2, right=0.95, bottom=0.15, top=0.95)\n",
    "    plt.imshow(scores, interpolation='nearest', cmap=plt.cm.YlGnBu,\n",
    "               norm=MidpointNormalize(vmin=v_min, midpoint=v_mid, vmax=v_max))\n",
    "    plt.xlabel(name_param_1)\n",
    "    plt.ylabel(name_param_2)\n",
    "    plt.colorbar().set_label('Weighted F1 Score')\n",
    "    plt.xticks(np.arange(len(param_grid[name_param_1])), param_grid[name_param_1], rotation=45)\n",
    "    plt.yticks(np.arange(len(param_grid[name_param_2])), param_grid[name_param_2])\n",
    "    plt.savefig(path, format='pdf', bbox_inches='tight')\n",
    "    plt.show()"
   ]
  },
  {
   "cell_type": "markdown",
   "metadata": {},
   "source": [
    "## Load Data"
   ]
  },
  {
   "cell_type": "code",
   "execution_count": 8,
   "metadata": {},
   "outputs": [],
   "source": [
    "X_train_low = np.load('./results/X_train_low.npy')\n",
    "X_test_low = np.load('./results/X_test_low.npy')\n",
    "y_train_low = np.load('./results/y_train_low.npy')\n",
    "y_test_low = np.load('./results/y_test_low.npy')"
   ]
  },
  {
   "cell_type": "code",
   "execution_count": 9,
   "metadata": {},
   "outputs": [],
   "source": [
    "X_train_med = np.load('./results/X_train_med.npy')\n",
    "X_test_med = np.load('./results/X_test_med.npy')\n",
    "y_train_med = np.load('./results/y_train_med.npy')\n",
    "y_test_med = np.load('./results/y_test_med.npy')"
   ]
  },
  {
   "cell_type": "code",
   "execution_count": 10,
   "metadata": {},
   "outputs": [],
   "source": [
    "X_train_high = np.load('./results/X_train_high.npy')\n",
    "X_test_high = np.load('./results/X_test_high.npy')\n",
    "y_train_high = np.load('./results/y_train_high.npy')\n",
    "y_test_high = np.load('./results/y_test_high.npy')"
   ]
  },
  {
   "cell_type": "markdown",
   "metadata": {},
   "source": [
    "# Model Training"
   ]
  },
  {
   "cell_type": "markdown",
   "metadata": {},
   "source": [
    "## Logistic Regression"
   ]
  },
  {
   "cell_type": "code",
   "execution_count": 11,
   "metadata": {},
   "outputs": [
    {
     "name": "stdout",
     "output_type": "stream",
     "text": [
      "Parameters: {'C': [0.1, 0.2, 0.3, 0.4, 0.5, 0.6, 0.7, 0.8, 0.9, 1.0]}\n"
     ]
    }
   ],
   "source": [
    "grid_log_reg = [i for i in range(1, 11, 1)]\n",
    "param_grid_log_reg = {'C': [np.round((0.1*i), decimals =2) for i in grid_log_reg]}\n",
    "print('Parameters:', param_grid_log_reg)"
   ]
  },
  {
   "cell_type": "markdown",
   "metadata": {},
   "source": [
    "### Low Resolution"
   ]
  },
  {
   "cell_type": "code",
   "execution_count": 12,
   "metadata": {},
   "outputs": [
    {
     "name": "stdout",
     "output_type": "stream",
     "text": [
      "Best Params: {'C': 1.0} \n",
      "\n",
      "              precision    recall  f1-score   support\n",
      "\n",
      "           0       0.91      0.99      0.95       221\n",
      "           1       0.97      0.80      0.88       112\n",
      "\n",
      "   micro avg       0.92      0.92      0.92       333\n",
      "   macro avg       0.94      0.89      0.91       333\n",
      "weighted avg       0.93      0.92      0.92       333\n",
      "\n",
      "[[218   3]\n",
      " [ 22  90]]\n"
     ]
    }
   ],
   "source": [
    "best_params_log_reg_low, report_log_reg_low = log_reg(param_grid_log_reg, X_train_low, y_train_low, \n",
    "                                                      X_test_low, y_test_low)"
   ]
  },
  {
   "cell_type": "code",
   "execution_count": 13,
   "metadata": {},
   "outputs": [],
   "source": [
    "clf_log_reg_low = LogisticRegression(solver= 'liblinear', C=best_params_log_reg_low['C'])\n",
    "\n",
    "y_scores_log_reg_low = cross_val_predict(clf_log_reg_low, X_train_low, y_train_low, cv=5, \n",
    "                                         method='decision_function', n_jobs=-1)"
   ]
  },
  {
   "cell_type": "code",
   "execution_count": 14,
   "metadata": {},
   "outputs": [],
   "source": [
    "precisions_log_reg_low, recalls_log_reg_low, thresholds_log_reg_low = precision_recall_curve(y_train_low, \n",
    "                                                                                             y_scores_log_reg_low)"
   ]
  },
  {
   "cell_type": "code",
   "execution_count": 15,
   "metadata": {},
   "outputs": [],
   "source": [
    "fpr_log_reg_low, tpr_log_reg_low, thresholds_roc_log_reg_low = roc_curve(y_train_low, y_scores_log_reg_low)"
   ]
  },
  {
   "cell_type": "code",
   "execution_count": 16,
   "metadata": {},
   "outputs": [],
   "source": [
    "PR_AUC_log_reg_low = metrics.auc(recalls_log_reg_low, precisions_log_reg_low)"
   ]
  },
  {
   "cell_type": "markdown",
   "metadata": {},
   "source": [
    "### Medium Resolution"
   ]
  },
  {
   "cell_type": "code",
   "execution_count": 17,
   "metadata": {},
   "outputs": [
    {
     "name": "stdout",
     "output_type": "stream",
     "text": [
      "Best Params: {'C': 1.0} \n",
      "\n",
      "              precision    recall  f1-score   support\n",
      "\n",
      "           0       0.96      0.98      0.97       221\n",
      "           1       0.96      0.92      0.94       112\n",
      "\n",
      "   micro avg       0.96      0.96      0.96       333\n",
      "   macro avg       0.96      0.95      0.96       333\n",
      "weighted avg       0.96      0.96      0.96       333\n",
      "\n",
      "[[217   4]\n",
      " [  9 103]]\n"
     ]
    }
   ],
   "source": [
    "best_params_log_reg_med, report_log_reg_med = log_reg(param_grid_log_reg, X_train_med, y_train_med, \n",
    "                                                      X_test_med, y_test_med)"
   ]
  },
  {
   "cell_type": "code",
   "execution_count": 18,
   "metadata": {},
   "outputs": [],
   "source": [
    "clf_log_reg_med = LogisticRegression(solver= 'liblinear', C=best_params_log_reg_med['C'])\n",
    "\n",
    "y_scores_log_reg_med = cross_val_predict(clf_log_reg_med, X_train_med, y_train_med, cv=5, \n",
    "                                         method='decision_function', n_jobs=-1)"
   ]
  },
  {
   "cell_type": "code",
   "execution_count": 19,
   "metadata": {},
   "outputs": [],
   "source": [
    "precisions_log_reg_med, recalls_log_reg_med, thresholds_log_reg_med = precision_recall_curve(y_train_med, \n",
    "                                                                                             y_scores_log_reg_med)"
   ]
  },
  {
   "cell_type": "code",
   "execution_count": 20,
   "metadata": {},
   "outputs": [],
   "source": [
    "fpr_log_reg_med, tpr_log_reg_med, thresholds_roc_log_reg_med = roc_curve(y_train_med, y_scores_log_reg_med)"
   ]
  },
  {
   "cell_type": "code",
   "execution_count": 21,
   "metadata": {},
   "outputs": [],
   "source": [
    "PR_AUC_log_reg_med = metrics.auc(recalls_log_reg_med, precisions_log_reg_med)"
   ]
  },
  {
   "cell_type": "markdown",
   "metadata": {},
   "source": [
    "## high quality"
   ]
  },
  {
   "cell_type": "code",
   "execution_count": 22,
   "metadata": {},
   "outputs": [
    {
     "name": "stdout",
     "output_type": "stream",
     "text": [
      "Best Params: {'C': 1.0} \n",
      "\n",
      "              precision    recall  f1-score   support\n",
      "\n",
      "           0       0.96      0.99      0.98       221\n",
      "           1       0.97      0.93      0.95       112\n",
      "\n",
      "   micro avg       0.97      0.97      0.97       333\n",
      "   macro avg       0.97      0.96      0.96       333\n",
      "weighted avg       0.97      0.97      0.97       333\n",
      "\n",
      "[[218   3]\n",
      " [  8 104]]\n"
     ]
    }
   ],
   "source": [
    "best_params_log_reg_high, report_log_reg_high = log_reg(param_grid_log_reg, X_train_high, y_train_high, \n",
    "                                                        X_test_high, y_test_high)"
   ]
  },
  {
   "cell_type": "code",
   "execution_count": 23,
   "metadata": {},
   "outputs": [],
   "source": [
    "clf_log_reg_high = LogisticRegression(solver= 'liblinear', C=best_params_log_reg_high['C'])\n",
    "\n",
    "y_scores_log_reg_high = cross_val_predict(clf_log_reg_high, X_train_high, y_train_med, cv=5, \n",
    "                                          method='decision_function', n_jobs=-1)"
   ]
  },
  {
   "cell_type": "code",
   "execution_count": 24,
   "metadata": {},
   "outputs": [],
   "source": [
    "precisions_log_reg_high, recalls_log_reg_high, thresholds_log_reg_high = precision_recall_curve(y_train_high, \n",
    "                                                                         y_scores_log_reg_high)"
   ]
  },
  {
   "cell_type": "code",
   "execution_count": 25,
   "metadata": {},
   "outputs": [],
   "source": [
    "fpr_log_reg_high, tpr_log_reg_high, thresholds_roc_log_reg_high = roc_curve(y_train_high, y_scores_log_reg_high)"
   ]
  },
  {
   "cell_type": "code",
   "execution_count": 26,
   "metadata": {},
   "outputs": [],
   "source": [
    "PR_AUC_log_reg_high = metrics.auc(recalls_log_reg_high, precisions_log_reg_high)"
   ]
  },
  {
   "cell_type": "code",
   "execution_count": 27,
   "metadata": {},
   "outputs": [],
   "source": [
    "roc_auc_log_reg_low = roc_auc_score(y_train_low, y_scores_log_reg_low)\n",
    "roc_auc_log_reg_med = roc_auc_score(y_train_med, y_scores_log_reg_med)\n",
    "roc_auc_log_reg_high = roc_auc_score(y_train_high, y_scores_log_reg_high)"
   ]
  },
  {
   "cell_type": "markdown",
   "metadata": {},
   "source": [
    "# Support Vector Machine - rbf (Kernel Gausiano)"
   ]
  },
  {
   "cell_type": "code",
   "execution_count": 28,
   "metadata": {},
   "outputs": [
    {
     "name": "stdout",
     "output_type": "stream",
     "text": [
      "Parameters: {'C': [0.03125, 0.0625, 0.125, 0.25, 0.5, 1, 2, 4, 8, 16, 32, 64], 'gamma': array([0. , 0.1, 0.2, 0.3, 0.4, 0.5, 0.6, 0.7, 0.8, 0.9, 1. ])}\n"
     ]
    }
   ],
   "source": [
    "grid_C = [i for i in range(-5, 7, 1)]\n",
    "grid_gamma = [i for i in range(0, 11, 1)]\n",
    "param_grid_svm_rbf = {'C': [2**i for i in grid_C], \n",
    "                      'gamma': np.round([0.1*i for i in grid_gamma], decimals=2)}\n",
    "print('Parameters:', param_grid_svm_rbf)"
   ]
  },
  {
   "cell_type": "markdown",
   "metadata": {},
   "source": [
    "### Low Resolution"
   ]
  },
  {
   "cell_type": "code",
   "execution_count": 29,
   "metadata": {},
   "outputs": [
    {
     "data": {
      "image/png": "[encoded data removed]",
      "text/plain": [
       "<Figure size 576x504 with 2 Axes>"
      ]
     },
     "metadata": {
      "needs_background": "light"
     },
     "output_type": "display_data"
    },
    {
     "name": "stdout",
     "output_type": "stream",
     "text": [
      "Best Params: {'C': 64, 'gamma': 0.8} \n",
      "\n",
      "              precision    recall  f1-score   support\n",
      "\n",
      "           0       0.97      0.99      0.98       221\n",
      "           1       0.97      0.94      0.95       112\n",
      "\n",
      "   micro avg       0.97      0.97      0.97       333\n",
      "   macro avg       0.97      0.96      0.97       333\n",
      "weighted avg       0.97      0.97      0.97       333\n",
      "\n",
      "[[218   3]\n",
      " [  7 105]]\n"
     ]
    }
   ],
   "source": [
    "path_save = './results/graphics/SVC_L.pdf'\n",
    "best_params_SVC_low, report_SVC_low = SVM_rbf_clf(param_grid_svm_rbf, X_train_low, y_train_low, \n",
    "                                                  X_test_low, y_test_low, 0.6, 0.91, 1.0, path_save)"
   ]
  },
  {
   "cell_type": "code",
   "execution_count": 30,
   "metadata": {},
   "outputs": [],
   "source": [
    "clf_SVC_low = SVC(kernel='rbf', C=best_params_SVC_low['C'], gamma=best_params_SVC_low['gamma'])\n",
    "\n",
    "y_scores_SVC_low = cross_val_predict(clf_SVC_low, X_train_low, y_train_low, cv=5, \n",
    "                                         method='decision_function', n_jobs=-1)"
   ]
  },
  {
   "cell_type": "code",
   "execution_count": 31,
   "metadata": {},
   "outputs": [],
   "source": [
    "precisions_SVC_low, recalls_SVC_low, thresholds_SVC_low = precision_recall_curve(y_train_low, \n",
    "                                                                                 y_scores_SVC_low)"
   ]
  },
  {
   "cell_type": "code",
   "execution_count": 32,
   "metadata": {},
   "outputs": [],
   "source": [
    "fpr_SVC_low, tpr_SVC_low, thresholds_roc_SVC_low = roc_curve(y_train_low, y_scores_SVC_low)"
   ]
  },
  {
   "cell_type": "code",
   "execution_count": 33,
   "metadata": {},
   "outputs": [],
   "source": [
    "PR_AUC_SVC_low = metrics.auc(recalls_SVC_low, precisions_SVC_low)"
   ]
  },
  {
   "cell_type": "markdown",
   "metadata": {},
   "source": [
    "### Medium Resolution"
   ]
  },
  {
   "cell_type": "code",
   "execution_count": 34,
   "metadata": {},
   "outputs": [
    {
     "data": {
      "image/png": "[encoded data removed]",
      "text/plain": [
       "<Figure size 576x504 with 2 Axes>"
      ]
     },
     "metadata": {
      "needs_background": "light"
     },
     "output_type": "display_data"
    },
    {
     "name": "stdout",
     "output_type": "stream",
     "text": [
      "Best Params: {'C': 64, 'gamma': 1.0} \n",
      "\n",
      "              precision    recall  f1-score   support\n",
      "\n",
      "           0       0.97      0.99      0.98       221\n",
      "           1       0.98      0.95      0.96       112\n",
      "\n",
      "   micro avg       0.98      0.98      0.98       333\n",
      "   macro avg       0.98      0.97      0.97       333\n",
      "weighted avg       0.98      0.98      0.98       333\n",
      "\n",
      "[[219   2]\n",
      " [  6 106]]\n"
     ]
    }
   ],
   "source": [
    "path_save = './results/graphics/SVC_M.pdf'\n",
    "best_params_SVC_med, report_SVC_med = SVM_rbf_clf(param_grid_svm_rbf, X_train_med, y_train_med, \n",
    "                                                  X_test_med, y_test_med, 0.6, 0.95, 1.0, path_save)"
   ]
  },
  {
   "cell_type": "code",
   "execution_count": 35,
   "metadata": {},
   "outputs": [],
   "source": [
    "clf_SVC_med = SVC(kernel='rbf', C=best_params_SVC_med['C'], gamma=best_params_SVC_med['gamma'])\n",
    "\n",
    "y_scores_SVC_med = cross_val_predict(clf_SVC_med, X_train_med, y_train_med, cv=5, \n",
    "                                     method='decision_function', n_jobs=-1)"
   ]
  },
  {
   "cell_type": "code",
   "execution_count": 36,
   "metadata": {},
   "outputs": [],
   "source": [
    "precisions_SVC_med, recalls_SVC_med, thresholds_SVC_med = precision_recall_curve(y_train_med, \n",
    "                                                                                 y_scores_SVC_med)"
   ]
  },
  {
   "cell_type": "code",
   "execution_count": 37,
   "metadata": {},
   "outputs": [],
   "source": [
    "fpr_SVC_med, tpr_SVC_med, thresholds_roc_SVC_med = roc_curve(y_train_med, y_scores_SVC_med)"
   ]
  },
  {
   "cell_type": "code",
   "execution_count": 38,
   "metadata": {},
   "outputs": [],
   "source": [
    "PR_AUC_SVC_med = metrics.auc(recalls_SVC_med, precisions_SVC_med)"
   ]
  },
  {
   "cell_type": "markdown",
   "metadata": {},
   "source": [
    "### High Resolution"
   ]
  },
  {
   "cell_type": "code",
   "execution_count": 39,
   "metadata": {},
   "outputs": [
    {
     "data": {
      "image/png": "[encoded data removed]",
      "text/plain": [
       "<Figure size 576x504 with 2 Axes>"
      ]
     },
     "metadata": {
      "needs_background": "light"
     },
     "output_type": "display_data"
    },
    {
     "name": "stdout",
     "output_type": "stream",
     "text": [
      "Best Params: {'C': 32, 'gamma': 0.3} \n",
      "\n",
      "              precision    recall  f1-score   support\n",
      "\n",
      "           0       0.98      1.00      0.99       221\n",
      "           1       0.99      0.96      0.97       112\n",
      "\n",
      "   micro avg       0.98      0.98      0.98       333\n",
      "   macro avg       0.98      0.98      0.98       333\n",
      "weighted avg       0.98      0.98      0.98       333\n",
      "\n",
      "[[220   1]\n",
      " [  5 107]]\n"
     ]
    }
   ],
   "source": [
    "path_save = './results/graphics/SVC_H.pdf'\n",
    "best_params_SVC_high, report_SVC_high = SVM_rbf_clf(param_grid_svm_rbf, X_train_high, y_train_high, \n",
    "                                                    X_test_high, y_test_high, 0.6, 0.95, 1.0, path_save)"
   ]
  },
  {
   "cell_type": "code",
   "execution_count": 40,
   "metadata": {},
   "outputs": [],
   "source": [
    "clf_SVC_high = SVC(kernel='rbf', C=best_params_SVC_high['C'], gamma=best_params_SVC_high['gamma'])\n",
    "\n",
    "y_scores_SVC_high = cross_val_predict(clf_SVC_high, X_train_high, y_train_high, cv=5, \n",
    "                                         method='decision_function', n_jobs=-1)"
   ]
  },
  {
   "cell_type": "code",
   "execution_count": 41,
   "metadata": {},
   "outputs": [],
   "source": [
    "precisions_SVC_high, recalls_SVC_high, thresholds_SVC_high = precision_recall_curve(y_train_high, \n",
    "                                                                                    y_scores_SVC_high)"
   ]
  },
  {
   "cell_type": "code",
   "execution_count": 42,
   "metadata": {},
   "outputs": [],
   "source": [
    "fpr_SVC_high, tpr_SVC_high, thresholds_roc_SVC_high = roc_curve(y_train_high, y_scores_SVC_high)"
   ]
  },
  {
   "cell_type": "code",
   "execution_count": 43,
   "metadata": {},
   "outputs": [],
   "source": [
    "PR_AUC_SVC_high = metrics.auc(recalls_SVC_high, precisions_SVC_high)"
   ]
  },
  {
   "cell_type": "code",
   "execution_count": 44,
   "metadata": {},
   "outputs": [],
   "source": [
    "roc_auc_SVC_low = roc_auc_score(y_train_low, y_scores_SVC_low)\n",
    "roc_auc_SVC_med = roc_auc_score(y_train_med, y_scores_SVC_med)\n",
    "roc_auc_SVC_high = roc_auc_score(y_train_high, y_scores_SVC_high)"
   ]
  },
  {
   "cell_type": "markdown",
   "metadata": {},
   "source": [
    "# Random Forests"
   ]
  },
  {
   "cell_type": "code",
   "execution_count": 45,
   "metadata": {},
   "outputs": [
    {
     "name": "stdout",
     "output_type": "stream",
     "text": [
      "Parameters: {'n_estimators': [4, 8, 16, 32, 64, 128, 256, 512, 1024, 2048], 'max_features': [0.1, 0.2, 0.3, 0.4, 0.5, 0.6, 0.7, 0.8, 0.9, 1.0]}\n"
     ]
    }
   ],
   "source": [
    "max_features_params_rf = [np.round(10**-1 * i, decimals=2) for i in range(1, 11, 1)]\n",
    "param_grid_rf = {'n_estimators': [2**i for i in range(2, 12, 1)], 'max_features': max_features_params_rf}\n",
    "print('Parameters:', param_grid_rf)"
   ]
  },
  {
   "cell_type": "markdown",
   "metadata": {},
   "source": [
    "### Low Resolution"
   ]
  },
  {
   "cell_type": "code",
   "execution_count": 46,
   "metadata": {},
   "outputs": [
    {
     "data": {
      "image/png": "[encoded data removed]",
      "text/plain": [
       "<Figure size 576x504 with 2 Axes>"
      ]
     },
     "metadata": {
      "needs_background": "light"
     },
     "output_type": "display_data"
    },
    {
     "name": "stdout",
     "output_type": "stream",
     "text": [
      "Best Params: {'max_features': 0.2, 'n_estimators': 256} \n",
      "\n",
      "              precision    recall  f1-score   support\n",
      "\n",
      "           0       0.97      1.00      0.98       221\n",
      "           1       0.99      0.95      0.97       112\n",
      "\n",
      "   micro avg       0.98      0.98      0.98       333\n",
      "   macro avg       0.98      0.97      0.98       333\n",
      "weighted avg       0.98      0.98      0.98       333\n",
      "\n",
      "[[220   1]\n",
      " [  6 106]]\n"
     ]
    }
   ],
   "source": [
    "path_save = './results/graphics/RF_L.pdf'\n",
    "best_params_rf_low, report_rf_low = random_forests_clf(param_grid_rf, X_train_low, y_train_low, \n",
    "                                                       X_test_low, y_test_low, 0.9, 0.95, 1.0, path_save)"
   ]
  },
  {
   "cell_type": "code",
   "execution_count": 47,
   "metadata": {},
   "outputs": [],
   "source": [
    "clf_rf_low = RandomForestClassifier(random_state=42, n_estimators=best_params_rf_low['n_estimators'], \n",
    "                                     max_features=best_params_rf_low['max_features'])\n",
    "\n",
    "y_scores_rf_low = cross_val_predict(clf_rf_low, X_train_low, y_train_low, cv=5, \n",
    "                                     method='predict_proba', n_jobs=-1)"
   ]
  },
  {
   "cell_type": "code",
   "execution_count": 48,
   "metadata": {},
   "outputs": [],
   "source": [
    "precisions_rf_low, recalls_rf_low, thresholds_rf_low = precision_recall_curve(y_train_low, \n",
    "                                                                                 y_scores_rf_low[:,1])"
   ]
  },
  {
   "cell_type": "code",
   "execution_count": 49,
   "metadata": {},
   "outputs": [],
   "source": [
    "fpr_rf_low, tpr_rf_low, thresholds_roc_rf_low = roc_curve(y_train_low, y_scores_rf_low[:,1])"
   ]
  },
  {
   "cell_type": "code",
   "execution_count": 50,
   "metadata": {},
   "outputs": [],
   "source": [
    "PR_AUC_rf_low = metrics.auc(recalls_rf_low, precisions_rf_low)"
   ]
  },
  {
   "cell_type": "markdown",
   "metadata": {},
   "source": [
    "### Medium Resolution"
   ]
  },
  {
   "cell_type": "code",
   "execution_count": 51,
   "metadata": {},
   "outputs": [
    {
     "data": {
      "image/png": "[encoded data removed]",
      "text/plain": [
       "<Figure size 576x504 with 2 Axes>"
      ]
     },
     "metadata": {
      "needs_background": "light"
     },
     "output_type": "display_data"
    },
    {
     "name": "stdout",
     "output_type": "stream",
     "text": [
      "Best Params: {'max_features': 0.4, 'n_estimators': 1024} \n",
      "\n",
      "              precision    recall  f1-score   support\n",
      "\n",
      "           0       0.98      1.00      0.99       221\n",
      "           1       1.00      0.96      0.98       112\n",
      "\n",
      "   micro avg       0.98      0.98      0.98       333\n",
      "   macro avg       0.99      0.98      0.98       333\n",
      "weighted avg       0.99      0.98      0.98       333\n",
      "\n",
      "[[221   0]\n",
      " [  5 107]]\n"
     ]
    }
   ],
   "source": [
    "path_save = './results/graphics/RF_M.pdf'\n",
    "best_params_rf_med, report_rf_med = random_forests_clf(param_grid_rf, X_train_med, y_train_med, \n",
    "                                                       X_test_med, y_test_med, 0.9, 0.95, 1.0, path_save)"
   ]
  },
  {
   "cell_type": "code",
   "execution_count": 52,
   "metadata": {},
   "outputs": [],
   "source": [
    "clf_rf_med = RandomForestClassifier(random_state=42, n_estimators=best_params_rf_med['n_estimators'], \n",
    "                                     max_features=best_params_rf_med['max_features'])\n",
    "\n",
    "y_scores_rf_med = cross_val_predict(clf_rf_med, X_train_med, y_train_med, cv=5, \n",
    "                                         method='predict_proba', n_jobs=-1)"
   ]
  },
  {
   "cell_type": "code",
   "execution_count": 53,
   "metadata": {},
   "outputs": [],
   "source": [
    "precisions_rf_med, recalls_rf_med, thresholds_rf_med = precision_recall_curve(y_train_med, \n",
    "                                                                              y_scores_rf_med[:,1])"
   ]
  },
  {
   "cell_type": "code",
   "execution_count": 54,
   "metadata": {},
   "outputs": [],
   "source": [
    "fpr_rf_med, tpr_rf_med, thresholds_roc_rf_med = roc_curve(y_train_med, y_scores_rf_med[:,1])"
   ]
  },
  {
   "cell_type": "code",
   "execution_count": 55,
   "metadata": {},
   "outputs": [],
   "source": [
    "PR_AUC_rf_med = metrics.auc(recalls_rf_med, precisions_rf_med)"
   ]
  },
  {
   "cell_type": "markdown",
   "metadata": {},
   "source": [
    "### High Resolution"
   ]
  },
  {
   "cell_type": "code",
   "execution_count": 56,
   "metadata": {},
   "outputs": [
    {
     "data": {
      "image/png": "[encoded data removed]",
      "text/plain": [
       "<Figure size 576x504 with 2 Axes>"
      ]
     },
     "metadata": {
      "needs_background": "light"
     },
     "output_type": "display_data"
    },
    {
     "name": "stdout",
     "output_type": "stream",
     "text": [
      "Best Params: {'max_features': 0.7, 'n_estimators': 2048} \n",
      "\n",
      "              precision    recall  f1-score   support\n",
      "\n",
      "           0       0.97      1.00      0.98       221\n",
      "           1       0.99      0.95      0.97       112\n",
      "\n",
      "   micro avg       0.98      0.98      0.98       333\n",
      "   macro avg       0.98      0.97      0.98       333\n",
      "weighted avg       0.98      0.98      0.98       333\n",
      "\n",
      "[[220   1]\n",
      " [  6 106]]\n"
     ]
    }
   ],
   "source": [
    "path_save = './results/graphics/RF_H.pdf'\n",
    "best_params_rf_high, report_rf_high = random_forests_clf(param_grid_rf, X_train_high, y_train_high, \n",
    "                                                         X_test_high, y_test_high, 0.9, 0.95, 1.0, path_save)"
   ]
  },
  {
   "cell_type": "code",
   "execution_count": 57,
   "metadata": {},
   "outputs": [],
   "source": [
    "clf_rf_high = RandomForestClassifier(random_state=42, n_estimators=best_params_rf_high['n_estimators'], \n",
    "                                     max_features=best_params_rf_high['max_features'])\n",
    "\n",
    "y_scores_rf_high = cross_val_predict(clf_rf_high, X_train_high, y_train_high, cv=5, \n",
    "                                     method='predict_proba', n_jobs=-1)"
   ]
  },
  {
   "cell_type": "code",
   "execution_count": 58,
   "metadata": {},
   "outputs": [],
   "source": [
    "precisions_rf_high, recalls_rf_high, thresholds_rf_high = precision_recall_curve(y_train_high, \n",
    "                                                                                y_scores_rf_high[:,1])"
   ]
  },
  {
   "cell_type": "code",
   "execution_count": 59,
   "metadata": {},
   "outputs": [],
   "source": [
    "fpr_rf_high, tpr_rf_high, thresholds_roc_rf_high = roc_curve(y_train_high, y_scores_rf_high[:,1])"
   ]
  },
  {
   "cell_type": "code",
   "execution_count": 60,
   "metadata": {},
   "outputs": [],
   "source": [
    "PR_AUC_rf_high = metrics.auc(recalls_rf_high, precisions_rf_high)"
   ]
  },
  {
   "cell_type": "code",
   "execution_count": 61,
   "metadata": {},
   "outputs": [],
   "source": [
    "roc_auc_rf_low = roc_auc_score(y_train_low, y_scores_rf_low[:,1])\n",
    "roc_auc_rf_med = roc_auc_score(y_train_med, y_scores_rf_med[:,1])\n",
    "roc_auc_rf_high = roc_auc_score(y_train_high, y_scores_rf_high[:,1])"
   ]
  },
  {
   "cell_type": "markdown",
   "metadata": {},
   "source": [
    "## Multilayer Perceptron - Red Neuronal"
   ]
  },
  {
   "cell_type": "code",
   "execution_count": 62,
   "metadata": {},
   "outputs": [
    {
     "name": "stdout",
     "output_type": "stream",
     "text": [
      "Parameters: {'alpha': [0.02, 0.05, 0.08, 0.1, 0.12, 0.15, 0.18, 0.2, 0.22, 0.25], 'hidden_layer_sizes': [4, 8, 16, 32, 64, 128, 256, 512, 1024, 2048]}\n"
     ]
    }
   ],
   "source": [
    "param_grid_mlp = {'alpha': [np.round(10**-1/4 * i, decimals=2) for i in range(1, 11, 1)], \n",
    "                  'hidden_layer_sizes': [2**i for i in range(2, 12, 1)]}\n",
    "print('Parameters:', param_grid_mlp)"
   ]
  },
  {
   "cell_type": "markdown",
   "metadata": {},
   "source": [
    "### Low Resolution"
   ]
  },
  {
   "cell_type": "code",
   "execution_count": 63,
   "metadata": {},
   "outputs": [
    {
     "data": {
      "image/png": "[encoded data removed]",
      "text/plain": [
       "<Figure size 576x504 with 2 Axes>"
      ]
     },
     "metadata": {
      "needs_background": "light"
     },
     "output_type": "display_data"
    },
    {
     "name": "stdout",
     "output_type": "stream",
     "text": [
      "Best Params: {'alpha': 0.1, 'hidden_layer_sizes': 2048} \n",
      "\n",
      "              precision    recall  f1-score   support\n",
      "\n",
      "           0       0.96      0.99      0.98       221\n",
      "           1       0.98      0.93      0.95       112\n",
      "\n",
      "   micro avg       0.97      0.97      0.97       333\n",
      "   macro avg       0.97      0.96      0.97       333\n",
      "weighted avg       0.97      0.97      0.97       333\n",
      "\n",
      "[[219   2]\n",
      " [  8 104]]\n"
     ]
    }
   ],
   "source": [
    "path_save = './results/graphics/MLP_L.pdf'\n",
    "best_params_mlp_low, report_mlp_low = mlp_clf(param_grid_mlp, X_train_low, y_train_low, X_test_low, \n",
    "                                              y_test_low, 0.9, 0.95, 1.0, path_save)"
   ]
  },
  {
   "cell_type": "code",
   "execution_count": 64,
   "metadata": {},
   "outputs": [],
   "source": [
    "clf_mlp_low = MLPClassifier(random_state=42, max_iter=1200, alpha=best_params_mlp_low['alpha'], \n",
    "                            hidden_layer_sizes=best_params_mlp_low['hidden_layer_sizes'])\n",
    "\n",
    "y_scores_mlp_low = cross_val_predict(clf_mlp_low, X_train_low, y_train_low, cv=5, \n",
    "                                     method='predict_proba', n_jobs=-1)"
   ]
  },
  {
   "cell_type": "code",
   "execution_count": 65,
   "metadata": {},
   "outputs": [],
   "source": [
    "precisions_mlp_low, recalls_mlp_low, thresholds_mlp_low = precision_recall_curve(y_train_low, \n",
    "                                                                                 y_scores_mlp_low[:,1])"
   ]
  },
  {
   "cell_type": "code",
   "execution_count": 66,
   "metadata": {},
   "outputs": [],
   "source": [
    "fpr_mlp_low, tpr_mlp_low, thresholds_roc_mlp_low = roc_curve(y_train_low, y_scores_mlp_low[:,1])"
   ]
  },
  {
   "cell_type": "code",
   "execution_count": 67,
   "metadata": {},
   "outputs": [],
   "source": [
    "PR_AUC_mlp_low = metrics.auc(recalls_mlp_low, precisions_mlp_low)"
   ]
  },
  {
   "cell_type": "markdown",
   "metadata": {},
   "source": [
    "### Medium Resolution"
   ]
  },
  {
   "cell_type": "code",
   "execution_count": 68,
   "metadata": {},
   "outputs": [
    {
     "data": {
      "image/png": "[encoded data removed]",
      "text/plain": [
       "<Figure size 576x504 with 2 Axes>"
      ]
     },
     "metadata": {
      "needs_background": "light"
     },
     "output_type": "display_data"
    },
    {
     "name": "stdout",
     "output_type": "stream",
     "text": [
      "Best Params: {'alpha': 0.22, 'hidden_layer_sizes': 2048} \n",
      "\n",
      "              precision    recall  f1-score   support\n",
      "\n",
      "           0       0.99      0.99      0.99       221\n",
      "           1       0.98      0.97      0.98       112\n",
      "\n",
      "   micro avg       0.98      0.98      0.98       333\n",
      "   macro avg       0.98      0.98      0.98       333\n",
      "weighted avg       0.98      0.98      0.98       333\n",
      "\n",
      "[[219   2]\n",
      " [  3 109]]\n"
     ]
    }
   ],
   "source": [
    "path_save = './results/graphics/MLP_M.pdf'\n",
    "best_params_mlp_med, report_mlp_med = mlp_clf(param_grid_mlp, X_train_med, y_train_med, X_test_med, \n",
    "                                              y_test_med, 0.9, 0.95, 1.0, path_save)"
   ]
  },
  {
   "cell_type": "code",
   "execution_count": 69,
   "metadata": {},
   "outputs": [],
   "source": [
    "clf_mlp_med = MLPClassifier(random_state=42, max_iter=1200, alpha=best_params_mlp_med['alpha'], \n",
    "                            hidden_layer_sizes=best_params_mlp_med['hidden_layer_sizes'])\n",
    "\n",
    "y_scores_mlp_med = cross_val_predict(clf_mlp_med, X_train_med, y_train_med, cv=5, \n",
    "                                         method='predict_proba', n_jobs=-1)"
   ]
  },
  {
   "cell_type": "code",
   "execution_count": 70,
   "metadata": {},
   "outputs": [],
   "source": [
    "precisions_mlp_med, recalls_mlp_med, thresholds_mlp_med = precision_recall_curve(y_train_med, \n",
    "                                                                                 y_scores_mlp_med[:,1])"
   ]
  },
  {
   "cell_type": "code",
   "execution_count": 71,
   "metadata": {},
   "outputs": [],
   "source": [
    "fpr_mlp_med, tpr_mlp_med, thresholds_roc_mlp_med = roc_curve(y_train_med, y_scores_mlp_med[:,1])"
   ]
  },
  {
   "cell_type": "code",
   "execution_count": 72,
   "metadata": {},
   "outputs": [],
   "source": [
    "PR_AUC_mlp_med = metrics.auc(recalls_mlp_med, precisions_mlp_med)"
   ]
  },
  {
   "cell_type": "markdown",
   "metadata": {},
   "source": [
    "### High Resolution"
   ]
  },
  {
   "cell_type": "code",
   "execution_count": 73,
   "metadata": {},
   "outputs": [
    {
     "data": {
      "image/png": "[encoded data removed]",
      "text/plain": [
       "<Figure size 576x504 with 2 Axes>"
      ]
     },
     "metadata": {
      "needs_background": "light"
     },
     "output_type": "display_data"
    },
    {
     "name": "stdout",
     "output_type": "stream",
     "text": [
      "Best Params: {'alpha': 0.02, 'hidden_layer_sizes': 1024} \n",
      "\n",
      "              precision    recall  f1-score   support\n",
      "\n",
      "           0       0.98      0.99      0.98       221\n",
      "           1       0.97      0.96      0.97       112\n",
      "\n",
      "   micro avg       0.98      0.98      0.98       333\n",
      "   macro avg       0.98      0.98      0.98       333\n",
      "weighted avg       0.98      0.98      0.98       333\n",
      "\n",
      "[[218   3]\n",
      " [  4 108]]\n"
     ]
    }
   ],
   "source": [
    "path_save = './results/graphics/MLP_H.pdf'\n",
    "best_params_mlp_high, report_mlp_high = mlp_clf(param_grid_mlp, X_train_high, y_train_high,X_test_high, \n",
    "                                                y_test_high, 0.9, 0.95, 1.0, path_save)"
   ]
  },
  {
   "cell_type": "code",
   "execution_count": 74,
   "metadata": {},
   "outputs": [],
   "source": [
    "clf_mlp_high = MLPClassifier(random_state=42, max_iter=1200, alpha=best_params_mlp_high['alpha'], \n",
    "                             hidden_layer_sizes=best_params_mlp_high['hidden_layer_sizes'])\n",
    "\n",
    "y_scores_mlp_high = cross_val_predict(clf_mlp_high, X_train_high, y_train_high, cv=5, \n",
    "                                          method='predict_proba', n_jobs=-1)"
   ]
  },
  {
   "cell_type": "code",
   "execution_count": 75,
   "metadata": {},
   "outputs": [],
   "source": [
    "precisions_mlp_high, recalls_mlp_high, thresholds_mlp_high = precision_recall_curve(y_train_high, \n",
    "                                                                                    y_scores_mlp_high[:,1])"
   ]
  },
  {
   "cell_type": "code",
   "execution_count": 76,
   "metadata": {},
   "outputs": [],
   "source": [
    "fpr_mlp_high, tpr_mlp_high, thresholds_roc_mlp_high = roc_curve(y_train_high, y_scores_mlp_high[:,1])"
   ]
  },
  {
   "cell_type": "code",
   "execution_count": 77,
   "metadata": {},
   "outputs": [],
   "source": [
    "PR_AUC_mlp_high = metrics.auc(recalls_mlp_high, precisions_mlp_high)"
   ]
  },
  {
   "cell_type": "code",
   "execution_count": 78,
   "metadata": {},
   "outputs": [],
   "source": [
    "roc_auc_mlp_low = roc_auc_score(y_train_low, y_scores_mlp_low[:,1])\n",
    "roc_auc_mlp_med = roc_auc_score(y_train_med, y_scores_mlp_med[:,1])\n",
    "roc_auc_mlp_high = roc_auc_score(y_train_high, y_scores_mlp_high[:,1])"
   ]
  },
  {
   "cell_type": "markdown",
   "metadata": {},
   "source": [
    "# Training Process Time"
   ]
  },
  {
   "cell_type": "code",
   "execution_count": 79,
   "metadata": {},
   "outputs": [],
   "source": [
    "loops_number = 1000"
   ]
  },
  {
   "cell_type": "markdown",
   "metadata": {},
   "source": [
    "## Logistic Regression"
   ]
  },
  {
   "cell_type": "code",
   "execution_count": 80,
   "metadata": {},
   "outputs": [
    {
     "data": {
      "text/plain": [
       "{'C': 1.0}"
      ]
     },
     "execution_count": 80,
     "metadata": {},
     "output_type": "execute_result"
    }
   ],
   "source": [
    "best_params_log_reg_low"
   ]
  },
  {
   "cell_type": "code",
   "execution_count": 81,
   "metadata": {},
   "outputs": [],
   "source": [
    "clf_log_reg_low = LogisticRegression(solver= 'liblinear', C=best_params_log_reg_low['C'])\n",
    "clf_log_reg_med = LogisticRegression(solver= 'liblinear', C=best_params_log_reg_med['C'])\n",
    "clf_log_reg_high = LogisticRegression(solver= 'liblinear', C=best_params_log_reg_high['C'])"
   ]
  },
  {
   "cell_type": "code",
   "execution_count": 82,
   "metadata": {},
   "outputs": [
    {
     "data": {
      "text/plain": [
       "0.002187662816999989"
      ]
     },
     "execution_count": 82,
     "metadata": {},
     "output_type": "execute_result"
    }
   ],
   "source": [
    "t_start = process_time()\n",
    "for i in range(loops_number):\n",
    "    clf_log_reg_low.fit(X_train_low, y_train_low)\n",
    "t_stop = process_time()\n",
    "t_log_reg_low = (t_stop-t_start)/loops_number\n",
    "t_log_reg_low"
   ]
  },
  {
   "cell_type": "code",
   "execution_count": 83,
   "metadata": {},
   "outputs": [
    {
     "data": {
      "text/plain": [
       "0.002080855536999991"
      ]
     },
     "execution_count": 83,
     "metadata": {},
     "output_type": "execute_result"
    }
   ],
   "source": [
    "t_start = process_time()\n",
    "for i in range(loops_number):\n",
    "    clf_log_reg_low.fit(X_train_low, y_train_low)\n",
    "t_stop = process_time()\n",
    "t_log_reg_med = (t_stop-t_start)/loops_number\n",
    "t_log_reg_med"
   ]
  },
  {
   "cell_type": "code",
   "execution_count": 84,
   "metadata": {},
   "outputs": [
    {
     "data": {
      "text/plain": [
       "0.0020376224720000096"
      ]
     },
     "execution_count": 84,
     "metadata": {},
     "output_type": "execute_result"
    }
   ],
   "source": [
    "t_start = process_time()\n",
    "for i in range(loops_number):\n",
    "    clf_log_reg_low.fit(X_train_low, y_train_low)\n",
    "t_stop = process_time()\n",
    "t_log_reg_high = (t_stop-t_start)/loops_number\n",
    "t_log_reg_high"
   ]
  },
  {
   "cell_type": "markdown",
   "metadata": {},
   "source": [
    "## Support Vector Machine"
   ]
  },
  {
   "cell_type": "code",
   "execution_count": 85,
   "metadata": {},
   "outputs": [
    {
     "data": {
      "text/plain": [
       "{'C': 64, 'gamma': 0.8}"
      ]
     },
     "execution_count": 85,
     "metadata": {},
     "output_type": "execute_result"
    }
   ],
   "source": [
    "best_params_SVC_low"
   ]
  },
  {
   "cell_type": "code",
   "execution_count": 86,
   "metadata": {},
   "outputs": [],
   "source": [
    "clf_svm_rbf_low = SVC(kernel='rbf', C=best_params_SVC_low['C'], gamma=best_params_SVC_low['gamma'])\n",
    "clf_svm_rbf_med = SVC(kernel='rbf', C=best_params_SVC_med['C'], gamma=best_params_SVC_med['gamma'])\n",
    "clf_svm_rbf_high = SVC(kernel='rbf', C=best_params_SVC_high['C'], gamma=best_params_SVC_high['gamma'])"
   ]
  },
  {
   "cell_type": "code",
   "execution_count": 87,
   "metadata": {},
   "outputs": [
    {
     "data": {
      "text/plain": [
       "0.008896383869999965"
      ]
     },
     "execution_count": 87,
     "metadata": {},
     "output_type": "execute_result"
    }
   ],
   "source": [
    "t_start = process_time()\n",
    "for i in range(loops_number):\n",
    "    clf_svm_rbf_low.fit(X_train_low, y_train_low)\n",
    "t_stop = process_time()\n",
    "t_SVC_low = (t_stop-t_start)/loops_number\n",
    "t_SVC_low"
   ]
  },
  {
   "cell_type": "code",
   "execution_count": 88,
   "metadata": {},
   "outputs": [
    {
     "data": {
      "text/plain": [
       "0.013993172913000023"
      ]
     },
     "execution_count": 88,
     "metadata": {},
     "output_type": "execute_result"
    }
   ],
   "source": [
    "t_start = process_time()\n",
    "for i in range(loops_number):\n",
    "    clf_svm_rbf_med.fit(X_train_med, y_train_med)\n",
    "t_stop = process_time()\n",
    "t_SVC_med = (t_stop-t_start)/loops_number\n",
    "t_SVC_med"
   ]
  },
  {
   "cell_type": "code",
   "execution_count": 89,
   "metadata": {},
   "outputs": [
    {
     "data": {
      "text/plain": [
       "0.03580700084900002"
      ]
     },
     "execution_count": 89,
     "metadata": {},
     "output_type": "execute_result"
    }
   ],
   "source": [
    "t_start = process_time()\n",
    "for i in range(loops_number):\n",
    "    clf_svm_rbf_high.fit(X_train_high, y_train_high)\n",
    "t_stop = process_time()\n",
    "t_SVC_high = (t_stop-t_start)/loops_number\n",
    "t_SVC_high"
   ]
  },
  {
   "cell_type": "markdown",
   "metadata": {},
   "source": [
    "## Random Forests"
   ]
  },
  {
   "cell_type": "code",
   "execution_count": 90,
   "metadata": {},
   "outputs": [
    {
     "data": {
      "text/plain": [
       "{'max_features': 0.2, 'n_estimators': 256}"
      ]
     },
     "execution_count": 90,
     "metadata": {},
     "output_type": "execute_result"
    }
   ],
   "source": [
    "best_params_rf_low"
   ]
  },
  {
   "cell_type": "code",
   "execution_count": 91,
   "metadata": {},
   "outputs": [],
   "source": [
    "clf_rf_low = RandomForestClassifier(random_state=42, max_features=best_params_rf_low['max_features'], \n",
    "                                    n_estimators=best_params_rf_low['n_estimators'])\n",
    "clf_rf_med = RandomForestClassifier(random_state=42, max_features=best_params_rf_med['max_features'], \n",
    "                                    n_estimators=best_params_rf_low['n_estimators'])\n",
    "clf_rf_high = RandomForestClassifier(random_state=42, max_features=best_params_rf_high['max_features'], \n",
    "                                    n_estimators=best_params_rf_low['n_estimators'])"
   ]
  },
  {
   "cell_type": "code",
   "execution_count": 92,
   "metadata": {},
   "outputs": [
    {
     "data": {
      "text/plain": [
       "0.4204830062120001"
      ]
     },
     "execution_count": 92,
     "metadata": {},
     "output_type": "execute_result"
    }
   ],
   "source": [
    "t_start = process_time()\n",
    "for i in range(loops_number):\n",
    "    clf_rf_low.fit(X_train_low, y_train_low)\n",
    "t_stop = process_time()\n",
    "t_rf_low = (t_stop-t_start)/loops_number\n",
    "t_rf_low"
   ]
  },
  {
   "cell_type": "code",
   "execution_count": 93,
   "metadata": {},
   "outputs": [
    {
     "data": {
      "text/plain": [
       "1.5768309626680002"
      ]
     },
     "execution_count": 93,
     "metadata": {},
     "output_type": "execute_result"
    }
   ],
   "source": [
    "t_start = process_time()\n",
    "for i in range(loops_number):\n",
    "    clf_rf_med.fit(X_train_med, y_train_med)\n",
    "t_stop = process_time()\n",
    "t_rf_med = (t_stop-t_start)/loops_number\n",
    "t_rf_med"
   ]
  },
  {
   "cell_type": "code",
   "execution_count": 94,
   "metadata": {},
   "outputs": [
    {
     "data": {
      "text/plain": [
       "9.725773181820001"
      ]
     },
     "execution_count": 94,
     "metadata": {},
     "output_type": "execute_result"
    }
   ],
   "source": [
    "t_start = process_time()\n",
    "for i in range(loops_number):\n",
    "    clf_rf_high.fit(X_train_high, y_train_high)\n",
    "t_stop = process_time()\n",
    "t_rf_high = (t_stop-t_start)/loops_number\n",
    "t_rf_high"
   ]
  },
  {
   "cell_type": "markdown",
   "metadata": {},
   "source": [
    "## Multilayer Perceptron "
   ]
  },
  {
   "cell_type": "code",
   "execution_count": 95,
   "metadata": {},
   "outputs": [
    {
     "data": {
      "text/plain": [
       "{'alpha': 0.1, 'hidden_layer_sizes': 2048}"
      ]
     },
     "execution_count": 95,
     "metadata": {},
     "output_type": "execute_result"
    }
   ],
   "source": [
    "best_params_mlp_low"
   ]
  },
  {
   "cell_type": "code",
   "execution_count": 96,
   "metadata": {},
   "outputs": [],
   "source": [
    "clf_mlp_low = MLPClassifier(random_state=42, max_iter=250, alpha= best_params_mlp_low['alpha'], \n",
    "                            hidden_layer_sizes=best_params_mlp_low['hidden_layer_sizes'])\n",
    "clf_mlp_med = MLPClassifier(random_state=42, max_iter=250, alpha= best_params_mlp_med['alpha'], \n",
    "                            hidden_layer_sizes=best_params_mlp_med['hidden_layer_sizes'])\n",
    "clf_mlp_high = MLPClassifier(random_state=42, max_iter=250, alpha= best_params_mlp_high['alpha'], \n",
    "                            hidden_layer_sizes=best_params_mlp_high['hidden_layer_sizes'])"
   ]
  },
  {
   "cell_type": "code",
   "execution_count": 97,
   "metadata": {},
   "outputs": [
    {
     "data": {
      "text/plain": [
       "13.524335880695002"
      ]
     },
     "execution_count": 97,
     "metadata": {},
     "output_type": "execute_result"
    }
   ],
   "source": [
    "t_start = process_time()\n",
    "for i in range(loops_number):\n",
    "    clf_mlp_low.fit(X_train_low, y_train_low)\n",
    "t_stop = process_time()\n",
    "t_mlp_low = (t_stop-t_start)/loops_number\n",
    "t_mlp_low"
   ]
  },
  {
   "cell_type": "code",
   "execution_count": 98,
   "metadata": {},
   "outputs": [
    {
     "data": {
      "text/plain": [
       "19.396824881849998"
      ]
     },
     "execution_count": 98,
     "metadata": {},
     "output_type": "execute_result"
    }
   ],
   "source": [
    "t_start = process_time()\n",
    "for i in range(loops_number):\n",
    "    clf_mlp_med.fit(X_train_med, y_train_med)\n",
    "t_stop = process_time()\n",
    "t_mlp_med = (t_stop-t_start)/loops_number\n",
    "t_mlp_med"
   ]
  },
  {
   "cell_type": "code",
   "execution_count": 99,
   "metadata": {},
   "outputs": [
    {
     "data": {
      "text/plain": [
       "21.145743477225004"
      ]
     },
     "execution_count": 99,
     "metadata": {},
     "output_type": "execute_result"
    }
   ],
   "source": [
    "t_start = process_time()\n",
    "for i in range(loops_number):\n",
    "    clf_mlp_high.fit(X_train_high, y_train_high)\n",
    "t_stop = process_time()\n",
    "t_mlp_high = (t_stop-t_start)/loops_number\n",
    "t_mlp_high"
   ]
  },
  {
   "cell_type": "markdown",
   "metadata": {},
   "source": [
    "# Save Data"
   ]
  },
  {
   "cell_type": "code",
   "execution_count": 100,
   "metadata": {},
   "outputs": [],
   "source": [
    "index_df = ['Best_Params', 'Report', 'Precisions', 'Recalls', 'Thresholds', 'False_Positives_Rate',\n",
    "            'True_Positive_Rate', 'Thresholds_ROC', 'ROC_AUC', 'Processing_Time', 'PR_AUC']"
   ]
  },
  {
   "cell_type": "code",
   "execution_count": 101,
   "metadata": {},
   "outputs": [],
   "source": [
    "df_low = pd.DataFrame(index=index_df)\n",
    "\n",
    "df_low['LR'] = [best_params_log_reg_low, report_log_reg_low, \n",
    "                     precisions_log_reg_low[:-1].tolist(), recalls_log_reg_low[:-1].tolist(), thresholds_log_reg_low.tolist(),\n",
    "                     fpr_log_reg_low.tolist(), tpr_log_reg_low.tolist(), thresholds_roc_log_reg_low.tolist(),\n",
    "                     roc_auc_log_reg_low, t_log_reg_low, PR_AUC_log_reg_low]\n",
    "\n",
    "df_low['SVC'] = [best_params_SVC_low, report_SVC_low,\n",
    "                 precisions_SVC_low[:-1].tolist(), recalls_SVC_low.tolist()[:-1], thresholds_SVC_low.tolist(),\n",
    "                 fpr_SVC_low.tolist(), tpr_SVC_low.tolist(), thresholds_roc_SVC_low.tolist(),\n",
    "                 roc_auc_SVC_low, t_SVC_low, PR_AUC_SVC_low]\n",
    "\n",
    "df_low['RF'] = [best_params_rf_low, report_rf_low,\n",
    "                precisions_rf_low[:-1].tolist(), recalls_rf_low.tolist()[:-1], thresholds_rf_low.tolist(),\n",
    "                fpr_rf_low.tolist(), tpr_rf_low.tolist(), thresholds_roc_rf_low.tolist(),\n",
    "                roc_auc_rf_low, t_rf_low, PR_AUC_rf_low]\n",
    "\n",
    "df_low['MLP'] = [best_params_mlp_low, report_mlp_low,\n",
    "                 precisions_mlp_low[:-1].tolist(), recalls_mlp_low[:-1].tolist(), thresholds_mlp_low.tolist(),\n",
    "                 fpr_mlp_low.tolist(), tpr_mlp_low.tolist(), thresholds_roc_mlp_low.tolist(),\n",
    "                 roc_auc_mlp_low, t_mlp_low, PR_AUC_mlp_low]"
   ]
  },
  {
   "cell_type": "code",
   "execution_count": 102,
   "metadata": {},
   "outputs": [],
   "source": [
    "df_med = pd.DataFrame(index=index_df)\n",
    "\n",
    "df_med['LR'] = [best_params_log_reg_med, report_log_reg_med, \n",
    "                     precisions_log_reg_med[:-1].tolist(), recalls_log_reg_med[:-1].tolist(), thresholds_log_reg_med.tolist(),\n",
    "                     fpr_log_reg_med.tolist(), tpr_log_reg_med.tolist(), thresholds_roc_log_reg_med.tolist(),\n",
    "                     roc_auc_log_reg_med, t_log_reg_med, PR_AUC_log_reg_med]\n",
    "\n",
    "df_med['SVC'] = [best_params_SVC_med, report_SVC_med,\n",
    "                 precisions_SVC_med[:-1].tolist(), recalls_SVC_med[:-1].tolist(), thresholds_SVC_med.tolist(),\n",
    "                 fpr_SVC_med.tolist(), tpr_SVC_med.tolist(), thresholds_roc_SVC_med.tolist(),\n",
    "                 roc_auc_SVC_med, t_SVC_med, PR_AUC_SVC_med]\n",
    "\n",
    "df_med['RF'] = [best_params_rf_med, report_rf_med,\n",
    "                precisions_rf_med.tolist()[:-1], recalls_rf_med[:-1].tolist(), thresholds_rf_med.tolist(), \n",
    "                fpr_rf_med.tolist(), tpr_rf_med.tolist(), thresholds_roc_rf_med.tolist(),\n",
    "                roc_auc_rf_med, t_rf_med, PR_AUC_rf_med]\n",
    "\n",
    "df_med['MLP'] = [best_params_mlp_med, report_mlp_med,\n",
    "                 precisions_mlp_med[:-1].tolist(), recalls_mlp_med[:-1].tolist(), thresholds_mlp_med.tolist(), \n",
    "                 fpr_mlp_med.tolist(), tpr_mlp_med.tolist(), thresholds_roc_mlp_med.tolist(),\n",
    "                 roc_auc_mlp_med, t_mlp_med, PR_AUC_mlp_med]"
   ]
  },
  {
   "cell_type": "code",
   "execution_count": 103,
   "metadata": {},
   "outputs": [],
   "source": [
    "df_high = pd.DataFrame(index=index_df)\n",
    "\n",
    "df_high['LR'] = [best_params_log_reg_high, report_log_reg_high, \n",
    "                      precisions_log_reg_high[:-1].tolist(), recalls_log_reg_high[:-1].tolist(), thresholds_log_reg_high.tolist(),\n",
    "                      fpr_log_reg_high.tolist(), tpr_log_reg_high.tolist(), thresholds_roc_log_reg_high.tolist(),\n",
    "                      roc_auc_log_reg_high, t_log_reg_high, PR_AUC_log_reg_high]\n",
    "\n",
    "df_high['SVC'] = [best_params_SVC_high, report_SVC_high,\n",
    "                  precisions_SVC_high[:-1].tolist(), recalls_SVC_high[:-1].tolist(), thresholds_SVC_high.tolist(),\n",
    "                  fpr_SVC_high.tolist(), tpr_SVC_high.tolist(), thresholds_roc_SVC_high.tolist(),\n",
    "                  roc_auc_SVC_high, t_SVC_high, PR_AUC_SVC_high]\n",
    "\n",
    "df_high['RF'] = [best_params_rf_high, report_rf_high,\n",
    "                 precisions_rf_high[:-1].tolist(), recalls_rf_high[:-1].tolist(), thresholds_rf_high.tolist(),\n",
    "                 fpr_rf_high.tolist(), tpr_rf_high.tolist(), thresholds_roc_rf_high.tolist(),\n",
    "                 roc_auc_rf_high, t_rf_high, PR_AUC_rf_high]\n",
    "\n",
    "df_high['MLP'] = [best_params_mlp_high, report_mlp_high,\n",
    "                  precisions_mlp_high[:-1].tolist(), recalls_mlp_high[:-1].tolist(), thresholds_mlp_high.tolist(),\n",
    "                  fpr_mlp_high.tolist(), tpr_mlp_high.tolist(), thresholds_roc_mlp_high.tolist(),\n",
    "                  roc_auc_mlp_high, t_mlp_high, PR_AUC_mlp_high]"
   ]
  },
  {
   "cell_type": "code",
   "execution_count": 104,
   "metadata": {},
   "outputs": [],
   "source": [
    "path_low = './results/df_low.csv'\n",
    "path_med = './results//df_med.csv'\n",
    "path_high = './results/df_high.csv'"
   ]
  },
  {
   "cell_type": "code",
   "execution_count": 105,
   "metadata": {},
   "outputs": [],
   "source": [
    "df_low.to_csv(path_low, index=True)\n",
    "df_med.to_csv(path_med, index=True)\n",
    "df_high.to_csv(path_high, index=True)"
   ]
  },
  {
   "cell_type": "code",
   "execution_count": null,
   "metadata": {},
   "outputs": [],
   "source": []
  }
 ],
 "metadata": {
  "kernelspec": {
   "display_name": "Python 3",
   "language": "python",
   "name": "python3"
  },
  "language_info": {
   "codemirror_mode": {
    "name": "ipython",
    "version": 3
   },
   "file_extension": ".py",
   "mimetype": "text/x-python",
   "name": "python",
   "nbconvert_exporter": "python",
   "pygments_lexer": "ipython3",
   "version": "3.7.3"
  }
 },
 "nbformat": 4,
 "nbformat_minor": 2
}
